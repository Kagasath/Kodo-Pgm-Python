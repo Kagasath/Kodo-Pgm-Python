{
 "cells": [
  {
   "cell_type": "code",
   "execution_count": null,
   "id": "b0c3fa12-95c9-4d85-860b-6b212eeb8b0c",
   "metadata": {},
   "outputs": [],
   "source": [
    "# try except - run time error handling"
   ]
  },
  {
   "cell_type": "code",
   "execution_count": 21,
   "id": "ec357d4f-182b-4e1a-bee0-dcbfa9b71e07",
   "metadata": {},
   "outputs": [
    {
     "name": "stdin",
     "output_type": "stream",
     "text": [
      "Enter the number \n"
     ]
    },
    {
     "name": "stdout",
     "output_type": "stream",
     "text": [
      "ValueError:Enter the valid input:\n",
      "Block of code is excecuted\n"
     ]
    }
   ],
   "source": [
    "try:\n",
    "    n= int(input(\"Enter the number\"))\n",
    "except ValueError:           #exception using ValueError function\n",
    "    print(\"ValueError:Enter the valid input:\")\n",
    "except Exception as e:       #exception for other Values\n",
    "    print(e)\n",
    "else:                        #else excecutes when try condition satisfies. It is useful for the code to run only if try condition satisfies.This block is optional\n",
    "    print(\"Code executed successfully\")\n",
    "finally:                     #This block is optional.\n",
    "    print(\"Block of code is excecuted\")\n",
    "\n",
    "    "
   ]
  },
  {
   "cell_type": "code",
   "execution_count": 24,
   "id": "5d6097a5-d4d6-4245-af93-e9bd075f4953",
   "metadata": {},
   "outputs": [
    {
     "name": "stdin",
     "output_type": "stream",
     "text": [
      "Enter the number 4\n",
      "Enter the number a\n"
     ]
    },
    {
     "name": "stdout",
     "output_type": "stream",
     "text": [
      "ValueError:Enter the valid input:\n",
      "Block of code is excecuted\n"
     ]
    }
   ],
   "source": [
    "try:\n",
    "    n= int(input(\"Enter the number\"))\n",
    "    d= int(input(\"Enter the number\"))\n",
    "    value=n/d\n",
    "    print(value)\n",
    "except ValueError:           #exception using ValueError function\n",
    "    print(\"ValueError:Enter the valid input:\")\n",
    "except ZeroDivisionError:           #exception using ZeroError function\n",
    "    print(\"ZeroDivisionError:Enter the valid input:\")\n",
    "except Exception as e:       #exception for other Values\n",
    "    print(e)\n",
    "else:                        #else excecutes when try condition satisfies. This block is optional\n",
    "    print(\"Code executed successfully\")\n",
    "finally:                     #This block is optional.\n",
    "    print(\"Block of code is excecuted\")\n",
    "\n",
    "    "
   ]
  },
  {
   "cell_type": "markdown",
   "id": "6f13ce4b-b60a-4c8d-89df-d0462f5bfdc5",
   "metadata": {},
   "source": [
    "# raise exception"
   ]
  },
  {
   "cell_type": "code",
   "execution_count": null,
   "id": "b36e9bd4-5f1f-4ad8-867e-a0ad07155211",
   "metadata": {},
   "outputs": [],
   "source": [
    "#To throw (or raise) an exception, use the raise keyword.\n",
    "x = -1\n",
    "if x < 0:\n",
    "  raise Exception(\"Sorry, no numbers below zero\")\n",
    "\n"
   ]
  },
  {
   "cell_type": "markdown",
   "id": "8db87081-059e-4b35-b134-6aa6ec294d74",
   "metadata": {},
   "source": [
    "# for...else for loop can optionally be followed by an else block. This else block executes only if the for loop completes all its iterations without encountering a break statement"
   ]
  },
  {
   "cell_type": "markdown",
   "id": "5126af48-edb6-4f21-84b4-ad098143430d",
   "metadata": {},
   "source": [
    "# for...else"
   ]
  },
  {
   "cell_type": "code",
   "execution_count": 27,
   "id": "50dcb7ef-6779-41a6-a973-9ad582b0c8a3",
   "metadata": {},
   "outputs": [
    {
     "name": "stdin",
     "output_type": "stream",
     "text": [
      "Enter the number: 6\n"
     ]
    },
    {
     "name": "stdout",
     "output_type": "stream",
     "text": [
      "6 not found in the list.\n"
     ]
    }
   ],
   "source": [
    "numbers = [1, 3, 5, 7, 9]\n",
    "search_value = int(input(\"Enter the number:\"))\n",
    "for num in numbers:\n",
    "    if num == search_value:\n",
    "        print(f\"Found {search_value} in the list.\")\n",
    "        break\n",
    "else:\n",
    "    print(f\"{search_value} not found in the list.\")\n"
   ]
  },
  {
   "cell_type": "code",
   "execution_count": 28,
   "id": "5f49cf43-0f4f-4b9b-84f5-78fffc8df29f",
   "metadata": {},
   "outputs": [
    {
     "name": "stdout",
     "output_type": "stream",
     "text": [
      "0\n",
      "1\n",
      "2\n",
      "3\n",
      "4\n",
      "5\n",
      "6\n",
      "7\n",
      "8\n",
      "9\n",
      "Too big - I'm giving up!\n"
     ]
    }
   ],
   "source": [
    "for i in range(10):\n",
    "    print(i)\n",
    "\n",
    "    if i == 9:\n",
    "        print(\"Too big - I'm giving up!\")\n",
    "        break\n",
    "else:\n",
    "    print(\"Completed successfully\")\n"
   ]
  },
  {
   "cell_type": "code",
   "execution_count": 34,
   "id": "29a3fe4c-0ff6-42ed-8883-41d1fdd687f9",
   "metadata": {},
   "outputs": [
    {
     "name": "stdout",
     "output_type": "stream",
     "text": [
      "Found the target\n"
     ]
    }
   ],
   "source": [
    "n=[1,2,3,4,5,6,7,8,9,10]\n",
    "t=6\n",
    "for i in n:\n",
    "    if i==t:\n",
    "        print(\"Found the target\")\n",
    "        break\n",
    "else:\n",
    "        print(\"Target not found\")"
   ]
  },
  {
   "cell_type": "code",
   "execution_count": 32,
   "id": "e7859566-a931-49cb-b835-30144d62a731",
   "metadata": {},
   "outputs": [
    {
     "name": "stdout",
     "output_type": "stream",
     "text": [
      "Target not found\n",
      "Target not found\n",
      "Target not found\n",
      "Target not found\n",
      "Target not found\n",
      "Found the target\n"
     ]
    }
   ],
   "source": [
    "n=[1,2,3,4,5,6,7,8,9,10]\n",
    "t=6\n",
    "for i in n:\n",
    "    if i==t:\n",
    "        print(\"Found the target\")\n",
    "        break\n",
    "    else:\n",
    "        print(\"Target not found\")"
   ]
  },
  {
   "cell_type": "markdown",
   "id": "b3a664bc-01b6-4553-b71b-7633fabdf216",
   "metadata": {},
   "source": [
    "# match case"
   ]
  },
  {
   "cell_type": "code",
   "execution_count": 37,
   "id": "64b03716-0a9d-49ba-ad5e-6d832feedc64",
   "metadata": {},
   "outputs": [
    {
     "name": "stdin",
     "output_type": "stream",
     "text": [
      "n= 5\n"
     ]
    },
    {
     "name": "stdout",
     "output_type": "stream",
     "text": [
      "Saturday\n"
     ]
    }
   ],
   "source": [
    "n=int(input(\"n=\"))\n",
    "match n:\n",
    "      case 0: print(\"Monday\")\n",
    "      case 1: print(\"Tuesday\")\n",
    "      case 2: print(\"Wednesday\")\n",
    "      case 3: print(\"Thursday\")\n",
    "      case 4: print(\"Friday\")\n",
    "      case 5: print(\"Saturday\")\n",
    "      case 6: print(\"Sunday\")\n",
    "      case _:  print(\"Invalid day number\")\n"
   ]
  },
  {
   "cell_type": "code",
   "execution_count": null,
   "id": "bab22515-9c24-4fd7-b563-91dbecea3e8e",
   "metadata": {},
   "outputs": [],
   "source": []
  }
 ],
 "metadata": {
  "kernelspec": {
   "display_name": "Python 3 (ipykernel)",
   "language": "python",
   "name": "python3"
  },
  "language_info": {
   "codemirror_mode": {
    "name": "ipython",
    "version": 3
   },
   "file_extension": ".py",
   "mimetype": "text/x-python",
   "name": "python",
   "nbconvert_exporter": "python",
   "pygments_lexer": "ipython3",
   "version": "3.13.8"
  }
 },
 "nbformat": 4,
 "nbformat_minor": 5
}
