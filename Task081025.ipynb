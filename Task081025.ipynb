{
 "cells": [
  {
   "cell_type": "markdown",
   "id": "62de9120-ff7b-4272-81e9-73080db2b991",
   "metadata": {},
   "source": [
    "# 1.Read a text file and count how many times each word appears (store in a dictionary)."
   ]
  },
  {
   "cell_type": "code",
   "execution_count": 7,
   "id": "3f81762d-b8aa-4f4d-8107-7d4d92d48845",
   "metadata": {},
   "outputs": [
    {
     "name": "stdout",
     "output_type": "stream",
     "text": [
      "['Hello Python\\n', 'New Python program\\n', 'My new Python program']\n"
     ]
    },
    {
     "data": {
      "text/plain": [
       "{'Python': 3}"
      ]
     },
     "execution_count": 7,
     "metadata": {},
     "output_type": "execute_result"
    }
   ],
   "source": [
    "with open(\"samp.txt\",\"w\") as f:\n",
    "    f.write(\"Hello Python\\n\")\n",
    "    f.write(\"New Python program\\n\")\n",
    "    f.write(\"My new Python program\")\n",
    "with open(\"samp.txt\",\"r\") as f:   \n",
    "    L=f.readlines()\n",
    "print(L)\n",
    "dic1={}\n",
    "x=\"Python\"\n",
    "count=0\n",
    "for line in L:\n",
    "    count += line.count(x)\n",
    "dic1[x]=count\n",
    "dic1\n",
    "#print(f\"'{x}' appears {count} times in the file.\")\n",
    "# b=\"program\"\n",
    "# c=0\n",
    "# for i in L:\n",
    "#     c+=i.count(b)\n",
    "\n",
    "#print(f\"'{b}' appears {c} times in the file.\")\n"
   ]
  },
  {
   "cell_type": "markdown",
   "id": "a384acc5-bf94-4a72-9638-d09f7ef93d9b",
   "metadata": {},
   "source": [
    "# 2.Create a function process_file() that contains nested functions for:\n",
    "# Counting lines\n",
    "# Counting words\n",
    "# Counting characters\n",
    "# Return all three as a dictionary."
   ]
  },
  {
   "cell_type": "code",
   "execution_count": 14,
   "id": "9a309344-f644-4a71-9e9c-ff97e3b6740f",
   "metadata": {},
   "outputs": [
    {
     "name": "stdout",
     "output_type": "stream",
     "text": [
      "linescount: 3\n",
      "wordscount: 9\n",
      "53\n",
      "(3, 9, 53)\n"
     ]
    }
   ],
   "source": [
    "def process_file():\n",
    "    with open(\"samp.txt\",\"r\") as f:   \n",
    "        L=f.readlines()\n",
    "    def count():\n",
    "        linescount=len(L)\n",
    "        print(\"linescount:\",linescount)\n",
    "        wordscount=0\n",
    "        for i in L:\n",
    "            x=i.split()\n",
    "            for j in x:\n",
    "                wordscount+=1\n",
    "        print(\"wordscount:\",wordscount)\n",
    "        charcount = sum(len(line) for line in L)  # includes spaces/newlines\n",
    "        print(charcount)        \n",
    "        return linescount,wordscount,charcount\n",
    "    return count()\n",
    "x=process_file()\n",
    "print(x)"
   ]
  },
  {
   "cell_type": "code",
   "execution_count": 3,
   "id": "bf53ff85-6b2e-41d9-a37f-81dc68b30ace",
   "metadata": {},
   "outputs": [
    {
     "name": "stdout",
     "output_type": "stream",
     "text": [
      "Line count: 3\n",
      "Word count: 9\n",
      "Character count (including spaces/newlines): 53\n"
     ]
    }
   ],
   "source": [
    "#method 2\n",
    "def process_file():\n",
    "    with open(\"samp.txt\", \"r\") as f:\n",
    "        data = f.read()   # read entire file content once\n",
    "\n",
    "    lines = data.splitlines()\n",
    "    line_count = len(lines)\n",
    "    word_count = sum(len(line.split()) for line in lines)\n",
    "    char_count = len(data)  # includes spaces and newlines\n",
    "\n",
    "    return line_count, word_count, char_count\n",
    "\n",
    "\n",
    "lines, words, chars = process_file()\n",
    "print(\"Line count:\", lines)\n",
    "print(\"Word count:\", words)\n",
    "print(\"Character count (including spaces/newlines):\", chars)"
   ]
  },
  {
   "cell_type": "markdown",
   "id": "4343d0a7-af30-4597-84ea-14d63caf8c9d",
   "metadata": {},
   "source": [
    "# 3. Read a file line by line and print only those lines that contain more than 3 words using a for loop and if condition."
   ]
  },
  {
   "cell_type": "markdown",
   "id": "b225b95a-8a74-4918-811f-538b66fbb1d6",
   "metadata": {},
   "source": [
    "# 3. Read a file line by line and print only those lines that contain more than 3 words using a for loop and if condition."
   ]
  },
  {
   "cell_type": "code",
   "execution_count": 11,
   "id": "3a081606-e120-4dea-a1b7-5b1547dd8659",
   "metadata": {},
   "outputs": [
    {
     "name": "stdout",
     "output_type": "stream",
     "text": [
      "['Hello Python\\n', 'New Python program\\n', 'My new Python program']\n",
      "Hello Python\n",
      "\n",
      "New Python program\n",
      "\n",
      "My new Python program\n"
     ]
    }
   ],
   "source": [
    "def process_file():\n",
    "    with open(\"samp.txt\", \"r\") as f:\n",
    "        data = f.readlines()       \n",
    "        print(data)\n",
    "        for i in data:\n",
    "            k=i.split()\n",
    "            if len(k)>1:\n",
    "                print(i)\n",
    "            else:\n",
    "                continue\n",
    "process_file()\n"
   ]
  },
  {
   "cell_type": "markdown",
   "id": "b815931c-67e9-459a-9eb0-3a5c2ff9bb47",
   "metadata": {},
   "source": [
    "# 4.Create a program that copies only odd-numbered lines from one file to another using loops and conditionals."
   ]
  },
  {
   "cell_type": "code",
   "execution_count": 20,
   "id": "e694d07e-32aa-4d75-889e-136461084f9a",
   "metadata": {},
   "outputs": [
    {
     "name": "stdout",
     "output_type": "stream",
     "text": [
      "['Hello Python\\n', 'My new Python program']\n"
     ]
    }
   ],
   "source": [
    "def newfile():\n",
    "    with open(\"samp.txt\", \"r\") as f:\n",
    "        with open(\"copy.txt\",\"w\") as c:\n",
    "            linecount=1\n",
    "            data = f.readlines()       \n",
    "            for line in data:\n",
    "                if linecount%2!=0:\n",
    "                    c.write(line)\n",
    "                linecount+=1\n",
    "        with open(\"copy.txt\",\"r\") as c:\n",
    "            x= c.readlines()\n",
    "            print(x)\n",
    "newfile()\n"
   ]
  },
  {
   "cell_type": "markdown",
   "id": "7930f6e6-16e3-44dc-80ae-5deddd04a770",
   "metadata": {},
   "source": [
    "# 5.Write a function that reads a file and divides total words by number of lines.\n",
    "# Use try–except–finally for safe handling (ZeroDivisionError, FileNotFoundError)."
   ]
  },
  {
   "cell_type": "code",
   "execution_count": 25,
   "id": "e4bd302a-a2ab-48e1-9ad8-b9e3ab1df82b",
   "metadata": {},
   "outputs": [
    {
     "name": "stdout",
     "output_type": "stream",
     "text": [
      "['Hello Python\\n', 'New Python program\\n', 'My new Python program']\n",
      "result: 3.0\n"
     ]
    }
   ],
   "source": [
    "#def process_file():\n",
    "try:\n",
    "    with open(\"samp.txt\", \"r\") as f:\n",
    "        data = f.readlines()       \n",
    "        print(data)\n",
    "        counter=0\n",
    "        for i in data:\n",
    "            k=i.split()\n",
    "            counter+=len(k)\n",
    "        l=len(data)\n",
    "        div=counter/l\n",
    "        print(\"result:\",div)       \n",
    "#process_file()\n",
    "except FileNotFoundError:\n",
    "    print(\"File not found\")\n",
    "except ZeroDivisionError:\n",
    "    print(\"ZeroDivision Error\")\n"
   ]
  },
  {
   "cell_type": "markdown",
   "id": "256b75c8-35a8-40fd-8108-a1cbaadf405b",
   "metadata": {},
   "source": [
    "# 6.Create a decorator that prints “Starting File Processing…” before execution.\n",
    "# Inside the function, use a loop to calculate:\n",
    "# Total lines\n",
    "# Blank lines\n",
    "# Non-empty lines\n"
   ]
  },
  {
   "cell_type": "code",
   "execution_count": null,
   "id": "f8fad394-e2f6-4ece-bea5-df2b3904f927",
   "metadata": {},
   "outputs": [],
   "source": [
    "# Decorator definition\n",
    "def start_processing(func):\n",
    "    def wrapper(*args, **kwargs):\n",
    "        print(\"Starting File Processing…\")\n",
    "        return func(*args, **kwargs)\n",
    "    return wrapper\n",
    "# Function to process file lines\n",
    "@start_processing\n",
    "def process_file(filename):\n",
    "    total_lines = blank_lines = non_empty_lines = 0\n",
    "\n",
    "    with open(filename, 'r') as f:\n",
    "        for line in f:\n",
    "            total_lines += 1\n",
    "            if line.strip() == \"\":\n",
    "                blank_lines += 1\n",
    "            else:\n",
    "                non_empty_lines += 1\n",
    "\n",
    "    print(f\"Total lines: {total_lines}\")\n",
    "    print(f\"Blank lines: {blank_lines}\")\n",
    "    print(f\"Non-empty lines: {non_empty_lines}\")\n",
    "\n",
    "\n",
    "# Example usage\n",
    "# Make sure to have a sample text file named 'sample.txt' in the same directory\n",
    "process_file(\"sample.txt\")\n",
    "✅"
   ]
  },
  {
   "cell_type": "markdown",
   "id": "c8947477-d62c-4334-aa3b-383013cd9764",
   "metadata": {},
   "source": [
    "# 7.Create a class StudentRecord with methods to:\n",
    "# Add student data to a text file\n",
    "# Display all student data\n",
    "# Use a loop to read multiple students from the user."
   ]
  },
  {
   "cell_type": "code",
   "execution_count": null,
   "id": "2874690d-c52a-4c10-a780-35edb2590ce9",
   "metadata": {},
   "outputs": [],
   "source": [
    "class StudentRecord:\n",
    "    def __init__(self, filename=\"students.txt\"):\n",
    "        self.filename = filename\n",
    "\n",
    "    def add_student(self, name, roll_no, grade):\n",
    "        \"\"\"Add a single student's data to the file.\"\"\"\n",
    "        with open(self.filename, \"a\") as f:\n",
    "            f.write(f\"{name},{roll_no},{grade}\\n\")\n",
    "        print(f\"✅ Student record for {name} added successfully.\")\n",
    "\n",
    "    def display_students(self):\n",
    "        \"\"\"Display all student records from the file.\"\"\"\n",
    "        print(\"\\n--- All Student Records ---\")\n",
    "        try:\n",
    "            with open(self.filename, \"r\") as f:\n",
    "                data = f.readlines()\n",
    "                if not data:\n",
    "                    print(\"No records found.\")\n",
    "                    return\n",
    "                for line in data:\n",
    "                    name, roll_no, grade = line.strip().split(\",\")\n",
    "                    print(f\"Name: {name}, Roll No: {roll_no}, Grade: {grade}\")\n",
    "        except FileNotFoundError:\n",
    "            print(\"No student file found yet. Please add records first.\")\n",
    "\n",
    "    def add_multiple_students(self):\n",
    "        \"\"\"Loop to read multiple students from user.\"\"\"\n",
    "        n = int(input(\"Enter number of students to add: \"))\n",
    "        for i in range(n):\n",
    "            print(f\"\\n--- Student {i+1} ---\")\n",
    "            name = input(\"Enter name: \")\n",
    "            roll_no = input(\"Enter roll number: \")\n",
    "            grade = input(\"Enter grade: \")\n",
    "            self.add_student(name, roll_no, grade)\n",
    "\n",
    "\n",
    "# Example usage\n",
    "record = StudentRecord()\n",
    "\n",
    "# Step 1: Add multiple students\n",
    "record.add_multiple_students()\n",
    "\n",
    "# Step 2: Display all records\n",
    "record.display_students()\n"
   ]
  },
  {
   "cell_type": "markdown",
   "id": "bd26a3c7-3bd6-4b16-83fd-baa76aefce0e",
   "metadata": {},
   "source": [
    "# 8.Write a function that reads a file and counts the number of vowels and consonants using nested loops and conditional statements.\n",
    "# Return both counts in a dictionary."
   ]
  },
  {
   "cell_type": "markdown",
   "id": "199772cf-76d3-4f33-8d37-14eef774295d",
   "metadata": {},
   "source": [
    "# 9.Write a decorator that checks if a file is readable or writable before executing a function that processes it.\n",
    "# If access is denied, print an error message."
   ]
  },
  {
   "cell_type": "markdown",
   "id": "bbe8ebb1-5844-4a25-97cb-b0803e790bdd",
   "metadata": {},
   "source": [
    "# 10.Write a program that reads a file, splits words, and counts their frequency using a dictionary and loops.\n",
    "# Save the result in another file named word_count.txt"
   ]
  },
  {
   "cell_type": "markdown",
   "id": "427000c9-3127-4839-9c55-c63e04b204d9",
   "metadata": {},
   "source": [
    "# 11.Write a decorator that prints the start time and end time of a function that reads a file and prints its content in uppercase."
   ]
  }
 ],
 "metadata": {
  "kernelspec": {
   "display_name": "Python 3 (ipykernel)",
   "language": "python",
   "name": "python3"
  },
  "language_info": {
   "codemirror_mode": {
    "name": "ipython",
    "version": 3
   },
   "file_extension": ".py",
   "mimetype": "text/x-python",
   "name": "python",
   "nbconvert_exporter": "python",
   "pygments_lexer": "ipython3",
   "version": "3.13.8"
  }
 },
 "nbformat": 4,
 "nbformat_minor": 5
}
