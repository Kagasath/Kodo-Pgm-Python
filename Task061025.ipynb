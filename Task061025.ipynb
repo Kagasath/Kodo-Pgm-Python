{
 "cells": [
  {
   "cell_type": "markdown",
   "id": "f2b22c7c-6f26-4e59-a4f9-38fc63400c93",
   "metadata": {},
   "source": [
    "# 1.Create a class Book with a private variable title. Use @property and set to manage the title. Then write a decorator that logs when the title is updated. The decorator should use a nested function."
   ]
  },
  {
   "cell_type": "code",
   "execution_count": 9,
   "id": "1bd629f8-d38c-487d-a10c-ee74b91852c4",
   "metadata": {},
   "outputs": [
    {
     "name": "stdout",
     "output_type": "stream",
     "text": [
      "Title is update\n",
      "the new title: apj\n"
     ]
    }
   ],
   "source": [
    "def log(func):\n",
    "    def update(*args,**kwargs):\n",
    "        print(\"Title is update\")\n",
    "        return func(*args,**kwargs)\n",
    "    return update\n",
    "class Book:    \n",
    "    def __init__(self,title):\n",
    "        self.__title=title\n",
    "    @property\n",
    "    def booktitle(self):\n",
    "        return self.__title\n",
    "    @booktitle.setter\n",
    "    @log\n",
    "    def booktitle(self,newtitle):\n",
    "        self.__title=newtitle\n",
    "        print(\"the new title:\",newtitle)\n",
    "b=Book(\"wof\")\n",
    "b.booktitle=\"apj\"\n"
   ]
  },
  {
   "cell_type": "markdown",
   "id": "1b0edb3f-e61c-4d89-b128-734977e03542",
   "metadata": {},
   "source": [
    "# 2.Create a class Employee with a property salary. Use @property for getting and setting to ensure the salary is a positive number."
   ]
  },
  {
   "cell_type": "code",
   "execution_count": null,
   "id": "cb374448-1969-46cf-bf94-bb5a99139929",
   "metadata": {},
   "outputs": [],
   "source": [
    "class Employee:\n",
    "    def __init__(self, name, salary):\n",
    "        self.name = name\n",
    "        self.salary = salary  # Uses the setter method automatically\n",
    "\n",
    "    @property\n",
    "    def salary(self):\n",
    "        \"\"\"Getter for salary.\"\"\"\n",
    "        return self._salary\n",
    "\n",
    "    @salary.setter\n",
    "    def salary(self, value):\n",
    "        \"\"\"Setter for salary with validation.\"\"\"\n",
    "        if value < 0:\n",
    "            raise ValueError(\"❌ Salary must be a positive number.\")\n",
    "        self._salary = value\n",
    "\n",
    "# Example usage\n",
    "try:\n",
    "    emp1 = Employee(\"Alice\", 50000)\n",
    "    print(f\"Employee: {emp1.name}, Salary: ₹{emp1.salary}\")\n",
    "\n",
    "    emp1.salary = 60000   # ✅ Update salary safely\n",
    "    print(f\"Updated Salary: ₹{emp1.salary}\")\n",
    "\n",
    "    emp1.salary = -20000  # ❌ Triggers ValueError\n",
    "except ValueError as e:\n",
    "    print(e)\n"
   ]
  },
  {
   "cell_type": "markdown",
   "id": "0aff0102-617c-417f-bcba-a4d25b525149",
   "metadata": {},
   "source": [
    "# 3.Create an abstract base class Shape with:\n",
    "# Abstract method area\n",
    "# Abstract property name\n",
    "# Then implement Circle and Square subclasses."
   ]
  },
  {
   "cell_type": "code",
   "execution_count": null,
   "id": "8c016b8b-b382-4b9f-9ca7-9dbde8d93678",
   "metadata": {},
   "outputs": [],
   "source": [
    "from abc import ABC, abstractmethod\n",
    "\n",
    "# Base abstract class\n",
    "class Shape(ABC):\n",
    "\n",
    "    @property\n",
    "    @abstractmethod\n",
    "    def name(self):\n",
    "        \"\"\"Abstract property for shape name.\"\"\"\n",
    "        pass\n",
    "\n",
    "    @abstractmethod\n",
    "    def area(self):\n",
    "        \"\"\"Abstract method to calculate area.\"\"\"\n",
    "        pass\n",
    "\n",
    "\n",
    "# Subclass: Circle\n",
    "class Circle(Shape):\n",
    "    def __init__(self, radius):\n",
    "        self.radius = radius\n",
    "\n",
    "    @property\n",
    "    def name(self):\n",
    "        return \"Circle\"\n",
    "\n",
    "    def area(self):\n",
    "        return 3.14159 * (self.radius ** 2)\n",
    "\n",
    "\n",
    "# Subclass: Square\n",
    "class Square(Shape):\n",
    "    def __init__(self, side):\n",
    "        self.side = side\n",
    "\n",
    "    @property\n",
    "    def name(self):\n",
    "        return \"Square\"\n",
    "\n",
    "    def area(self):\n",
    "        return self.side * self.side\n",
    "\n",
    "\n",
    "# Example usage\n",
    "shapes = [Circle(5), Square(4)]\n",
    "\n",
    "for shape in shapes:\n",
    "    print(f\"{shape.name} Area: {shape.area():.2f}\")\n"
   ]
  },
  {
   "cell_type": "markdown",
   "id": "dda742a4-71ce-4a97-91c7-9c1c845b5ae0",
   "metadata": {},
   "source": [
    "# 4.Write a decorator that uses a nested function to count and print how many times a function was called."
   ]
  },
  {
   "cell_type": "code",
   "execution_count": null,
   "id": "9f598838-4ed4-453b-8d18-f05aa714d764",
   "metadata": {},
   "outputs": [],
   "source": [
    "def call_counter(func):\n",
    "    count = 0  # outer variable to keep track of calls\n",
    "\n",
    "    def wrapper(*args, **kwargs):\n",
    "        nonlocal count  # allows modification of the outer variable\n",
    "        count += 1\n",
    "        print(f\"Function '{func.__name__}' called {count} time(s).\")\n",
    "        return func(*args, **kwargs)\n",
    "\n",
    "    return wrapper\n",
    "\n",
    "\n",
    "# Example usage\n",
    "@call_counter\n",
    "def greet(name):\n",
    "    print(f\"Hello, {name}!\")\n",
    "\n",
    "\n",
    "# Test the decorator\n",
    "greet(\"Alice\")\n",
    "greet(\"Bob\")\n",
    "greet(\"Charlie\")\n"
   ]
  },
  {
   "cell_type": "markdown",
   "id": "90a2eb81-bf83-4ede-adfc-022faaaa6116",
   "metadata": {},
   "source": [
    "# 5.Write a function process_numbers(a, b) with a nested function \n",
    "# square(x) that returns the square of x. The outer function should return the sum of squares of\n",
    "# a and b."
   ]
  },
  {
   "cell_type": "code",
   "execution_count": null,
   "id": "b09290c7-d439-4aa1-8d72-6a49c1748856",
   "metadata": {},
   "outputs": [],
   "source": [
    "def process_numbers(a, b):\n",
    "    # Nested function to calculate square\n",
    "    def square(x):\n",
    "        return x * x\n",
    "\n",
    "    # Use the nested function to compute sum of squares\n",
    "    return square(a) + square(b)\n",
    "\n",
    "\n",
    "# Example usage\n",
    "result = process_numbers(3, 4)\n",
    "print(f\"Sum of squares: {result}\")\n"
   ]
  },
  {
   "cell_type": "markdown",
   "id": "04dafcf8-c054-4848-b5d8-c6bc8e3c5849",
   "metadata": {},
   "source": [
    "# 6.Create a function create_message(name) that defines an inner function\n",
    "# add_greeting(msg) which adds \"Hello\" before the message. Return the complete greeting message like\n",
    "# \"Hello [name], good morning!\"."
   ]
  },
  {
   "cell_type": "code",
   "execution_count": null,
   "id": "4c1d7286-b6c8-4324-85d1-0ffaa03c3230",
   "metadata": {},
   "outputs": [],
   "source": [
    "def create_message(name):\n",
    "    # Inner function that adds a greeting before the message\n",
    "    def add_greeting(msg):\n",
    "        return f\"Hello {name}, {msg}\"\n",
    "\n",
    "    # Return a complete greeting using the inner function\n",
    "    return add_greeting(\"good morning!\")\n",
    "\n",
    "\n",
    "# Example usage\n",
    "message = create_message(\"Gayathri\")\n",
    "print(message)\n"
   ]
  },
  {
   "cell_type": "markdown",
   "id": "91ef9c4f-7e36-4a6a-a158-78b2f11c6f57",
   "metadata": {},
   "source": [
    "# 7.Write a decorator delay that delays execution of a function by 2 seconds using\n",
    "# time.sleep."
   ]
  },
  {
   "cell_type": "code",
   "execution_count": null,
   "id": "f31d0009-59a9-48ac-8689-e3581afa3457",
   "metadata": {},
   "outputs": [],
   "source": [
    "import time\n",
    "\n",
    "# Decorator definition\n",
    "def delay(func):\n",
    "    def wrapper(*args, **kwargs):\n",
    "        print(f\"Delaying execution of '{func.__name__}' by 2 seconds...\")\n",
    "        time.sleep(2)  # pause execution\n",
    "        return func(*args, **kwargs)\n",
    "    return wrapper\n",
    "\n",
    "\n",
    "# Example usage\n",
    "@delay\n",
    "def greet(name):\n",
    "    print(f\"Hello, {name}!\")\n",
    "\n",
    "\n",
    "# Test the decorator\n",
    "greet(\"Gayathri\")\n"
   ]
  },
  {
   "cell_type": "markdown",
   "id": "1a577933-678c-4b04-8b96-69bcf03a09e9",
   "metadata": {},
   "source": [
    "# 8.Create a decorator to_uppercase that converts the string output of a function to uppercase."
   ]
  },
  {
   "cell_type": "code",
   "execution_count": null,
   "id": "b7539884-0cf6-4e48-9c0e-9d6c3f90b0f1",
   "metadata": {},
   "outputs": [],
   "source": [
    "# Decorator definition\n",
    "def to_uppercase(func):\n",
    "    def wrapper(*args, **kwargs):\n",
    "        result = func(*args, **kwargs)  # get the original output\n",
    "        if isinstance(result, str):     # ensure it's a string\n",
    "            return result.upper()       # convert to uppercase\n",
    "        return result                   # return unchanged if not a string\n",
    "    return wrapper\n",
    "\n",
    "\n",
    "# Example usage\n",
    "@to_uppercase\n",
    "def greet(name):\n",
    "    return f\"Hello {name}, good morning!\"\n",
    "\n",
    "\n",
    "# Test the decorator\n",
    "print(greet(\"Gayathri\"))\n"
   ]
  },
  {
   "cell_type": "markdown",
   "id": "1886efb0-55c7-4c5a-af2e-f9fb576230a5",
   "metadata": {},
   "source": [
    "# 9.Create a class MathUtils with a static method is_even(num) that returns\n",
    "# True if the number is even, else False."
   ]
  },
  {
   "cell_type": "markdown",
   "id": "c2364bea-964d-4c26-bf5b-9b21693f7e33",
   "metadata": {},
   "source": [
    "# 10.Create an abstract class Payment with abstract methods pay() and\n",
    "# refund().\n",
    "# Implement CreditCardPayment and UPIPayment subclasses with their own logic."
   ]
  },
  {
   "cell_type": "markdown",
   "id": "089c0212-0383-420b-8b58-455fb124302b",
   "metadata": {},
   "source": [
    "# 11.Make a base class Vehicle with constructor initializing brand and\n",
    "# model.\n",
    "\n",
    "# Create a derived class Car that adds fuel_type and overrides\n",
    "# __str__() to show all details."
   ]
  }
 ],
 "metadata": {
  "kernelspec": {
   "display_name": "Python 3 (ipykernel)",
   "language": "python",
   "name": "python3"
  },
  "language_info": {
   "codemirror_mode": {
    "name": "ipython",
    "version": 3
   },
   "file_extension": ".py",
   "mimetype": "text/x-python",
   "name": "python",
   "nbconvert_exporter": "python",
   "pygments_lexer": "ipython3",
   "version": "3.13.8"
  }
 },
 "nbformat": 4,
 "nbformat_minor": 5
}
