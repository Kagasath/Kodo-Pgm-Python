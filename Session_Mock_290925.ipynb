{
 "cells": [
  {
   "cell_type": "code",
   "execution_count": 2,
   "id": "9783f197-00e1-4340-a9f6-e5ab915f4087",
   "metadata": {},
   "outputs": [
    {
     "name": "stdout",
     "output_type": "stream",
     "text": [
      "function without arguments\n"
     ]
    }
   ],
   "source": [
    "def withoutargs():\n",
    "    print(\"Function without arguments\")\n",
    "withoutargs()"
   ]
  },
  {
   "cell_type": "code",
   "execution_count": 3,
   "id": "bd7d21a2-6fab-4673-ba72-04c7825807ad",
   "metadata": {},
   "outputs": [
    {
     "name": "stdout",
     "output_type": "stream",
     "text": [
      "The addition value is 11\n"
     ]
    }
   ],
   "source": [
    "def add(a,b):\n",
    "    c=a+b\n",
    "    print(\"The addition value is\",c)\n",
    "add(5,6)"
   ]
  },
  {
   "cell_type": "code",
   "execution_count": 16,
   "id": "26470bb4-b13b-461c-a924-94b193cf8353",
   "metadata": {},
   "outputs": [
    {
     "name": "stdout",
     "output_type": "stream",
     "text": [
      "[2, 3, 4]\n"
     ]
    }
   ],
   "source": [
    "Lis=[]\n",
    "def add(*a):\n",
    "    for i in a:\n",
    "        Lis.append(i)\n",
    "    print(Lis)\n",
    "l=(2,3,4)\n",
    "add(*l)\n"
   ]
  },
  {
   "cell_type": "code",
   "execution_count": 17,
   "id": "ca8cee97-d7d5-416f-97f8-584d60f4263c",
   "metadata": {},
   "outputs": [
    {
     "name": "stdout",
     "output_type": "stream",
     "text": [
      "The addition value is 11\n"
     ]
    }
   ],
   "source": [
    "def add(a=5,b=6):\n",
    "    c=a+b\n",
    "    print(\"The addition value is\",c)\n",
    "add()"
   ]
  },
  {
   "cell_type": "code",
   "execution_count": 18,
   "id": "74b7d826-3bc6-4a8e-9551-69aefe37535b",
   "metadata": {},
   "outputs": [
    {
     "name": "stdout",
     "output_type": "stream",
     "text": [
      "The addition value is 5\n"
     ]
    }
   ],
   "source": [
    "def add(a=5,b=6):\n",
    "    c=a+b\n",
    "    print(\"The addition value is\",c)\n",
    "add(a=2,b=3)"
   ]
  },
  {
   "cell_type": "code",
   "execution_count": 20,
   "id": "f21008da-5207-4fd0-b618-03237299eea2",
   "metadata": {},
   "outputs": [
    {
     "name": "stdout",
     "output_type": "stream",
     "text": [
      "{'name': 'ggg', 'age': 45}\n"
     ]
    }
   ],
   "source": [
    "dic={}\n",
    "def con(**a):\n",
    "    for i,j in a.items():\n",
    "        dic[i]=j\n",
    "    print(dic)\n",
    "con(name='ggg',age=45)\n"
   ]
  },
  {
   "cell_type": "markdown",
   "id": "ce3368c6-5595-400a-a201-9bd38f548021",
   "metadata": {},
   "source": [
    "# Regex - Regular expressions are powerful tools for pattern matching and text manipulation within strings."
   ]
  },
  {
   "cell_type": "code",
   "execution_count": 24,
   "id": "03df0255-87cb-4398-8f2d-74e09a0c15ce",
   "metadata": {},
   "outputs": [
    {
     "name": "stdout",
     "output_type": "stream",
     "text": [
      "<re.Match object; span=(15, 17), match='is'>\n",
      "Match found\n",
      "None\n",
      "not found\n",
      "Start Index: 34\n",
      "End Index: 40\n"
     ]
    }
   ],
   "source": [
    "#1 searching\n",
    "import re\n",
    "str = \"Local Masuesse is the best album\"\n",
    "srch = \"is\"\n",
    "result=re.search(srch,str) #it returns the start and end index value of the word\n",
    "print(result)\n",
    "if result:\n",
    "  print(\"Match found\")\n",
    "else:\n",
    "  print(\"not found\")\n",
    "\n",
    "#2 \n",
    "str = \"Local Masuesse is the Mass album\"\n",
    "srch = r\"La\"\n",
    "result=re.search(srch,str)\n",
    "print(result)\n",
    "if result:\n",
    "  print(\"Match found\")\n",
    "else:\n",
    "  print(\"not found\")\n",
    "\n",
    "#3\n",
    "s = 'GeeksforGeeks: A computer science portal for geeks'\n",
    "match = re.search(r'portal', s)\n",
    "\n",
    "print('Start Index:', match.start())\n",
    "print('End Index:', match.end())"
   ]
  },
  {
   "cell_type": "code",
   "execution_count": 28,
   "id": "ed0c9e41-a24f-4364-8b4c-5256804c66fe",
   "metadata": {},
   "outputs": [
    {
     "name": "stdout",
     "output_type": "stream",
     "text": [
      "<re.Match object; span=(12, 21), match='994477878'>\n",
      "Match found\n"
     ]
    }
   ],
   "source": [
    "#Matching using special sequences using match group method\n",
    "#\\d Matching digit\n",
    "str=\"Local calls 994477878\"\n",
    "srch = r\"\\d\\d\\d\\d\\d\\d\\d\\d\\d\"\n",
    "result=re.search(srch,str)\n",
    "print(result)\n",
    "if result:\n",
    "  print(\"Match found\")\n",
    "else:\n",
    "  print(\"not found\")\n"
   ]
  },
  {
   "cell_type": "code",
   "execution_count": 29,
   "id": "4450d889-77b8-4311-af0d-ed4fc488d680",
   "metadata": {},
   "outputs": [
    {
     "name": "stdout",
     "output_type": "stream",
     "text": [
      "<re.Match object; span=(0, 6), match='Local '>\n",
      "Match found\n"
     ]
    }
   ],
   "source": [
    "#\\D Matching non-digit\n",
    "str=\"Local calls 994477\"\n",
    "srch = r\"\\D\\D\\D\\D\\D\\D\"\n",
    "result=re.search(srch,str)\n",
    "print(result)\n",
    "if result:\n",
    "  print(\"Match found\")\n",
    "else:\n",
    "  print(\"not found\")\n"
   ]
  },
  {
   "cell_type": "code",
   "execution_count": 35,
   "id": "33e34756-bc5a-47d3-8ee6-b1558da70144",
   "metadata": {},
   "outputs": [
    {
     "name": "stdout",
     "output_type": "stream",
     "text": [
      "<re.Match object; span=(11, 14), match=' @ '>\n"
     ]
    }
   ],
   "source": [
    "#\\W Matching any word\n",
    "str =\"Local calls @ 994477\"\n",
    "srch=r\"\\W\\W\\W\"\n",
    "result=re.search(srch,str)\n",
    "print(result)"
   ]
  },
  {
   "cell_type": "code",
   "execution_count": 34,
   "id": "95c7f84b-d86c-4ee6-85fb-17d33fe2fa1d",
   "metadata": {},
   "outputs": [
    {
     "name": "stdout",
     "output_type": "stream",
     "text": [
      "<re.Match object; span=(6, 11), match='calls'>\n"
     ]
    }
   ],
   "source": [
    "#\\b Matching boundary\n",
    "str =\"Local calls @ 994477\"\n",
    "srch=r\"\\bcalls\\b\"\n",
    "result=re.search(srch,str)\n",
    "print(result)"
   ]
  },
  {
   "cell_type": "code",
   "execution_count": 33,
   "id": "dec9ac52-375d-495d-8695-d12bd1d2c556",
   "metadata": {},
   "outputs": [
    {
     "name": "stdout",
     "output_type": "stream",
     "text": [
      "['all', 'all']\n"
     ]
    }
   ],
   "source": [
    "#findall\n",
    "str =\"Local all calls @ 994477\"\n",
    "srch=r\"all\"\n",
    "result=re.findall(srch,str)\n",
    "print(result)"
   ]
  },
  {
   "cell_type": "code",
   "execution_count": 36,
   "id": "a50bad30-17bd-4f05-a0fc-0d27da14cd9d",
   "metadata": {},
   "outputs": [
    {
     "name": "stdout",
     "output_type": "stream",
     "text": [
      "['Loc', 'l ', 'l c', 'lls @ 994477']\n"
     ]
    }
   ],
   "source": [
    "#split\n",
    "str =\"Local al calls @ 994477\"\n",
    "result=re.split(\"a\",str)\n",
    "print(result)"
   ]
  },
  {
   "cell_type": "code",
   "execution_count": 37,
   "id": "5cf56112-4fa4-4b46-884e-6674fa671940",
   "metadata": {},
   "outputs": [
    {
     "name": "stdout",
     "output_type": "stream",
     "text": [
      "The quick brown bear jumps over the lazy dog.\n"
     ]
    }
   ],
   "source": [
    "#replacement of a pattern\n",
    "str1= \"The quick brown fox jumps over the lazy dog.\"\n",
    "result=re.sub(\"fox\",\"bear\",str1)\n",
    "print(result)"
   ]
  },
  {
   "cell_type": "code",
   "execution_count": 42,
   "id": "ed82a205-a2ae-4922-8df9-84af0ca5a597",
   "metadata": {},
   "outputs": [
    {
     "name": "stdout",
     "output_type": "stream",
     "text": [
      "['A', 'M', 'G']\n",
      "['11', '4', '1886']\n"
     ]
    }
   ],
   "source": [
    "# Compiles a regex into a pattern object, which can be reused for matching or substitutions.\n",
    "# This pattern [a-e] matches all lowercase letters between 'A and M'\n",
    "p = re.compile('[A-M]')\n",
    "print(p.findall(\"Aye, said Mr. Gibenson Stark\"))\n",
    "\n",
    "#2\n",
    "p = re.compile(r'\\d+')\n",
    "print(p.findall(\"I went to him at 11 A.M. on 4th July 1886\"))\n",
    "\n",
    "\n",
    "\n"
   ]
  },
  {
   "cell_type": "code",
   "execution_count": 44,
   "id": "7bb3a908-7942-432f-85bc-4bdaa55ccb06",
   "metadata": {},
   "outputs": [
    {
     "name": "stdout",
     "output_type": "stream",
     "text": [
      "['On', '12th', 'Jan', '2016', 'at', '11', '02', 'AM']\n",
      "['On ', 'th Jan ', ', at ', ':', ' AM']\n"
     ]
    }
   ],
   "source": [
    "print(re.split(r'\\W+', 'On 12th Jan 2016, at 11:02 AM'))\n",
    "print(re.split(r'\\d+', 'On 12th Jan 2016, at 11:02 AM'))"
   ]
  },
  {
   "cell_type": "markdown",
   "id": "3e013dd4-f597-4c34-9fb1-05f3d32fcf03",
   "metadata": {},
   "source": [
    "# csv"
   ]
  },
  {
   "cell_type": "code",
   "execution_count": 51,
   "id": "a23778b6-5d6c-4813-897b-39672a87bb38",
   "metadata": {},
   "outputs": [
    {
     "name": "stdout",
     "output_type": "stream",
     "text": [
      "Jade Jade@gggmail.com\n",
      "Jancy Jancy@gggmail.com\n",
      "Veera Veera@gggmail.com\n"
     ]
    },
    {
     "ename": "IndexError",
     "evalue": "list index out of range",
     "output_type": "error",
     "traceback": [
      "\u001b[31m---------------------------------------------------------------------------\u001b[39m",
      "\u001b[31mIndexError\u001b[39m                                Traceback (most recent call last)",
      "\u001b[36mCell\u001b[39m\u001b[36m \u001b[39m\u001b[32mIn[51]\u001b[39m\u001b[32m, line 6\u001b[39m\n\u001b[32m      4\u001b[39m \u001b[38;5;28mnext\u001b[39m(csv_reader)\n\u001b[32m      5\u001b[39m \u001b[38;5;28;01mfor\u001b[39;00m row \u001b[38;5;129;01min\u001b[39;00m csv_reader:\n\u001b[32m----> \u001b[39m\u001b[32m6\u001b[39m     \u001b[38;5;28mprint\u001b[39m(\u001b[43mrow\u001b[49m\u001b[43m[\u001b[49m\u001b[32;43m0\u001b[39;49m\u001b[43m]\u001b[49m,row[\u001b[32m2\u001b[39m])\n",
      "\u001b[31mIndexError\u001b[39m: list index out of range"
     ]
    }
   ],
   "source": [
    "import csv\n",
    "with open('test.csv') as csvfile:\n",
    "    csv_reader=csv.reader(csvfile)\n",
    "    next(csv_reader)#skips the header\n",
    "    for row in csv_reader:\n",
    "        print(row[0],row[2]) #prints the values"
   ]
  },
  {
   "cell_type": "code",
   "execution_count": 88,
   "id": "e19c901a-b2c2-43c0-b15c-a3b283a84aa9",
   "metadata": {},
   "outputs": [
    {
     "data": {
      "text/plain": [
       "12"
      ]
     },
     "execution_count": 88,
     "metadata": {},
     "output_type": "execute_result"
    }
   ],
   "source": [
    "def sum(a,b):\n",
    "    action =\"this function performs addition\"\n",
    "    c=a+b\n",
    "    return c\n",
    "a=5\n",
    "b=7\n",
    "sum(a,b)"
   ]
  },
  {
   "cell_type": "code",
   "execution_count": 89,
   "id": "abe21a9e-c5d7-4fb6-8f32-d8bfc063d13e",
   "metadata": {},
   "outputs": [
    {
     "name": "stdout",
     "output_type": "stream",
     "text": [
      "my name is [1]\n",
      "new function\n"
     ]
    }
   ],
   "source": [
    "def new_function(*name):\n",
    "    print(f'my name is {name[1]}')\n",
    "    print(\"new function\")\n",
    "\n",
    "new_function([\"revathi\",19],[1]) "
   ]
  },
  {
   "cell_type": "code",
   "execution_count": 90,
   "id": "39f48247-05e9-42d0-98f0-b557d36e71ba",
   "metadata": {},
   "outputs": [
    {
     "name": "stdout",
     "output_type": "stream",
     "text": [
      "my name is revathi\n",
      "new function\n"
     ]
    }
   ],
   "source": [
    "#Method Overloading (Same Method Name, Different Parameters)\n",
    "class Calculator:\n",
    "    def add(self, a=0, b=0, c=0):\n",
    "        return a + b + c\n",
    "\n",
    "calc = Calculator()\n",
    "\n",
    "print(calc.add(5, 3))       \n",
    "print(calc.add(1, 2, 3))    \n",
    "print(calc.add())           \n",
    "\n",
    "# def add(a=0, b=0, c=0):\n",
    "#         return a + b + c\n",
    "# add(2,3)"
   ]
  },
  {
   "cell_type": "code",
   "execution_count": 92,
   "id": "666cc383-31a7-4bb6-afbd-7f9ba4fc7a90",
   "metadata": {},
   "outputs": [
    {
     "data": {
      "text/plain": [
       "6"
      ]
     },
     "execution_count": 92,
     "metadata": {},
     "output_type": "execute_result"
    }
   ],
   "source": [
    "#returns the value of last defined function\n",
    "def add(a,b):\n",
    "    c=a+b\n",
    "    return c\n",
    "\n",
    "def add(a,b,c):\n",
    "    d=a+b+c\n",
    "    return d\n",
    "    \n",
    "add(1,2,3)"
   ]
  },
  {
   "cell_type": "code",
   "execution_count": 99,
   "id": "2d5ac360-d745-42fc-baca-91991f05bd50",
   "metadata": {},
   "outputs": [
    {
     "name": "stdout",
     "output_type": "stream",
     "text": [
      "Name :  Bhavana , age:  24 , salary:  10000\n",
      "Bhavana\n",
      "10000\n",
      "24\n"
     ]
    }
   ],
   "source": [
    "#Encapsulation\n",
    "#It means restricting direct access to some of the object's components, which is key for data hiding and protection.\n",
    "class Employee:\n",
    "   def __init__(self, name, age, salary):\n",
    "      self.name = name # public variable\n",
    "      self._age = age # private variable\n",
    "      self._salary = salary # protected variable\n",
    "   def displayEmployee(self):\n",
    "      print (\"Name : \", self.name, \", age: \", self._age, \", salary: \", self._salary)\n",
    "\n",
    "e1=Employee(\"Bhavana\", 24, 10000)\n",
    "e1.displayEmployee()\n",
    "print (e1.name)\n",
    "print (e1._salary)\n",
    "print (e1._age)\n",
    "    "
   ]
  },
  {
   "cell_type": "code",
   "execution_count": null,
   "id": "691d7e88-efbd-4b36-8619-6e78cd00b1d4",
   "metadata": {},
   "outputs": [],
   "source": []
  },
  {
   "cell_type": "code",
   "execution_count": 102,
   "id": "8eeb7038-84a8-4267-9032-1bd8d239511a",
   "metadata": {},
   "outputs": [
    {
     "name": "stdout",
     "output_type": "stream",
     "text": [
      "Name: Archana age: 21\n"
     ]
    }
   ],
   "source": [
    "class Employee:\n",
    "   def __init__(self, name, age):\n",
    "      self.__name = name\n",
    "      self.__age = age\n",
    "\n",
    "   def get_name(self):\n",
    "      return self.__name\n",
    "   def get_age(self):\n",
    "      return self.__age\n",
    "   def set_name(self, name):\n",
    "      self.__name = name\n",
    "      return\n",
    "   def set_age(self, age):\n",
    "      self.__age=age\n",
    "      return\n",
    "\n",
    "e1=Employee(\"Bhavana\", 24)\n",
    "#print (\"Name:\", e1.__name, \"age:\", e1.get_age())\n",
    "e1.set_name(\"Archana\")\n",
    "e1.set_age(21)\n",
    "print (\"Name:\", e1.get_name(), \"age:\", e1.get_age())"
   ]
  },
  {
   "cell_type": "code",
   "execution_count": 103,
   "id": "b51e3294-a266-4cf0-93e2-0e604f336743",
   "metadata": {},
   "outputs": [
    {
     "data": {
      "text/plain": [
       "Employee: Revathi, Salary: 7000"
      ]
     },
     "execution_count": 103,
     "metadata": {},
     "output_type": "execute_result"
    }
   ],
   "source": [
    "class Employee:\n",
    "    def __init__(self, name, salary):\n",
    "        self.name = name\n",
    "        self.salary = salary\n",
    "\n",
    "    def __repr__(self):\n",
    "        return f\"Employee: {self.name}, Salary: {self.salary}\"\n",
    "\n",
    "emp1 = Employee(\"Revathi\", 7000)\n",
    "emp1\n"
   ]
  },
  {
   "cell_type": "code",
   "execution_count": 104,
   "id": "b42f9e5f-5b95-460c-bc34-9cba300bb98f",
   "metadata": {},
   "outputs": [
    {
     "data": {
      "text/plain": [
       "Person(name='revathi')"
      ]
     },
     "execution_count": 104,
     "metadata": {},
     "output_type": "execute_result"
    }
   ],
   "source": [
    "class Person:\n",
    "    def __init__(self, name):\n",
    "        self.name = name\n",
    "    \n",
    "    def __str__(self):\n",
    "        return f\"Name: {self.name}\"\n",
    "    \n",
    "    def __repr__(self):\n",
    "        return f\"Person(name='{self.name}')\"\n",
    "p=Person(\"revathi\")\n",
    "p"
   ]
  },
  {
   "cell_type": "code",
   "execution_count": 87,
   "id": "1b87c1c5-493a-40a5-8728-d857261762ca",
   "metadata": {},
   "outputs": [
    {
     "name": "stdout",
     "output_type": "stream",
     "text": [
      "ggg15\n"
     ]
    }
   ],
   "source": [
    "class student:\n",
    "    def __init__(self,name,age):\n",
    "        self._name= name\n",
    "        self.__age=age\n",
    "    def __str__(self):\n",
    "        return f\"{self._name}{self.__age}\"\n",
    "s1=student('ggg',15)\n",
    "print(s1)\n",
    "#returns value with print"
   ]
  },
  {
   "cell_type": "code",
   "execution_count": 85,
   "id": "43610239-d1bd-40d8-8d18-58456f060a42",
   "metadata": {},
   "outputs": [
    {
     "data": {
      "text/plain": [
       "ggg15"
      ]
     },
     "execution_count": 85,
     "metadata": {},
     "output_type": "execute_result"
    }
   ],
   "source": [
    "class student:\n",
    "    def __init__(self,name,age):\n",
    "        self._name= name\n",
    "        self.__age=age\n",
    "    def __repr__(self):\n",
    "        return f\"{self._name}{self.__age}\"\n",
    "\n",
    "s1=student('ggg',15)\n",
    "s1\n"
   ]
  },
  {
   "cell_type": "code",
   "execution_count": null,
   "id": "03b4bf4a-aa21-43c0-b0a4-736445afaffb",
   "metadata": {},
   "outputs": [],
   "source": [
    "class Employee:\n",
    "    def __init__(self, name, age):\n",
    "        self.__name = name\n",
    "        self.__age = age\n",
    "\n",
    "    def get_name(self):\n",
    "        return self.__name\n",
    "\n",
    "    def set_name(self, name):\n",
    "        self.__name = name\n",
    "\n",
    "    def del_name(self):\n",
    "        del self.__name\n",
    "\n",
    "    name = property(get_name,\n",
    "                    set_name,\n",
    "                    del_name,\n",
    "                    \"The name of the employee\")\n",
    "\n",
    "    def get_age(self):\n",
    "        return self.__age\n",
    "\n",
    "    def set_age(self, age):\n",
    "        self.__age = age\n",
    "\n",
    "    def del_age(self):\n",
    "        del self.__age\n",
    "\n",
    "    age = property(get_age,\n",
    "                   set_age,\n",
    "                   del_age,\n",
    "                   \"The age of the employee\")\n",
    "    \n",
    "emp = Employee(\"revathi\", 30)\n",
    "print(emp.name) \n",
    "emp.name = \"raji\"\n",
    "print(emp.name) \n",
    "print(emp.age)\n"
   ]
  },
  {
   "cell_type": "code",
   "execution_count": null,
   "id": "17d52787-d5ac-4b00-aa8a-b9226ea4400a",
   "metadata": {},
   "outputs": [],
   "source": [
    "#inheritance \n",
    "#a class that inherits the properties and behaviour from another class\n",
    "class Parent:\n",
    "    def show(self):\n",
    "        print(\"This is the parent class\")\n",
    "\n",
    "class Child(Parent):\n",
    "    pass\n",
    "\n",
    "obj = Child()\n",
    "obj.show()  \n"
   ]
  }
 ],
 "metadata": {
  "kernelspec": {
   "display_name": "Python 3 (ipykernel)",
   "language": "python",
   "name": "python3"
  },
  "language_info": {
   "codemirror_mode": {
    "name": "ipython",
    "version": 3
   },
   "file_extension": ".py",
   "mimetype": "text/x-python",
   "name": "python",
   "nbconvert_exporter": "python",
   "pygments_lexer": "ipython3",
   "version": "3.13.7"
  }
 },
 "nbformat": 4,
 "nbformat_minor": 5
}
