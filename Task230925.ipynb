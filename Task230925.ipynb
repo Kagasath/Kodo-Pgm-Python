{
 "cells": [
  {
   "cell_type": "markdown",
   "id": "cfaf1622-bd26-4cc9-8adf-4024f6a7771d",
   "metadata": {},
   "source": [
    "# Print all even numbers between 1–20, skipping odd numbers using continue."
   ]
  },
  {
   "cell_type": "code",
   "execution_count": 1,
   "id": "89bca936-0f6c-4142-bd3b-662afb6b8a35",
   "metadata": {},
   "outputs": [
    {
     "name": "stdout",
     "output_type": "stream",
     "text": [
      "2\n",
      "4\n",
      "6\n",
      "8\n",
      "10\n",
      "12\n",
      "14\n",
      "16\n",
      "18\n"
     ]
    }
   ],
   "source": [
    "i=1\n",
    "while(i<20):\n",
    "    if(i%2==0):\n",
    "        print(i)\n",
    "    i+=1\n",
    "    continue  "
   ]
  },
  {
   "cell_type": "markdown",
   "id": "df2dbc38-ee5d-4763-aebe-3a2a298e0687",
   "metadata": {},
   "source": [
    "# Accept an integer from the user and print its square. Use try..else to handle invalid inputs."
   ]
  },
  {
   "cell_type": "code",
   "execution_count": 10,
   "id": "db9008b6-eb4a-4889-9bb0-c4203fb895ea",
   "metadata": {},
   "outputs": [
    {
     "name": "stdin",
     "output_type": "stream",
     "text": [
      "Enter the number: k\n"
     ]
    },
    {
     "name": "stdout",
     "output_type": "stream",
     "text": [
      "Enter the valid input.\n"
     ]
    }
   ],
   "source": [
    "n= input(\"Enter the number:\")\n",
    "try:\n",
    "    if(n>0):\n",
    "        square=n*n\n",
    "        print(\"Square of the given number is:\",square)\n",
    "    else:\n",
    "        raise ValueError(\"Enter positive value\")\n",
    "except ValueError as VE:\n",
    "    print(\"Value Error:\",VE)\n",
    "except Exception as e:\n",
    "    print(\"Enter the valid input.\")"
   ]
  },
  {
   "cell_type": "markdown",
   "id": "2b93bb82-817e-4800-bcdd-d24a15579844",
   "metadata": {},
   "source": [
    "# Write a program that takes a day number (1–7) and prints the day name. If invalid, print \"Invalid Day\"."
   ]
  },
  {
   "cell_type": "code",
   "execution_count": 14,
   "id": "b60a4d39-9275-405c-8d5a-a7385454a7e3",
   "metadata": {},
   "outputs": [
    {
     "name": "stdin",
     "output_type": "stream",
     "text": [
      "Enter the day number: -7\n"
     ]
    },
    {
     "name": "stdout",
     "output_type": "stream",
     "text": [
      "Enter positive number\n"
     ]
    }
   ],
   "source": [
    "n=int(input(\"Enter the day number:\"))\n",
    "if 0<n<8:\n",
    "    match n:\n",
    "        case 1: print(\"Monday\")\n",
    "        case 2: print(\"Tuesday\")\n",
    "        case 3: print(\"Wednesday\")\n",
    "        case 4: print(\"Thursday\")\n",
    "        case 5: print(\"Friday\")\n",
    "        case 6: print(\"Saturday\")\n",
    "        case 7: print(\"Sunday\")\n",
    "        case _: print(\"Invalid day\")\n",
    "else:\n",
    "    print(\"Enter positive number\")"
   ]
  },
  {
   "cell_type": "code",
   "execution_count": 15,
   "id": "a3d4691e-5b21-479f-b9ab-b48d780dd2ed",
   "metadata": {},
   "outputs": [
    {
     "name": "stdin",
     "output_type": "stream",
     "text": [
      "Enter the day number: -9\n"
     ]
    },
    {
     "name": "stdout",
     "output_type": "stream",
     "text": [
      "Invalid day\n"
     ]
    }
   ],
   "source": [
    "n=int(input(\"Enter the day number:\"))\n",
    "match n:\n",
    "    case 1: print(\"Monday\")\n",
    "    case 2: print(\"Tuesday\")\n",
    "    case 3: print(\"Wednesday\")\n",
    "    case 4: print(\"Thursday\")\n",
    "    case 5: print(\"Friday\")\n",
    "    case 6: print(\"Saturday\")\n",
    "    case 7: print(\"Sunday\")\n",
    "    case _: print(\"Invalid day\")"
   ]
  },
  {
   "cell_type": "markdown",
   "id": "47ceb387-22c8-4973-9aca-7025446c3eab",
   "metadata": {},
   "source": [
    "# Print a hollow square pattern of size n × n using a nested while loop."
   ]
  },
  {
   "cell_type": "code",
   "execution_count": 5,
   "id": "44dacc12-8041-4d60-aff2-8633a400b2a3",
   "metadata": {},
   "outputs": [
    {
     "name": "stdin",
     "output_type": "stream",
     "text": [
      "Enter the number: 4\n"
     ]
    },
    {
     "name": "stdout",
     "output_type": "stream",
     "text": [
      "* * * * \n",
      "*     * \n",
      "*     * \n",
      "* * * * \n"
     ]
    }
   ],
   "source": [
    "n=int(input(\"Enter the number:\"))\n",
    "i=1\n",
    "while i<=n:\n",
    "    j=1\n",
    "    while j<=n:\n",
    "        if i==1 or j==n:\n",
    "            print(\"*\",end=\" \")\n",
    "        elif i==n or j==1:\n",
    "            print(\"*\",end=\" \")\n",
    "        else:\n",
    "            print(\" \",end=\" \")\n",
    "        j+=1\n",
    "    print()\n",
    "    i+=1\n"
   ]
  },
  {
   "cell_type": "markdown",
   "id": "fd820936-34b5-41f0-8685-9ed7ffca9728",
   "metadata": {},
   "source": [
    "# Search for a number in a list. If found, break the loop; if not found, execute the else block."
   ]
  },
  {
   "cell_type": "code",
   "execution_count": 18,
   "id": "c3011e7e-86ea-446a-b0a8-b4504b9b2674",
   "metadata": {},
   "outputs": [
    {
     "name": "stdin",
     "output_type": "stream",
     "text": [
      "Enter the number to search: 3\n"
     ]
    },
    {
     "name": "stdout",
     "output_type": "stream",
     "text": [
      "number is not found\n"
     ]
    }
   ],
   "source": [
    "l1=[1,2,5,4,11,7,9]\n",
    "n=int(input(\"Enter the number to search:\"))\n",
    "for i in l1:\n",
    "    if(n==i):\n",
    "      break\n",
    "else:\n",
    "    print(\"number is not found\")\n",
    "        "
   ]
  },
  {
   "cell_type": "markdown",
   "id": "652f7b67-c7ae-4397-a155-947ecb75174e",
   "metadata": {},
   "source": [
    "# Use comparison and logical operators to check if a number lies between 100 and 200 and is divisible by 5."
   ]
  },
  {
   "cell_type": "code",
   "execution_count": 22,
   "id": "21a9305e-fa9b-4318-a4c0-dd22f8b42667",
   "metadata": {},
   "outputs": [
    {
     "name": "stdin",
     "output_type": "stream",
     "text": [
      "Enter the number: 104\n"
     ]
    },
    {
     "name": "stdout",
     "output_type": "stream",
     "text": [
      "The given number did not satisfies the condition\n"
     ]
    }
   ],
   "source": [
    "n=int(input(\"Enter the number:\"))\n",
    "if 100<=n<=200:\n",
    "    if n%5==0:\n",
    "        print(\"The given number satisfies the condition\")\n",
    "    else:\n",
    "        print(\"The given number did not satisfies the condition\")\n",
    "else:\n",
    "    print(\"The given number did not satisfies the condition\")\n",
    "\n"
   ]
  },
  {
   "cell_type": "markdown",
   "id": "4f46840b-fb30-4387-9f09-3cc83186c4bc",
   "metadata": {},
   "source": [
    "# Take two numbers as input and perform division. Handle ZeroDivisionError and invalid input using try..else."
   ]
  },
  {
   "cell_type": "code",
   "execution_count": 4,
   "id": "acf9032e-f07c-4ff8-91f5-c0cc2264094e",
   "metadata": {},
   "outputs": [
    {
     "name": "stdin",
     "output_type": "stream",
     "text": [
      "Enter the number1: h\n",
      "Enter the number2: 7\n"
     ]
    },
    {
     "name": "stdout",
     "output_type": "stream",
     "text": [
      "Value Error\n"
     ]
    }
   ],
   "source": [
    "n1= input(\"Enter the number1:\")\n",
    "n2= input(\"Enter the number2:\")\n",
    "try:\n",
    "    n3=int(n1)\n",
    "    n4=int(n2)\n",
    "    div = n3/n4\n",
    "except ZeroDivisionError:\n",
    "    print(\"Zero Division Error\")\n",
    "except ValueError:\n",
    "    print(\"Value Error\")\n",
    "else:\n",
    "    print(\"Division of the given number is:\",div)\n"
   ]
  },
  {
   "cell_type": "markdown",
   "id": "f9fd1c66-3991-491e-aac8-764206873f16",
   "metadata": {},
   "source": [
    "# Take two numbers as input and show the result of all arithmetic, relational, and logical operators between them."
   ]
  },
  {
   "cell_type": "code",
   "execution_count": 10,
   "id": "0779fdc4-920a-4408-b140-90e8b7bc172f",
   "metadata": {},
   "outputs": [
    {
     "name": "stdin",
     "output_type": "stream",
     "text": [
      "Enter the number1: 5\n",
      "Enter the number2: 67\n"
     ]
    },
    {
     "name": "stdout",
     "output_type": "stream",
     "text": [
      "Arithemetic operations:\n",
      "sum- 72\n",
      "diff- -62\n",
      "mul- 335\n",
      "div- 0.07462686567164178\n",
      "floor- 0\n",
      "mod- 5\n",
      "exp- 67762635780344027125465800054371356964111328125\n",
      "\n",
      "Relational operations:\n",
      "equal to False\n",
      "notequalto True\n",
      "greater than False\n",
      "lesser than True\n",
      "greater than or equal False\n",
      "lesser than or equal True\n",
      "\n",
      "Logical operations:\n",
      "and True\n",
      "or True\n"
     ]
    }
   ],
   "source": [
    "n1= int(input(\"Enter the number1:\"))\n",
    "n2= int(input(\"Enter the number2:\"))\n",
    "print(\"Arithemetic operations:\")\n",
    "print(\"sum-\",n1+n2)\n",
    "print(\"diff-\",n1-n2)\n",
    "print(\"mul-\",n1*n2)\n",
    "print(\"div-\",n1/n2)\n",
    "print(\"floor-\",n1//n2)\n",
    "print(\"mod-\",n1%n2)\n",
    "print(\"exp-\",n1**n2)\n",
    "print()\n",
    "print(\"Relational operations:\")\n",
    "print(\"equal to\",n1==n2)\n",
    "print(\"notequalto\",n1!=n2)\n",
    "print(\"greater than\",n1>n2)\n",
    "print(\"lesser than\",n1<n2)\n",
    "print(\"greater than or equal\",n1>=n2)\n",
    "print(\"lesser than or equal\",n1<=n2)\n",
    "print()\n",
    "print(\"Logical operations:\")\n",
    "print(\"and\",n1>0 and n2>45)\n",
    "print(\"or\",n1>0 or n2>45)\n",
    "\n",
    "\n",
    "\n",
    "\n",
    "\n"
   ]
  },
  {
   "cell_type": "markdown",
   "id": "92d54503-a7a6-43d0-acca-5d7e00d423d0",
   "metadata": {},
   "source": [
    "# 1\n",
    "2 3\n",
    "4 5 6\n",
    "7 8 9 10\n",
    "11 12 13 14 15\n",
    "Using nested while loop."
   ]
  },
  {
   "cell_type": "code",
   "execution_count": 1,
   "id": "886a127d-b1a2-4f0e-ae05-0c2f8d32f5ef",
   "metadata": {},
   "outputs": [
    {
     "name": "stdout",
     "output_type": "stream",
     "text": [
      "1 \n",
      "2 3 \n",
      "4 5 6 \n",
      "7 8 9 10 \n",
      "11 12 13 14 15 \n"
     ]
    }
   ],
   "source": [
    "num=1 #value to be printed\n",
    "n=1 #incrementing rows value\n",
    "while n<=5: #checking rows value\n",
    "    k=1\n",
    "    while k<=n:\n",
    "        print(num,end=\" \")\n",
    "        num+=1\n",
    "        k+=1 \n",
    "    print()\n",
    "    n+=1"
   ]
  },
  {
   "cell_type": "markdown",
   "id": "417932b3-5cbe-4a65-aa60-6bfc62e7f786",
   "metadata": {},
   "source": [
    "#  * # * # * #\n",
    "   # * # * # *\n",
    "   * # * # * #\n",
    "   # * # * # *\n",
    "   * # * # * #\n",
    "# * # * # *  Using nested while loop."
   ]
  },
  {
   "cell_type": "code",
   "execution_count": 4,
   "id": "e377616e-0c11-4501-8915-04fecf3ecaab",
   "metadata": {},
   "outputs": [
    {
     "name": "stdout",
     "output_type": "stream",
     "text": [
      "* # * # * # \n",
      "# * # * # * \n",
      "* # * # * # \n",
      "# * # * # * \n",
      "* # * # * # \n",
      "# * # * # * \n"
     ]
    }
   ],
   "source": [
    "i=1\n",
    "while(i<=6):\n",
    "    j=1\n",
    "    while(j<=6):\n",
    "        if (i+j) %2 == 0:\n",
    "            print(\"*\",end=\" \")\n",
    "        else:\n",
    "            print(\"#\",end=\" \")\n",
    "        j+=1\n",
    "    print()\n",
    "    i+=1"
   ]
  },
  {
   "cell_type": "markdown",
   "id": "073f0eb8-85d4-463f-94d1-96abef58e865",
   "metadata": {},
   "source": [
    "#       *\n",
    "      * *\n",
    "    * * *\n",
    "  * * * *\n",
    "* * * * *        Using nested while loop."
   ]
  },
  {
   "cell_type": "code",
   "execution_count": 3,
   "id": "822cdbdd-c43f-4a8c-b02c-fc6dc3895105",
   "metadata": {},
   "outputs": [
    {
     "name": "stdout",
     "output_type": "stream",
     "text": [
      "        * \n",
      "      * * \n",
      "    * * * \n",
      "  * * * * \n",
      "* * * * * \n"
     ]
    }
   ],
   "source": [
    "total_rows=5\n",
    "row_count=1\n",
    "while row_count<=total_rows:\n",
    "    space = total_rows-row_count\n",
    "    while(space>0):\n",
    "        print(\" \",end=\" \")\n",
    "        space-=1\n",
    "    star=1\n",
    "    while star<=row_count:\n",
    "        print(\"*\",end=\" \")\n",
    "        star+=1\n",
    "    print()\n",
    "    row_count+=1\n",
    "    "
   ]
  }
 ],
 "metadata": {
  "kernelspec": {
   "display_name": "Python 3 (ipykernel)",
   "language": "python",
   "name": "python3"
  },
  "language_info": {
   "codemirror_mode": {
    "name": "ipython",
    "version": 3
   },
   "file_extension": ".py",
   "mimetype": "text/x-python",
   "name": "python",
   "nbconvert_exporter": "python",
   "pygments_lexer": "ipython3",
   "version": "3.13.8"
  }
 },
 "nbformat": 4,
 "nbformat_minor": 5
}
