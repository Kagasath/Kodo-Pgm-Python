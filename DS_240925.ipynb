{
 "cells": [
  {
   "cell_type": "code",
   "execution_count": 2,
   "id": "8d75947d-68a4-44e7-b649-88ea07c56c36",
   "metadata": {},
   "outputs": [
    {
     "name": "stdout",
     "output_type": "stream",
     "text": [
      "gay\n"
     ]
    }
   ],
   "source": [
    "var=\"gayathri\"\n",
    "print(var[0:3])"
   ]
  },
  {
   "cell_type": "code",
   "execution_count": 20,
   "id": "10c47422-8836-4b9d-be11-dce7e2a05b8d",
   "metadata": {},
   "outputs": [
    {
     "data": {
      "text/plain": [
       "[7, 2, 8, 4]"
      ]
     },
     "execution_count": 20,
     "metadata": {},
     "output_type": "execute_result"
    }
   ],
   "source": [
    "k=(2,4,6)\n",
    "type(k)\n",
    "l3=[5,7,2,4]\n",
    "type(l3)\n",
    "l4=list(k)+l3\n",
    "l4\n",
    "l3.append(5)\n",
    "l3\n",
    "l3.pop()\n",
    "l3\n",
    "l4.pop(0)\n",
    "l4\n",
    "l4.remove(4)\n",
    "l4\n",
    "l3.insert(3,8)\n",
    "l3\n",
    "del l3[0]\n",
    "l3"
   ]
  },
  {
   "cell_type": "code",
   "execution_count": 6,
   "id": "93249c27-ab82-438e-9d1f-d3fb3c2f8439",
   "metadata": {},
   "outputs": [
    {
     "name": "stdout",
     "output_type": "stream",
     "text": [
      "[0, 1, 4, 3, 4, 5, 6, 7, 8, 9]\n",
      "[4]\n",
      "[0, 1, 4, 3, 4, 5, 6, 7, 8, 9]\n",
      "[0, 1, 4, 3, 4, 5, 6, 7, 8, 9, 0, 1, 4, 3, 4, 5, 6, 7, 8, 9, 0, 1, 4, 3, 4, 5, 6, 7, 8, 9, 0, 1, 4, 3, 4, 5, 6, 7, 8, 9, 0, 1, 4, 3, 4, 5, 6, 7, 8, 9, 0, 1, 4, 3, 4, 5, 6, 7, 8, 9, 0, 1, 4, 3, 4, 5, 6, 7, 8, 9, 0, 1, 4, 3, 4, 5, 6, 7, 8, 9, 0, 1, 4, 3, 4, 5, 6, 7, 8, 9, 0, 1, 4, 3, 4, 5, 6, 7, 8, 9]\n"
     ]
    }
   ],
   "source": [
    "#1\n",
    "sq=[]\n",
    "for x in range(10):\n",
    "    if x==2:\n",
    "        sq.append(x**2)\n",
    "    else:\n",
    "        sq.append(x)\n",
    "print(sq)\n",
    "#2 List comp\n",
    "sq=[x**2 for x in range(10) if x==2]\n",
    "print(sq)\n",
    "#3\n",
    "sq1=[x**2 if x==2 else x for x in range(10)]\n",
    "print(sq1)\n",
    "#4\n",
    "sq2=[j**2 if j==2 else j for x in range(10) for j in range(10)]\n",
    "print(sq2)"
   ]
  },
  {
   "cell_type": "markdown",
   "id": "35e818de-25bf-4d63-a461-9ccbad2414a6",
   "metadata": {},
   "source": [
    "# set"
   ]
  },
  {
   "cell_type": "code",
   "execution_count": 2,
   "id": "17cba5de-496a-4d36-acbe-0a1c2b641174",
   "metadata": {},
   "outputs": [
    {
     "name": "stdout",
     "output_type": "stream",
     "text": [
      "<class 'set'>\n"
     ]
    }
   ],
   "source": [
    "l1=[1,2,3,4]\n",
    "s1=set(l1)\n",
    "print(type(s1))"
   ]
  },
  {
   "cell_type": "markdown",
   "id": "2a780bc8-c025-4a21-8db5-746efc7ec5e8",
   "metadata": {},
   "source": [
    "# Dictionary"
   ]
  },
  {
   "cell_type": "code",
   "execution_count": 28,
   "id": "c0f85fe7-dd89-4899-9787-63487831e279",
   "metadata": {},
   "outputs": [
    {
     "name": "stdout",
     "output_type": "stream",
     "text": [
      "name\n",
      "ggg\n",
      "class\n",
      "4\n",
      "place\n",
      "ccc\n"
     ]
    }
   ],
   "source": [
    "h={}\n",
    "type(h)\n",
    "h['name']='ggg'\n",
    "h['class']=4\n",
    "h['place']='ccc'\n",
    "h\n",
    "for i,j in h.items():\n",
    "    print(i)\n",
    "    print(j)"
   ]
  },
  {
   "cell_type": "markdown",
   "id": "dc58ec67-d29f-4f8e-bdf2-eac94f2db5ac",
   "metadata": {},
   "source": [
    "# enumerate"
   ]
  },
  {
   "cell_type": "code",
   "execution_count": 40,
   "id": "26f6ebc8-b11c-4e25-935a-d1deaead09b5",
   "metadata": {},
   "outputs": [
    {
     "name": "stdout",
     "output_type": "stream",
     "text": [
      "0 tic\n",
      "1 tac\n",
      "2 toe\n",
      "1 tic\n",
      "2 tac\n",
      "3 toe\n",
      "1 34\n",
      "2 45\n",
      "3 56\n",
      "1 : 1\n",
      "2 : 2\n",
      "3 : 3\n",
      "4 : 4\n"
     ]
    }
   ],
   "source": [
    "for i,j in enumerate((\"tic\",\"tac\",\"toe\")):\n",
    "    print(i,j)\n",
    "for i,j in enumerate((\"tic\",\"tac\",\"toe\"),start=1):\n",
    "    print(i,j)\n",
    "dic={1:34,2:45,3:56}\n",
    "for i,j in dic.items():\n",
    "    print(i,j)\n",
    "l1=[1,2,3,4]\n",
    "for i,j in enumerate ((l1),start=1):\n",
    "    print(i,\":\",j)"
   ]
  },
  {
   "cell_type": "markdown",
   "id": "79bf60ff-073c-47e9-ba8e-0b59188b6e2a",
   "metadata": {},
   "source": [
    "# zip"
   ]
  },
  {
   "cell_type": "code",
   "execution_count": 41,
   "id": "59aeabeb-f280-4b14-a78c-c89259b33471",
   "metadata": {},
   "outputs": [
    {
     "name": "stdout",
     "output_type": "stream",
     "text": [
      "[(1, 'a', True), (2, 'b', False), (3, 'c', True)]\n"
     ]
    }
   ],
   "source": [
    "list1 = [1, 2, 3]\n",
    "list2 = ['a', 'b', 'c']\n",
    "list3 = [True, False, True]\n",
    "zipped_data = zip(list1, list2, list3)\n",
    "# Convert the zip object to a list to see the contents\n",
    "result_list = list(zipped_data)\n",
    "print(result_list)\n"
   ]
  },
  {
   "cell_type": "code",
   "execution_count": 2,
   "id": "5f0e7891-1a07-4916-b80d-b5b657a63e56",
   "metadata": {},
   "outputs": [
    {
     "name": "stdout",
     "output_type": "stream",
     "text": [
      "[(1, 'ONE'), (2, 'TWO'), (3, 'THREE'), (4, 'FOUR')]\n"
     ]
    }
   ],
   "source": [
    "numbersList = [1, 2, 3, 4 ]\n",
    "str_list = ['one', 'two']\n",
    "numbers_tuple = ('ONE', 'TWO', 'THREE', 'FOUR')\n",
    "result = zip(numbersList, numbers_tuple)\n",
    "print(list(result))"
   ]
  },
  {
   "cell_type": "code",
   "execution_count": null,
   "id": "6a92a7de-472a-40eb-86c6-6c72e806db1a",
   "metadata": {},
   "outputs": [],
   "source": []
  }
 ],
 "metadata": {
  "kernelspec": {
   "display_name": "Python 3 (ipykernel)",
   "language": "python",
   "name": "python3"
  },
  "language_info": {
   "codemirror_mode": {
    "name": "ipython",
    "version": 3
   },
   "file_extension": ".py",
   "mimetype": "text/x-python",
   "name": "python",
   "nbconvert_exporter": "python",
   "pygments_lexer": "ipython3",
   "version": "3.13.7"
  }
 },
 "nbformat": 4,
 "nbformat_minor": 5
}
