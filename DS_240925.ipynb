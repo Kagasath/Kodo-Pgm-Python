{
 "cells": [
  {
   "cell_type": "code",
   "execution_count": 2,
   "id": "8d75947d-68a4-44e7-b649-88ea07c56c36",
   "metadata": {},
   "outputs": [
    {
     "name": "stdout",
     "output_type": "stream",
     "text": [
      "gay\n"
     ]
    }
   ],
   "source": [
    "var=\"gayathri\"\n",
    "print(var[0:3])"
   ]
  },
  {
   "cell_type": "code",
   "execution_count": 20,
   "id": "10c47422-8836-4b9d-be11-dce7e2a05b8d",
   "metadata": {},
   "outputs": [
    {
     "data": {
      "text/plain": [
       "[7, 2, 8, 4]"
      ]
     },
     "execution_count": 20,
     "metadata": {},
     "output_type": "execute_result"
    }
   ],
   "source": [
    "k=(2,4,6)\n",
    "type(k)\n",
    "l3=[5,7,2,4]\n",
    "type(l3)\n",
    "l4=list(k)+l3\n",
    "l4\n",
    "l3.append(5)\n",
    "l3\n",
    "l3.pop()\n",
    "l3\n",
    "l4.pop(0)\n",
    "l4\n",
    "l4.remove(4)\n",
    "l4\n",
    "l3.insert(3,8)\n",
    "l3\n",
    "del l3[0]\n",
    "l3"
   ]
  },
  {
   "cell_type": "code",
   "execution_count": 6,
   "id": "93249c27-ab82-438e-9d1f-d3fb3c2f8439",
   "metadata": {},
   "outputs": [
    {
     "name": "stdout",
     "output_type": "stream",
     "text": [
      "[0, 1, 4, 3, 4, 5, 6, 7, 8, 9]\n",
      "[4]\n",
      "[0, 1, 4, 3, 4, 5, 6, 7, 8, 9]\n",
      "[0, 1, 4, 3, 4, 5, 6, 7, 8, 9, 0, 1, 4, 3, 4, 5, 6, 7, 8, 9, 0, 1, 4, 3, 4, 5, 6, 7, 8, 9, 0, 1, 4, 3, 4, 5, 6, 7, 8, 9, 0, 1, 4, 3, 4, 5, 6, 7, 8, 9, 0, 1, 4, 3, 4, 5, 6, 7, 8, 9, 0, 1, 4, 3, 4, 5, 6, 7, 8, 9, 0, 1, 4, 3, 4, 5, 6, 7, 8, 9, 0, 1, 4, 3, 4, 5, 6, 7, 8, 9, 0, 1, 4, 3, 4, 5, 6, 7, 8, 9]\n"
     ]
    }
   ],
   "source": [
    "#1\n",
    "sq=[]\n",
    "for x in range(10):\n",
    "    if x==2:\n",
    "        sq.append(x**2)\n",
    "    else:\n",
    "        sq.append(x)\n",
    "print(sq)\n",
    "#2 List comp\n",
    "sq=[x**2 for x in range(10) if x==2]\n",
    "print(sq)\n",
    "#3\n",
    "sq1=[x**2 if x==2 else x for x in range(10)]\n",
    "print(sq1)\n",
    "#4\n",
    "sq2=[j**2 if j==2 else j for x in range(10) for j in range(10)]\n",
    "print(sq2)"
   ]
  },
  {
   "cell_type": "markdown",
   "id": "35e818de-25bf-4d63-a461-9ccbad2414a6",
   "metadata": {},
   "source": [
    "# set"
   ]
  },
  {
   "cell_type": "code",
   "execution_count": 2,
   "id": "17cba5de-496a-4d36-acbe-0a1c2b641174",
   "metadata": {},
   "outputs": [
    {
     "name": "stdout",
     "output_type": "stream",
     "text": [
      "<class 'set'>\n"
     ]
    }
   ],
   "source": [
    "l1=[1,2,3,4]\n",
    "s1=set(l1)\n",
    "print(type(s1))"
   ]
  },
  {
   "cell_type": "markdown",
   "id": "2a780bc8-c025-4a21-8db5-746efc7ec5e8",
   "metadata": {},
   "source": [
    "# Dictionary"
   ]
  },
  {
   "cell_type": "code",
   "execution_count": 28,
   "id": "c0f85fe7-dd89-4899-9787-63487831e279",
   "metadata": {},
   "outputs": [
    {
     "name": "stdout",
     "output_type": "stream",
     "text": [
      "name\n",
      "ggg\n",
      "class\n",
      "4\n",
      "place\n",
      "ccc\n"
     ]
    }
   ],
   "source": [
    "h={}\n",
    "type(h)\n",
    "h['name']='ggg'\n",
    "h['class']=4\n",
    "h['place']='ccc'\n",
    "h\n",
    "for i,j in h.items():\n",
    "    print(i)\n",
    "    print(j)"
   ]
  },
  {
   "cell_type": "markdown",
   "id": "dc58ec67-d29f-4f8e-bdf2-eac94f2db5ac",
   "metadata": {},
   "source": [
    "# enumerate"
   ]
  },
  {
   "cell_type": "code",
   "execution_count": 40,
   "id": "26f6ebc8-b11c-4e25-935a-d1deaead09b5",
   "metadata": {},
   "outputs": [
    {
     "name": "stdout",
     "output_type": "stream",
     "text": [
      "0 tic\n",
      "1 tac\n",
      "2 toe\n",
      "1 tic\n",
      "2 tac\n",
      "3 toe\n",
      "1 34\n",
      "2 45\n",
      "3 56\n",
      "1 : 1\n",
      "2 : 2\n",
      "3 : 3\n",
      "4 : 4\n"
     ]
    }
   ],
   "source": [
    "for i,j in enumerate((\"tic\",\"tac\",\"toe\")):\n",
    "    print(i,j)\n",
    "for i,j in enumerate((\"tic\",\"tac\",\"toe\"),start=1):\n",
    "    print(i,j)\n",
    "dic={1:34,2:45,3:56}\n",
    "for i,j in dic.items():\n",
    "    print(i,j)\n",
    "l1=[1,2,3,4]\n",
    "for i,j in enumerate ((l1),start=1):\n",
    "    print(i,\":\",j)"
   ]
  },
  {
   "cell_type": "markdown",
   "id": "79bf60ff-073c-47e9-ba8e-0b59188b6e2a",
   "metadata": {},
   "source": [
    "# zip"
   ]
  },
  {
   "cell_type": "code",
   "execution_count": 41,
   "id": "59aeabeb-f280-4b14-a78c-c89259b33471",
   "metadata": {},
   "outputs": [
    {
     "name": "stdout",
     "output_type": "stream",
     "text": [
      "[(1, 'a', True), (2, 'b', False), (3, 'c', True)]\n"
     ]
    }
   ],
   "source": [
    "list1 = [1, 2, 3]\n",
    "list2 = ['a', 'b', 'c']\n",
    "list3 = [True, False, True]\n",
    "zipped_data = zip(list1, list2, list3)\n",
    "# Convert the zip object to a list to see the contents\n",
    "result_list = list(zipped_data)\n",
    "print(result_list)\n"
   ]
  },
  {
   "cell_type": "code",
   "execution_count": 2,
   "id": "5f0e7891-1a07-4916-b80d-b5b657a63e56",
   "metadata": {},
   "outputs": [
    {
     "name": "stdout",
     "output_type": "stream",
     "text": [
      "[(1, 'ONE'), (2, 'TWO'), (3, 'THREE'), (4, 'FOUR')]\n"
     ]
    }
   ],
   "source": [
    "numbersList = [1, 2, 3, 4 ]\n",
    "str_list = ['one', 'two']\n",
    "numbers_tuple = ('ONE', 'TWO', 'THREE', 'FOUR')\n",
    "result = zip(numbersList, numbers_tuple)\n",
    "print(list(result))"
   ]
  },
  {
   "cell_type": "markdown",
   "id": "8e019b1d-5177-436b-a72e-c7e02115c611",
   "metadata": {},
   "source": [
    "# in-built libraries"
   ]
  },
  {
   "cell_type": "code",
   "execution_count": 3,
   "id": "9cca9512-4ae4-4749-848e-e35eb0446a5c",
   "metadata": {},
   "outputs": [
    {
     "name": "stdout",
     "output_type": "stream",
     "text": [
      "['__doc__', '__loader__', '__name__', '__package__', '__spec__', 'acos', 'acosh', 'asin', 'asinh', 'atan', 'atan2', 'atanh', 'cbrt', 'ceil', 'comb', 'copysign', 'cos', 'cosh', 'degrees', 'dist', 'e', 'erf', 'erfc', 'exp', 'exp2', 'expm1', 'fabs', 'factorial', 'floor', 'fma', 'fmod', 'frexp', 'fsum', 'gamma', 'gcd', 'hypot', 'inf', 'isclose', 'isfinite', 'isinf', 'isnan', 'isqrt', 'lcm', 'ldexp', 'lgamma', 'log', 'log10', 'log1p', 'log2', 'modf', 'nan', 'nextafter', 'perm', 'pi', 'pow', 'prod', 'radians', 'remainder', 'sin', 'sinh', 'sqrt', 'sumprod', 'tan', 'tanh', 'tau', 'trunc', 'ulp']\n"
     ]
    }
   ],
   "source": [
    "import math\n",
    "print(dir(math))"
   ]
  },
  {
   "cell_type": "code",
   "execution_count": 4,
   "id": "bc68a72c-5aa2-4a88-ae2a-4dae91abab33",
   "metadata": {},
   "outputs": [
    {
     "name": "stdout",
     "output_type": "stream",
     "text": [
      "1.7320508075688772\n"
     ]
    }
   ],
   "source": [
    "from math import *\n",
    "print(sqrt(3))"
   ]
  },
  {
   "cell_type": "code",
   "execution_count": 7,
   "id": "6ca0f5f6-5160-40a7-ad20-adf8e0177b64",
   "metadata": {},
   "outputs": [
    {
     "name": "stdout",
     "output_type": "stream",
     "text": [
      "['DirEntry', 'EX_OK', 'F_OK', 'GenericAlias', 'Mapping', 'MutableMapping', 'O_APPEND', 'O_BINARY', 'O_CREAT', 'O_EXCL', 'O_NOINHERIT', 'O_RANDOM', 'O_RDONLY', 'O_RDWR', 'O_SEQUENTIAL', 'O_SHORT_LIVED', 'O_TEMPORARY', 'O_TEXT', 'O_TRUNC', 'O_WRONLY', 'P_DETACH', 'P_NOWAIT', 'P_NOWAITO', 'P_OVERLAY', 'P_WAIT', 'PathLike', 'R_OK', 'SEEK_CUR', 'SEEK_END', 'SEEK_SET', 'TMP_MAX', 'W_OK', 'X_OK', '_AddedDllDirectory', '_Environ', '__all__', '__builtins__', '__doc__', '__file__', '__loader__', '__name__', '__package__', '__spec__', '_check_methods', '_execvpe', '_exists', '_exit', '_fspath', '_get_exports_list', '_walk_symlinks_as_files', '_wrap_close', 'abc', 'abort', 'access', 'add_dll_directory', 'altsep', 'chdir', 'chmod', 'close', 'closerange', 'cpu_count', 'curdir', 'defpath', 'device_encoding', 'devnull', 'dup', 'dup2', 'environ', 'error', 'execl', 'execle', 'execlp', 'execlpe', 'execv', 'execve', 'execvp', 'execvpe', 'extsep', 'fchmod', 'fdopen', 'fsdecode', 'fsencode', 'fspath', 'fstat', 'fsync', 'ftruncate', 'get_blocking', 'get_exec_path', 'get_handle_inheritable', 'get_inheritable', 'get_terminal_size', 'getcwd', 'getcwdb', 'getenv', 'getlogin', 'getpid', 'getppid', 'isatty', 'kill', 'lchmod', 'linesep', 'link', 'listdir', 'listdrives', 'listmounts', 'listvolumes', 'lseek', 'lstat', 'makedirs', 'mkdir', 'name', 'open', 'pardir', 'path', 'pathsep', 'pipe', 'popen', 'process_cpu_count', 'putenv', 'read', 'readlink', 'remove', 'removedirs', 'rename', 'renames', 'replace', 'rmdir', 'scandir', 'sep', 'set_blocking', 'set_handle_inheritable', 'set_inheritable', 'spawnl', 'spawnle', 'spawnv', 'spawnve', 'st', 'startfile', 'stat', 'stat_result', 'statvfs_result', 'strerror', 'supports_bytes_environ', 'supports_dir_fd', 'supports_effective_ids', 'supports_fd', 'supports_follow_symlinks', 'symlink', 'sys', 'system', 'terminal_size', 'times', 'times_result', 'truncate', 'umask', 'uname_result', 'unlink', 'unsetenv', 'urandom', 'utime', 'waitpid', 'waitstatus_to_exitcode', 'walk', 'write']\n",
      "Current Directory: C:\\Users\\XNovaQ.15\\Documents\\Python\\Kodo-Pgm-Python\n",
      "New Directory Created at: C:\\Users\\XNovaQ.15\\Documents\\Python\\Kodo-Pgm-Python\\demo_folder\n"
     ]
    }
   ],
   "source": [
    "import os\n",
    "print(dir(os))\n",
    "print(\"Current Directory:\",os.getcwd()) #cwd-current working directory\n",
    "os.makedirs(\"demo_folder\",exist_ok=True)\n",
    "print(\"New Directory Created at:\",os.path.abspath(\"demo_folder\"))"
   ]
  },
  {
   "cell_type": "code",
   "execution_count": 8,
   "id": "e459e3a7-9aa6-4dda-b516-12fa927089ef",
   "metadata": {},
   "outputs": [
    {
     "name": "stdout",
     "output_type": "stream",
     "text": [
      "0.6314756467505592\n"
     ]
    }
   ],
   "source": [
    "import random\n",
    "print(random.random()) #prints random value from 0-1"
   ]
  },
  {
   "cell_type": "code",
   "execution_count": 9,
   "id": "89bcb5b1-eaeb-44b2-8803-e3a5c40798f7",
   "metadata": {},
   "outputs": [
    {
     "name": "stdout",
     "output_type": "stream",
     "text": [
      "6\n"
     ]
    }
   ],
   "source": [
    "print(random.randint(1,12))#prints random int value from 1,12"
   ]
  },
  {
   "cell_type": "code",
   "execution_count": null,
   "id": "23a487e2-76d9-4428-bb42-e6d5e1668872",
   "metadata": {},
   "outputs": [],
   "source": [
    "print(random.uniform(1,2))#prints random decimal value from 1,2"
   ]
  },
  {
   "cell_type": "code",
   "execution_count": 11,
   "id": "9f98689c-8ba7-4134-b407-6a7de69a0e4b",
   "metadata": {},
   "outputs": [
    {
     "name": "stdout",
     "output_type": "stream",
     "text": [
      "2\n"
     ]
    }
   ],
   "source": [
    "print(random.choice((1,2)))"
   ]
  },
  {
   "cell_type": "code",
   "execution_count": 12,
   "id": "a06b8be0-782e-4027-ae3f-4014d087b68b",
   "metadata": {},
   "outputs": [
    {
     "name": "stdout",
     "output_type": "stream",
     "text": [
      "[2, 3, 1]\n"
     ]
    }
   ],
   "source": [
    "new=[1,2,3]\n",
    "random.shuffle(new)\n",
    "print(new)"
   ]
  },
  {
   "cell_type": "code",
   "execution_count": 13,
   "id": "e9fc6c85-0a5e-44bc-aef2-f8a96ba3efc8",
   "metadata": {},
   "outputs": [
    {
     "name": "stdout",
     "output_type": "stream",
     "text": [
      "2025-09-24 16:03:36.791413\n"
     ]
    }
   ],
   "source": [
    "from datetime import*\n",
    "print(datetime.now())"
   ]
  },
  {
   "cell_type": "code",
   "execution_count": 22,
   "id": "a0b8031f-b6d2-467f-802e-c2a0df8dcc14",
   "metadata": {},
   "outputs": [
    {
     "name": "stdout",
     "output_type": "stream",
     "text": [
      "specific date: 2023-10-26\n",
      "specific time: 14:30:15\n",
      "specific datetime: 2024-07-15 09:45:00\n"
     ]
    }
   ],
   "source": [
    "from datetime import datetime,date,time\n",
    "specific_date=date(2023,10,26) #y/m/d\n",
    "print(\"specific date:\",specific_date)\n",
    "specific_time=time(14,30,15)\n",
    "print(\"specific time:\",specific_time)\n",
    "specific_datetime=datetime(2024,7,15,9,45,0)\n",
    "print(\"specific datetime:\",specific_datetime)\n"
   ]
  },
  {
   "cell_type": "code",
   "execution_count": 21,
   "id": "b00d4fe2-476a-4c8e-ae5e-31e0ab9153e6",
   "metadata": {},
   "outputs": [
    {
     "name": "stdout",
     "output_type": "stream",
     "text": [
      "2025-09-24 16:22:42.796169\n",
      "2025-09-24 16:22:42\n",
      "Wednesday,Sep,24,2025\n",
      "04:22 PM\n"
     ]
    }
   ],
   "source": [
    "#2\n",
    "curr_datetime=datetime.now()\n",
    "print(curr_datetime)\n",
    "formatted_datetime=curr_datetime.strftime(\"%Y-%m-%d %H:%M:%S\")\n",
    "print(formatted_datetime)\n",
    "formatted_datetime=curr_datetime.strftime(\"%A,%b,%d,%Y\") #A=day,b=month,d=date,y=year\n",
    "print(formatted_datetime)\n",
    "formatted_datetime=curr_datetime.strftime(\"%I:%M %p\") #I=hours,M=minutes,p=am/pm\n",
    "print(formatted_datetime)\n"
   ]
  },
  {
   "cell_type": "code",
   "execution_count": 26,
   "id": "9a3b0e36-eefa-41bb-81fb-8c335b61592e",
   "metadata": {},
   "outputs": [
    {
     "name": "stdout",
     "output_type": "stream",
     "text": [
      "Current date 2025-09-24\n",
      "Current date 2025\n",
      "Current date 9\n",
      "Current date 24\n"
     ]
    }
   ],
   "source": [
    "#3\n",
    "current_date=date.today()\n",
    "print(\"Current date\",current_date)\n",
    "print(\"Current date\",current_date.year)\n",
    "print(\"Current date\",current_date.month)\n",
    "print(\"Current date\",current_date.day)"
   ]
  },
  {
   "cell_type": "code",
   "execution_count": null,
   "id": "5ef8f460-d6c5-4670-bbc8-5bb371703c59",
   "metadata": {},
   "outputs": [],
   "source": [
    "#os directory"
   ]
  },
  {
   "cell_type": "code",
   "execution_count": 27,
   "id": "2303e660-eb42-48ee-a6f0-d1975fa5472f",
   "metadata": {},
   "outputs": [
    {
     "name": "stdout",
     "output_type": "stream",
     "text": [
      "Current working directory: C:\\Users\\XNovaQ.15\\Documents\\Python\\Kodo-Pgm-Python\n"
     ]
    }
   ],
   "source": [
    "import os\n",
    "cwd=os.getcwd()\n",
    "print(\"Current working directory:\", cwd) \n"
   ]
  },
  {
   "cell_type": "code",
   "execution_count": 4,
   "id": "ff38746a-03d2-4c7f-830e-9d8ee32cb418",
   "metadata": {},
   "outputs": [
    {
     "name": "stdout",
     "output_type": "stream",
     "text": [
      "Current working directory before\n",
      "C:\\Users\\XNovaQ.15\\Documents\\Python\\Kodo-Pgm-Python\n",
      "\n",
      "Current working directory after\n",
      "C:\\Users\\XNovaQ.15\\Documents\\Python\n",
      "Current working directory after\n",
      "C:\\Users\\XNovaQ.15\\Documents\\Python\\Kodo-Pgm-Python\n"
     ]
    }
   ],
   "source": [
    "import os \n",
    "print(\"Current working directory before\") \n",
    "print(os.getcwd()) \n",
    "print()  \n",
    "os.chdir('../') \n",
    "print(\"Current working directory after\") \n",
    "print(os.getcwd()) \n",
    "os.chdir(\"/Users/XNovaQ.15/Documents/Python/Kodo-Pgm-Python\") \n",
    "print(\"Current working directory after\") \n",
    "print(os.getcwd()) \n",
    "\n"
   ]
  },
  {
   "cell_type": "code",
   "execution_count": 5,
   "id": "d425c224-eed2-4aee-9a03-dc0ffe1abb3e",
   "metadata": {},
   "outputs": [
    {
     "name": "stdout",
     "output_type": "stream",
     "text": [
      "New Directory Created at: C:\\Users\\XNovaQ.15\\Documents\\Python\\Kodo-Pgm-Python\\demo_folder\n"
     ]
    }
   ],
   "source": [
    "import os \n",
    "os.makedirs(\"demo_folder\",exist_ok=True)\n",
    "print(\"New Directory Created at:\",os.path.abspath(\"demo_folder\"))"
   ]
  },
  {
   "cell_type": "code",
   "execution_count": 2,
   "id": "5b03921f-ce54-44b6-8c90-09f20be286e1",
   "metadata": {},
   "outputs": [
    {
     "name": "stdout",
     "output_type": "stream",
     "text": [
      "['.git', '.gitignore', '.ipynb_checkpoints', 'classes&objects260925.ipynb', 'demo_folder', 'DS_240925.ipynb', 'exception handling190925.ipynb', 'Function_250925.ipynb', 'myfile.txt', 'Nestedfor_class220925.ipynb', 'Nestedwhile&List_230925.ipynb', 'Statements_180925.ipynb', 'Task 180925.ipynb', 'Task190925.ipynb', 'Task220925.ipynb', 'Task230925.ipynb', 'Task_240925.ipynb', 'Types_operators_170925.ipynb']\n"
     ]
    }
   ],
   "source": [
    "#listing directories\n",
    "import os\n",
    "dir_list = os.listdir() \n",
    "print(dir_list)"
   ]
  },
  {
   "cell_type": "code",
   "execution_count": 3,
   "id": "13218d5c-c5bc-478a-b96f-f6a953719fff",
   "metadata": {},
   "outputs": [
    {
     "name": "stdout",
     "output_type": "stream",
     "text": [
      "List of directories and files before creation:\n",
      "['.git', '.gitignore', '.ipynb_checkpoints', 'classes&objects260925.ipynb', 'demo_folder', 'DS_240925.ipynb', 'exception handling190925.ipynb', 'Function_250925.ipynb', 'myfile.txt', 'Nestedfor_class220925.ipynb', 'Nestedwhile&List_230925.ipynb', 'Statements_180925.ipynb', 'Task 180925.ipynb', 'Task190925.ipynb', 'Task220925.ipynb', 'Task230925.ipynb', 'Task_240925.ipynb', 'Types_operators_170925.ipynb']\n",
      "\n",
      "List of directories and files after creation:\n",
      "['.git', '.gitignore', '.ipynb_checkpoints', 'classes&objects260925.ipynb', 'demo_folder', 'DS_240925.ipynb', 'exception handling190925.ipynb', 'Function_250925.ipynb', 'myfile.txt', 'Nestedfor_class220925.ipynb', 'Nestedwhile&List_230925.ipynb', 'Statements_180925.ipynb', 'Task 180925.ipynb', 'Task190925.ipynb', 'Task220925.ipynb', 'Task230925.ipynb', 'Task_240925.ipynb', 'Types_operators_170925.ipynb']\n"
     ]
    }
   ],
   "source": [
    "#creating file\n",
    "\n",
    "import os\n",
    "# Specify the path\n",
    "path = \"C:/Users/XNovaQ.15/Documents/Python/Kodo-Pgm-Python/\"\n",
    "\n",
    "# Specify the file name\n",
    "file = 'myfile.txt'\n",
    "\n",
    "# Before creating\n",
    "dir_list = os.listdir(path)\n",
    "print(\"List of directories and files before creation:\")\n",
    "print(dir_list)\n",
    "print()\n",
    "\n",
    "# Creating a file at specified location\n",
    "with open(os.path.join(path, file), 'w') as fp:\n",
    "    pass\n",
    "   \n",
    "# # After creating\n",
    "dir_list = os.listdir(path)\n",
    "print(\"List of directories and files after creation:\")\n",
    "print(dir_list)\n"
   ]
  },
  {
   "cell_type": "code",
   "execution_count": 4,
   "id": "0531416b-398e-41ba-abe3-21d101f149dd",
   "metadata": {},
   "outputs": [],
   "source": [
    "##removing file from location\n",
    "\n",
    "import os\n",
    "file = 'NewText.txt'\n",
    "location = \"C:/Users/XNovaQ.15/Documents/Python/Kodo-Pgm-Python/demo_folder/\"\n",
    "path = os.path.join(location, file) \n",
    "os.remove(path)"
   ]
  },
  {
   "cell_type": "code",
   "execution_count": 5,
   "id": "d5590a25-2d0a-408f-8192-4c150e0b5ca1",
   "metadata": {},
   "outputs": [
    {
     "ename": "OSError",
     "evalue": "[WinError 145] The directory is not empty: 'C:/Users/XNovaQ.15/Documents/Python/Kodo-Pgm-Python/demo_folder'",
     "output_type": "error",
     "traceback": [
      "\u001b[31m---------------------------------------------------------------------------\u001b[39m",
      "\u001b[31mOSError\u001b[39m                                   Traceback (most recent call last)",
      "\u001b[36mCell\u001b[39m\u001b[36m \u001b[39m\u001b[32mIn[5]\u001b[39m\u001b[32m, line 7\u001b[39m\n\u001b[32m      5\u001b[39m parent = \u001b[33m\"\u001b[39m\u001b[33mC:/Users/XNovaQ.15/Documents/Python/Kodo-Pgm-Python/\u001b[39m\u001b[33m\"\u001b[39m\n\u001b[32m      6\u001b[39m path = os.path.join(parent, directory) \n\u001b[32m----> \u001b[39m\u001b[32m7\u001b[39m \u001b[43mos\u001b[49m\u001b[43m.\u001b[49m\u001b[43mrmdir\u001b[49m\u001b[43m(\u001b[49m\u001b[43mpath\u001b[49m\u001b[43m)\u001b[49m \n",
      "\u001b[31mOSError\u001b[39m: [WinError 145] The directory is not empty: 'C:/Users/XNovaQ.15/Documents/Python/Kodo-Pgm-Python/demo_folder'"
     ]
    }
   ],
   "source": [
    "##removing empty directory\n",
    "\n",
    "import os \n",
    "directory = \"demo_folder\"\n",
    "parent = \"C:/Users/XNovaQ.15/Documents/Python/Kodo-Pgm-Python/\"\n",
    "path = os.path.join(parent, directory) \n",
    "os.rmdir(path) "
   ]
  },
  {
   "cell_type": "code",
   "execution_count": 6,
   "id": "73ce6e52-ed7c-45d8-bdd2-f92d70a3601a",
   "metadata": {},
   "outputs": [],
   "source": [
    "import os \n",
    "directory = \"demo_folder\"\n",
    "parent = \"C:/Users/XNovaQ.15/Documents/Python/Kodo-Pgm-Python/\"\n",
    "path = os.path.join(parent, directory) \n",
    "os.rmdir(path) "
   ]
  },
  {
   "cell_type": "code",
   "execution_count": 13,
   "id": "c0c86fea-1d90-4a00-afab-faa51654e2a7",
   "metadata": {},
   "outputs": [
    {
     "name": "stdout",
     "output_type": "stream",
     "text": [
      "C:\\Users\\XNovaQ.15\\Documents\\Python\\Kodo-Pgm-Python\n"
     ]
    }
   ],
   "source": [
    "#used to change the permissions (read, write, execute) of a file or directory.permission should be given in octal format\n",
    "# Set read-write permissions for owner (0o600)\n",
    "os.chmod(\"myfile.txt\", 0o600)\n",
    "#Explanation: 0o600 means:Owner: Read & write,Group: No permission,Others: No permission"
   ]
  },
  {
   "cell_type": "code",
   "execution_count": null,
   "id": "54949ca1-cab7-42b5-9e54-c2428dacc7ea",
   "metadata": {},
   "outputs": [],
   "source": [
    "# Change owner and group to user ID 1000 and group ID 1000\n",
    "\n",
    "os.chown(\"myfile.txt\", 1000, 1000)\n",
    "\n",
    "#Purpose: The UID is a unique numerical identifier for each user on the system. \n",
    "#Purpose: The GID is a unique numerical identifier for a group of users who share common permissions. "
   ]
  },
  {
   "cell_type": "code",
   "execution_count": 8,
   "id": "0147a198-6963-422a-9187-5d761a245f48",
   "metadata": {},
   "outputs": [
    {
     "name": "stdout",
     "output_type": "stream",
     "text": [
      "Size: 10 bytes\n",
      "Last modified: 1758871099.207346\n",
      "Permissions: 666\n"
     ]
    }
   ],
   "source": [
    "# os.stat() method is used to retrieve metadata about a file such as its size, permissions and timestamps\n",
    "stats = os.stat(\"myfile.txt\")\n",
    "print(\"Size:\", stats.st_size, \"bytes\")\n",
    "print(\"Last modified:\", stats.st_mtime)\n",
    "print(\"Permissions:\", oct(stats.st_mode)[-3:])\n",
    "#os name\n",
    "#print(os.name) # gives the name of the operating system dependent module imported.nt for window,posix for unix"
   ]
  },
  {
   "cell_type": "code",
   "execution_count": 26,
   "id": "84bcca05-2789-4bb8-94ec-87fba2d92393",
   "metadata": {},
   "outputs": [
    {
     "name": "stdout",
     "output_type": "stream",
     "text": [
      "Hello\n"
     ]
    }
   ],
   "source": [
    "#open&close\n",
    "fd = \"demo.txt\"\n",
    "file = open(fd, 'w')\n",
    "file.write(\"Hello\")\n",
    "file.close()\n",
    "file = open(fd, 'r')\n",
    "text = file.read()\n",
    "print(text)\n",
    "file.close()"
   ]
  },
  {
   "cell_type": "code",
   "execution_count": null,
   "id": "d03833cc-e016-4f2d-8ca3-72ae0029ab2f",
   "metadata": {},
   "outputs": [],
   "source": []
  }
 ],
 "metadata": {
  "kernelspec": {
   "display_name": "Python 3 (ipykernel)",
   "language": "python",
   "name": "python3"
  },
  "language_info": {
   "codemirror_mode": {
    "name": "ipython",
    "version": 3
   },
   "file_extension": ".py",
   "mimetype": "text/x-python",
   "name": "python",
   "nbconvert_exporter": "python",
   "pygments_lexer": "ipython3",
   "version": "3.13.8"
  }
 },
 "nbformat": 4,
 "nbformat_minor": 5
}
