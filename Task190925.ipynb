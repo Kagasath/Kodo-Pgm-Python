{
 "cells": [
  {
   "cell_type": "markdown",
   "id": "5a2dfaa1-1b91-4418-8838-42204ead8b5a",
   "metadata": {},
   "source": [
    "#  Input a number and check if it is prime using for...else.\n"
   ]
  },
  {
   "cell_type": "code",
   "execution_count": 7,
   "id": "6d7f899b-3be4-40a3-bb55-adc9aae3162a",
   "metadata": {},
   "outputs": [
    {
     "name": "stdin",
     "output_type": "stream",
     "text": [
      "Enter the number: 3\n"
     ]
    },
    {
     "name": "stdout",
     "output_type": "stream",
     "text": [
      "3 is a prime number\n"
     ]
    }
   ],
   "source": [
    "n=int(input(\"Enter the number:\"))\n",
    "if n<=1:\n",
    "    print(\"Enter valid input\")\n",
    "elif n>2:   \n",
    "    for i in range(2,n):\n",
    "        if n%i==0:\n",
    "            print(f\"{n} is not prime number\")\n",
    "            break\n",
    "    else:\n",
    "        print(f\"{n} is a prime number\")\n",
    "else:\n",
    "    print(f\"{n} is a prime number\")\n",
    "\n",
    "\n",
    "\n",
    "    "
   ]
  },
  {
   "cell_type": "markdown",
   "id": "30ca2c15-3581-40ab-beab-04e522656945",
   "metadata": {},
   "source": [
    "# Build a calculator with match...case to perform addition, subtraction, multiplication, and division."
   ]
  },
  {
   "cell_type": "code",
   "execution_count": 8,
   "id": "402fa40c-0c18-4e85-9e84-414ec85fb7ce",
   "metadata": {},
   "outputs": [
    {
     "name": "stdin",
     "output_type": "stream",
     "text": [
      "n1= 3\n",
      "n2= 5\n",
      "op= *\n"
     ]
    },
    {
     "name": "stdout",
     "output_type": "stream",
     "text": [
      "Multiplication of the numbers is 15\n"
     ]
    }
   ],
   "source": [
    "n1=int(input(\"n1=\"))\n",
    "n2=int(input(\"n2=\"))\n",
    "op=input(\"op=\")\n",
    "match op:\n",
    "    case '+':\n",
    "        add=n1+n2\n",
    "        print(f\"Addition of the numbers is {add}\")\n",
    "    case '-': \n",
    "        sub=n1-n2\n",
    "        print(f\"Subtraction of the numbers is {sub}\")\n",
    "    case '*': \n",
    "        mul=n1*n2\n",
    "        print(f\"Multiplication of the numbers is {mul}\")\n",
    "    case '/': \n",
    "        div=n1/n2\n",
    "        print(f\"Division of the numbers is {div}\")\n",
    "    case _:  \n",
    "        print(\"Invalid operator\")\n"
   ]
  },
  {
   "cell_type": "markdown",
   "id": "ac0dc552-2d43-4f8d-9cdd-a041c488bfb6",
   "metadata": {},
   "source": [
    "#  Define a function to check if a number is negative. If yes, raise ValueError. Handle it with try...except.\n"
   ]
  },
  {
   "cell_type": "code",
   "execution_count": 22,
   "id": "c237c413-742a-469e-a99c-c05f507b35dd",
   "metadata": {},
   "outputs": [
    {
     "name": "stdin",
     "output_type": "stream",
     "text": [
      "Enter the number jk\n"
     ]
    },
    {
     "name": "stdout",
     "output_type": "stream",
     "text": [
      "ValueError: invalid literal for int() with base 10: 'jk'\n"
     ]
    }
   ],
   "source": [
    "try:\n",
    "    n= int(input(\"Enter the number\"))\n",
    "    if n>0:\n",
    "        print(\"Entered number is positive\")\n",
    "    else:\n",
    "        raise ValueError(\"Given number is negative\")\n",
    "except ValueError as VE:#calling the raise function           \n",
    "    print(\"ValueError:\",VE)\n",
    "except Exception as e:  #calling inbuilt func defintion    \n",
    "    print(\"invalid input\")"
   ]
  },
  {
   "cell_type": "markdown",
   "id": "1e1e3a71-f044-4050-9ed0-fffd31e0eeba",
   "metadata": {},
   "source": [
    "#  Loop through numbers 1–10. If a number is divisible by 7, stop. If none is divisible by 7, print a message using else."
   ]
  },
  {
   "cell_type": "code",
   "execution_count": 29,
   "id": "2e0cf42c-524d-4d69-af5d-a0da38eed2cb",
   "metadata": {},
   "outputs": [
    {
     "name": "stdout",
     "output_type": "stream",
     "text": [
      "None is divisible by 7\n"
     ]
    }
   ],
   "source": [
    "for i in range (1,11):\n",
    "    if i%7==0:\n",
    "        break\n",
    "    i+=1\n",
    "else:\n",
    "    print(\"None is divisible by 7\")"
   ]
  },
  {
   "cell_type": "markdown",
   "id": "9d64ae3b-1fa7-4e84-9be2-b24ba171de28",
   "metadata": {},
   "source": [
    "## Outer try: take input and convert to integer. Inner try: divide two numbers. Handle errors separately."
   ]
  },
  {
   "cell_type": "code",
   "execution_count": 39,
   "id": "29764e91-ad29-484b-8871-3ce2646b4924",
   "metadata": {},
   "outputs": [
    {
     "name": "stdin",
     "output_type": "stream",
     "text": [
      "Enter the number 1 s\n"
     ]
    },
    {
     "name": "stdout",
     "output_type": "stream",
     "text": [
      "ValueError:Enter the valid input\n",
      "Code executed successfully\n"
     ]
    }
   ],
   "source": [
    "try:\n",
    "    n1= int(input(\"Enter the number 1\"))\n",
    "    n2= int(input(\"Enter the number 2\"))\n",
    "    try:\n",
    "        val= n1/n2\n",
    "        print(\"The output is:\",val)\n",
    "    except ZeroDivisionError:           \n",
    "        print(\"ZeroDivisionError:Enter the valid input:\")\n",
    "    except Exception as e:      \n",
    "        print(e)\n",
    "except ValueError:           \n",
    "        print(\"ValueError:Enter the valid input\")\n",
    "finally:                        \n",
    "    print(\"Code executed successfully\")"
   ]
  },
  {
   "cell_type": "markdown",
   "id": "aa4a754b-ac7f-4f7f-ad9f-9b7cd9376a5e",
   "metadata": {},
   "source": [
    "# Input a number, calculate square root. Handle exceptions if input is negative or not numeric. "
   ]
  },
  {
   "cell_type": "code",
   "execution_count": 15,
   "id": "43043e77-d710-48ad-825c-a140cc627835",
   "metadata": {},
   "outputs": [
    {
     "name": "stdin",
     "output_type": "stream",
     "text": [
      "Enter the number 56\n"
     ]
    },
    {
     "name": "stdout",
     "output_type": "stream",
     "text": [
      "The squareroot of a given number is \t 7.483314773547883\n"
     ]
    }
   ],
   "source": [
    "try:\n",
    "    n= float(input(\"Enter the number\"))\n",
    "    sqrt=n**0.5\n",
    "    print(\"The squareroot of a given number is \\t\",sqrt)\n",
    "except ValueError:           \n",
    "    print(\"ValueError:Enter the valid input\")\n",
    "except Exception as e:      \n",
    "    print(\"invalid input\")"
   ]
  },
  {
   "cell_type": "markdown",
   "id": "9fb53abc-9f53-4bdf-b89b-7943ad85ca7e",
   "metadata": {},
   "source": [
    "# Ask for age and check with operators: < 18 → Minor, >= 18 → Adult, >= 60 → Senior."
   ]
  },
  {
   "cell_type": "code",
   "execution_count": 42,
   "id": "a09fc000-8e2a-4b6f-9c0e-8d47794dc186",
   "metadata": {},
   "outputs": [
    {
     "name": "stdin",
     "output_type": "stream",
     "text": [
      "Enter the age 67\n"
     ]
    },
    {
     "name": "stdout",
     "output_type": "stream",
     "text": [
      "Senior\n"
     ]
    }
   ],
   "source": [
    "age= int(input(\"Enter the age\"))\n",
    "if age<18:\n",
    "    print(\"Minor\")\n",
    "elif age>=60:\n",
    "    print(\"Senior\")\n",
    "else:\n",
    "    print(\"Adult\")\n",
    "   \n",
    "    \n",
    "    "
   ]
  },
  {
   "cell_type": "markdown",
   "id": "f76b18e1-a2a0-4a2f-b4bd-2360f8364410",
   "metadata": {},
   "source": [
    "# Write a program that:Takes marks as input. Handles invalid input with try...except. Uses match...case to classify results. Uses operators (<, >, ==) for range checking. Uses for...else to confirm marks are within a valid grading range (0–100)."
   ]
  },
  {
   "cell_type": "code",
   "execution_count": 55,
   "id": "9704c3aa-4829-4929-9c1e-77b38cd1370e",
   "metadata": {},
   "outputs": [
    {
     "name": "stdin",
     "output_type": "stream",
     "text": [
      "Enter the marks j\n"
     ]
    },
    {
     "name": "stdout",
     "output_type": "stream",
     "text": [
      "ValueError:Enter the valid input\n"
     ]
    }
   ],
   "source": [
    "try:\n",
    "    marks= int(input(\"Enter the marks\"))\n",
    "    for i in range(0,101):\n",
    "        if marks==i:\n",
    "            break\n",
    "    else:\n",
    "        print(\" Mark is out of range\")        \n",
    "    match marks:\n",
    "        case p if marks>=45:\n",
    "            print(\"Pass\")\n",
    "        case f if marks<45:\n",
    "            print(\"Fail\")\n",
    "except ValueError:           \n",
    "    print(\"ValueError:Enter the valid input\")\n",
    "except Exception as e:      \n",
    "    print(\"invalid input\")"
   ]
  },
  {
   "cell_type": "markdown",
   "id": "09e9c508-019c-411a-a393-a157df178b08",
   "metadata": {},
   "source": [
    "# Take two inputs (base and exponent). Compute base ** exponent. Handle invalid inputs (non-numeric) with try...except."
   ]
  },
  {
   "cell_type": "code",
   "execution_count": 56,
   "id": "606e448c-fac4-43ae-b316-0dfff35fa141",
   "metadata": {},
   "outputs": [
    {
     "name": "stdin",
     "output_type": "stream",
     "text": [
      "Enter the base number 4\n",
      "Enter the exponent number 2\n"
     ]
    },
    {
     "name": "stdout",
     "output_type": "stream",
     "text": [
      "The result is 16:\n"
     ]
    }
   ],
   "source": [
    "try:\n",
    "    b= int(input(\"Enter the base number\"))\n",
    "    e= int(input(\"Enter the exponent number\"))\n",
    "    c=b**e\n",
    "    print(f\"The result is {c}:\")\n",
    "except ValueError:           \n",
    "    print(\"ValueError:Enter the valid input\")\n",
    "except Exception as e:      \n",
    "    print(\"invalid input\")"
   ]
  },
  {
   "cell_type": "markdown",
   "id": "3160dc31-10bf-4d9c-932c-fb16b19fbede",
   "metadata": {},
   "source": [
    "# Loop numbers from 1 to 20. If an even number divisible by 9 is found, break. Otherwise, use else to print “No even multiple of 9 found”."
   ]
  },
  {
   "cell_type": "code",
   "execution_count": 13,
   "id": "1536c7d0-8123-4ff6-b539-2f32d5de8637",
   "metadata": {},
   "outputs": [
    {
     "name": "stdout",
     "output_type": "stream",
     "text": [
      "No even multiple of 9 is found\n"
     ]
    }
   ],
   "source": [
    "for i in range (1,21):\n",
    "    if i%9==0 and i%2==0:\n",
    "        break\n",
    "else:\n",
    "    print(\"No even multiple of 9 is found\")"
   ]
  },
  {
   "cell_type": "markdown",
   "id": "7303a3a1-3a72-44e0-b2fb-af903220e625",
   "metadata": {},
   "source": [
    "# Input a temperature and classify it using match...case:< 0 → Freezing,0–20 → Cold,21–35 → Moderate,35 → Hot\n",
    "\n"
   ]
  },
  {
   "cell_type": "code",
   "execution_count": 7,
   "id": "4fa67fb3-b48b-400d-801d-7d432d91e163",
   "metadata": {},
   "outputs": [
    {
     "name": "stdin",
     "output_type": "stream",
     "text": [
      "Temp 45\n"
     ]
    },
    {
     "name": "stdout",
     "output_type": "stream",
     "text": [
      "It is Hot\n"
     ]
    }
   ],
   "source": [
    "T=int(input(\"Temp\"))\n",
    "match T:\n",
    "    case a if T<0:\n",
    "        print(\"It is freezing cold\")\n",
    "    case a if T>=0 and T<=20: \n",
    "        print(\"It is cold\")\n",
    "    case a if T>=21 and T<35: \n",
    "        print(\"It is Moderate\")\n",
    "    case a if T>=35: \n",
    "        print(\"It is Hot\")"
   ]
  },
  {
   "cell_type": "code",
   "execution_count": null,
   "id": "5f3403ef-3138-4cca-851d-6ad5634aa668",
   "metadata": {},
   "outputs": [],
   "source": []
  }
 ],
 "metadata": {
  "kernelspec": {
   "display_name": "Python 3 (ipykernel)",
   "language": "python",
   "name": "python3"
  },
  "language_info": {
   "codemirror_mode": {
    "name": "ipython",
    "version": 3
   },
   "file_extension": ".py",
   "mimetype": "text/x-python",
   "name": "python",
   "nbconvert_exporter": "python",
   "pygments_lexer": "ipython3",
   "version": "3.13.7"
  }
 },
 "nbformat": 4,
 "nbformat_minor": 5
}
