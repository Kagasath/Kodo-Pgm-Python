{
 "cells": [
  {
   "cell_type": "markdown",
   "id": "d0521a1d-656d-40bd-ba12-6752876286e9",
   "metadata": {},
   "source": [
    "<!-- 1.Combine two decorators — one to log, another to measure execution time.\n",
    "\n",
    "@log_to_file\n",
    "\n",
    "\n",
    "@timing (prints time taken by function)\n",
    "\n",
    "2.Create a parameterized decorator repeat(n) that executes a function n times.\n",
    "3.Build a decorator check_type(expected_type) that raises an error if the function argument is not of the specified type.\n",
    "4.Create two decorators —\n",
    "@bold_text adds <b>...</b> around text,\n",
    "@italic_text adds <i>...</i>.\n",
    "Apply both on one function and observe chaining order.\n",
    "5.Write @uppercase and @split_words decorators. Chain them to a function returning a string and display the output order difference.\n",
    "\n",
    "6.Combine @log_start and @log_end decorators that log messages before and after a function call. Apply both on one function and test execution flow.\n",
    "\n",
    "7.Write a nested function power(base) that defines an inner function exponent(n) returning base ** n.\n",
    "\n",
    "8.Implement a nested function where outer calculates area of rectangle and inner validates inputs.\n",
    "\n",
    "\n",
    "9.Create a Product class:\n",
    "\n",
    "\n",
    "@property for price\n",
    "\n",
    "\n",
    "Custom decorator @apply_discount(percent) that adjusts price\n",
    "\n",
    "\n",
    "Use @staticmethod to convert currency (e.g., USD to EUR)\n",
    "\n",
    "\n",
    "10.Create a decorator that logs every time a function is called, along with its arguments, return value, and timestamp.\n",
    "\n",
    "Use a custom decorator called @log_to_file\n",
    "\n",
    "\n",
    "Store logs in a file named function_logs.txt\n",
    "\n",
    "\n",
    "Use functools.wraps to preserve metadata\n",
    "\n",
    "\n",
    "11.Write two decorators:\n",
    "@multiply_by(n) → multiplies the return value by n.\n",
    "@add_value(x) → adds x to the return value.\n",
    "Chain both on a function that returns a number and observe how the result changes when you reverse the order. -->\n"
   ]
  }
 ],
 "metadata": {
  "kernelspec": {
   "display_name": "Python 3 (ipykernel)",
   "language": "python",
   "name": "python3"
  },
  "language_info": {
   "codemirror_mode": {
    "name": "ipython",
    "version": 3
   },
   "file_extension": ".py",
   "mimetype": "text/x-python",
   "name": "python",
   "nbconvert_exporter": "python",
   "pygments_lexer": "ipython3",
   "version": "3.13.8"
  }
 },
 "nbformat": 4,
 "nbformat_minor": 5
}
