{
 "cells": [
  {
   "cell_type": "markdown",
   "id": "2f967068-9d90-4338-af20-0e5df44bfeca",
   "metadata": {},
   "source": [
    "<!-- 1.Student Report Generator\n",
    "Read student details (name, marks) from a file students.txt.\n",
    "Store them in a list of dictionaries.\n",
    "Sort by marks (descending) using a lambda function.\n",
    "Write the topper’s details into a new file topper.txt -->\n"
   ]
  },
  {
   "cell_type": "code",
   "execution_count": 17,
   "id": "e1ee5142-5f09-4c90-a6d6-155dc829540a",
   "metadata": {},
   "outputs": [
    {
     "name": "stdout",
     "output_type": "stream",
     "text": [
      "['Arthi 98\\n', 'Baskar 87\\n', 'chitra 46\\n']\n",
      "['Topper Name: Arthi\\n', 'Marks: 98\\n']\n"
     ]
    }
   ],
   "source": [
    "with open('reportgenerator.txt', 'w+') as f:\n",
    "    f.write(\"Arthi 98\\n\")\n",
    "    f.write(\"Baskar 87\\n\")\n",
    "    f.write(\"chitra 46\\n\")\n",
    "    f.seek(0)\n",
    "    report=f.readlines()\n",
    "    print(report)\n",
    "    lis=[]\n",
    "    for i in report:\n",
    "        name,marks=i.split()\n",
    "        lis.append({\"name\": name, \"marks\": int(marks)})\n",
    "lis.sort(key=lambda x:x[\"marks\"], reverse=True)\n",
    "topper=lis[0]\n",
    "with open(\"topper.txt\", \"w\") as f1:\n",
    "    f1.write(f\"Topper Name: {topper['name']}\\n\")\n",
    "    f1.write(f\"Marks: {topper['marks']}\\n\")\n",
    "with open(\"topper.txt\", \"r\") as f1:\n",
    "        report1=f1.readlines()\n",
    "        print(report1)"
   ]
  },
  {
   "cell_type": "code",
   "execution_count": null,
   "id": "317a0f85-63ff-411c-a5f8-6e180c5ba7b1",
   "metadata": {},
   "outputs": [],
   "source": [
    "    \n"
   ]
  },
  {
   "cell_type": "markdown",
   "id": "38f08225-d9e9-4838-8e61-eec0111017f0",
   "metadata": {},
   "source": [
    "2.Bank Account Management System\n",
    "Create a class BankAccount with deposit, withdraw, and balance check methods.\n",
    "Maintain a transaction history using a list.\n",
    "Overload the + operator to merge balances of two accounts.\n",
    "3.Word Frequency Counter\n",
    "Read a text file and count the frequency of each word.\n",
    "Store results in a dictionary, sort it by frequency.\n",
    "Write the top 5 words and their counts to a file summary.txt.\n",
    "4.Employee Data Processor\n",
    "Read employee data (name, department, salary) from a CSV file.\n",
    "Use a dictionary of lists to store department-wise employees.\n",
    "Find the department with the highest average salary.\n",
    "5.Nested Function — File Encryptor\n",
    "Outer function file_encryptor(file_name)\n",
    "Inner function encrypt(text) replaces each vowel with *.\n",
    "Write the encrypted text to encrypted.txt.\n",
    "Use nonlocal to count replaced characters.\n",
    "6.Decorator-Based Logger\n",
    "Create a decorator log_activity that logs the function name, arguments, and timestamp into a file log.txt.\n",
    "Apply it to functions like add_student(), remove_student(), view_students().\n",
    "7.Inventory Management System\n",
    "Maintain an inventory as a dictionary {item_name:quantity}.\n",
    "Create functions to add, remove, and search items.\n",
    "Before exit, save the dictionary into a file using json.dump.\n",
    "8.Custom Sorting using Operator Overloading\n",
    "Create a class Product with attributes name , price.\n",
    "Overload < operator so that products can be sorted by price.\n",
    "Store and display the sorted list of products.\n",
    "9.Data Analyzer using Set & File Handling\n",
    "Read two files containing student names (courseA.txt, courseB.txt).\n",
    "Find students:\n",
    "Enrolled in both → intersection\n",
    "Only in one → symmetric difference\n",
    "Write all results to result.txt"
   ]
  }
 ],
 "metadata": {
  "kernelspec": {
   "display_name": "Python 3 (ipykernel)",
   "language": "python",
   "name": "python3"
  },
  "language_info": {
   "codemirror_mode": {
    "name": "ipython",
    "version": 3
   },
   "file_extension": ".py",
   "mimetype": "text/x-python",
   "name": "python",
   "nbconvert_exporter": "python",
   "pygments_lexer": "ipython3",
   "version": "3.13.9"
  }
 },
 "nbformat": 4,
 "nbformat_minor": 5
}
