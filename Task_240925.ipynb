{
 "cells": [
  {
   "cell_type": "markdown",
   "id": "838a9cd1-c63a-4587-b124-7ad624b8a848",
   "metadata": {},
   "source": [
    "# Dictionary"
   ]
  },
  {
   "cell_type": "code",
   "execution_count": 64,
   "id": "41353248-9a8e-4d5c-8b56-c6d065f3bceb",
   "metadata": {},
   "outputs": [
    {
     "name": "stdout",
     "output_type": "stream",
     "text": [
      "[('name', 'GGG'), ('rollno', 12345), ('age', 16), ('dept', 'IT'), ('mobile', [9999996, 5555556])]\n"
     ]
    },
    {
     "data": {
      "text/plain": [
       "{'name1': 'ddd', 'name2': 'gggg', 'name3': 'hhhh'}"
      ]
     },
     "execution_count": 64,
     "metadata": {},
     "output_type": "execute_result"
    }
   ],
   "source": [
    "#Creating dic on details of students with two mobile numbers\n",
    "Details={\"name\":\"GGG\",\"rollno\":12345,\"age\":16,\"dept\":\"IT\",\"mobile\":[9999996,5555556]}\n",
    "Details1={\"name\":\"KKK\",\"rollno\":12345,\"age\":16,\"dept\":\"IT\",\"mobile\":[9999996,5555556]}\n",
    "Details[\"mobile\"][0] # accessing the mobile number\n",
    "Lis1=list(Details.items())#converting dic to list\n",
    "print(Lis1)\n",
    "Details.keys()#printing keys\n",
    "Details.values()#printing values\n",
    "Lis2=[[key,value] for key,value in Details.items()]#Printing values as nested list\n",
    "Lis3=tuple([key,value] for key,value in Details.items())#converting to tuple and printing values as list\n",
    "Lis4=tuple(Details.items()) #converting in to Tuple\n",
    "Lis1\n",
    "#changing/updating key values using newdictionary\n",
    "Details[\"age\"]=17\n",
    "Details\n",
    "up_dict={\"rollno\":12346,\"age\":17}\n",
    "Details1.update(up_dict)\n",
    "Details1\n",
    "#Changing key name using pop and assinging value\n",
    "Details1[\"phone\"]=Details1.pop(\"mobile\")\n",
    "Details1\n",
    "#Changing keynames using zip()\n",
    "Dict1={1:\"ddd\",2:\"gggg\",3:\"hhhh\"}\n",
    "Lis=[\"name1\",\"name2\",\"name3\"]\n",
    "newdict=dict(zip(Lis,Dict1.values()))\n",
    "newdict\n",
    "\n",
    "\n",
    "\n"
   ]
  },
  {
   "cell_type": "markdown",
   "id": "0d0a62ab-f50e-4ef1-8c6f-8a634825de9b",
   "metadata": {},
   "source": [
    "# SET"
   ]
  },
  {
   "cell_type": "code",
   "execution_count": 83,
   "id": "67d2ab3c-cfd6-48d0-ada8-561909290812",
   "metadata": {},
   "outputs": [
    {
     "data": {
      "text/plain": [
       "{'&&&', 123, 'bbb'}"
      ]
     },
     "execution_count": 83,
     "metadata": {},
     "output_type": "execute_result"
    }
   ],
   "source": [
    "#set operations\n",
    "set1={\"rock\",\"a\",\"baby\",\"rock\"}\n",
    "set1\n",
    "#converting list to set\n",
    "list1=[\"bbb\",123,\"&&&\",123]\n",
    "set1=set(list1)\n",
    "set1"
   ]
  },
  {
   "cell_type": "code",
   "execution_count": 95,
   "id": "b2713185-bee7-425d-ae7f-f0f62634bdd8",
   "metadata": {},
   "outputs": [
    {
     "data": {
      "text/plain": [
       "{'&&&', 123, 9, 'a', 'baby', 'bbb', 'hjhk', 'rock'}"
      ]
     },
     "execution_count": 95,
     "metadata": {},
     "output_type": "execute_result"
    }
   ],
   "source": [
    "#add and remove elements to list\n",
    "set1={\"rock\",\"a\",\"baby\",\"rock\",\"bbb\",123,\"&&&\"}\n",
    "set1.add(\"909\")\n",
    "set1\n",
    "set1.update([\"hjhk\",9])\n",
    "set1.remove(\"909\")\n",
    "set1"
   ]
  },
  {
   "cell_type": "code",
   "execution_count": 93,
   "id": "9f302849-f1fb-49fc-8749-9e3c09d42c42",
   "metadata": {},
   "outputs": [
    {
     "data": {
      "text/plain": [
       "True"
      ]
     },
     "execution_count": 93,
     "metadata": {},
     "output_type": "execute_result"
    }
   ],
   "source": [
    "#Logical operations with set\n",
    "#intersection\n",
    "set1={\"rock\",\"a\",\"baby\",\"rock\",\"bbb\",123,\"&&&\"}\n",
    "set2={\"bbb\",123,\"&&&\",567}\n",
    "sett=set1&set2\n",
    "sett\n",
    "#difference\n",
    "set1.difference(set2)\n",
    "set2.difference(set1)\n",
    "#union\n",
    "set1.union(set2)\n",
    "#subset,superset\n",
    "set1.issubset(set2)\n",
    "set2.issubset(set1)\n",
    "set1={\"rock\",\"a\",\"baby\",\"rock\",\"bbb\",123,\"&&&\"}\n",
    "set2={\"bbb\",123,\"&&&\"}\n",
    "set2.issubset(set1)\n",
    "set1.issubset(set2)\n",
    "set({\"bbb\",123}).issubset(set1)\n",
    "set({\"bbb\",123}).issuperset(set2)\n"
   ]
  },
  {
   "cell_type": "code",
   "execution_count": null,
   "id": "6c81be80-f2f8-4c6b-9d8f-e6f2b87509b1",
   "metadata": {},
   "outputs": [],
   "source": []
  }
 ],
 "metadata": {
  "kernelspec": {
   "display_name": "Python 3 (ipykernel)",
   "language": "python",
   "name": "python3"
  },
  "language_info": {
   "codemirror_mode": {
    "name": "ipython",
    "version": 3
   },
   "file_extension": ".py",
   "mimetype": "text/x-python",
   "name": "python",
   "nbconvert_exporter": "python",
   "pygments_lexer": "ipython3",
   "version": "3.13.7"
  }
 },
 "nbformat": 4,
 "nbformat_minor": 5
}
