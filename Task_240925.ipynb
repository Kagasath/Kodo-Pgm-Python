{
 "cells": [
  {
   "cell_type": "markdown",
   "id": "838a9cd1-c63a-4587-b124-7ad624b8a848",
   "metadata": {},
   "source": [
    "# Dictionary"
   ]
  },
  {
   "cell_type": "code",
   "execution_count": 64,
   "id": "41353248-9a8e-4d5c-8b56-c6d065f3bceb",
   "metadata": {},
   "outputs": [
    {
     "name": "stdout",
     "output_type": "stream",
     "text": [
      "[('name', 'GGG'), ('rollno', 12345), ('age', 16), ('dept', 'IT'), ('mobile', [9999996, 5555556])]\n"
     ]
    },
    {
     "data": {
      "text/plain": [
       "{'name1': 'ddd', 'name2': 'gggg', 'name3': 'hhhh'}"
      ]
     },
     "execution_count": 64,
     "metadata": {},
     "output_type": "execute_result"
    }
   ],
   "source": [
    "#Creating dic on details of students with two mobile numbers\n",
    "Details={\"name\":\"GGG\",\"rollno\":12345,\"age\":16,\"dept\":\"IT\",\"mobile\":[9999996,5555556]}\n",
    "Details1={\"name\":\"KKK\",\"rollno\":12345,\"age\":16,\"dept\":\"IT\",\"mobile\":[9999996,5555556]}\n",
    "Details[\"mobile\"][0] # accessing the mobile number\n",
    "Lis1=list(Details.items())#converting dic to list\n",
    "print(Lis1)\n",
    "Details.keys()#printing keys\n",
    "Details.values()#printing values\n",
    "Lis2=[[key,value] for key,value in Details.items()]#Printing values as nested list\n",
    "Lis3=tuple([key,value] for key,value in Details.items())#converting to tuple and printing values as list\n",
    "Lis4=tuple(Details.items()) #converting in to Tuple\n",
    "Lis1\n",
    "#changing/updating key values using newdictionary\n",
    "Details[\"age\"]=17\n",
    "Details\n",
    "up_dict={\"rollno\":12346,\"age\":17}\n",
    "Details1.update(up_dict)\n",
    "Details1\n",
    "#Changing key name using pop and assinging value\n",
    "Details1[\"phone\"]=Details1.pop(\"mobile\")\n",
    "Details1\n",
    "#Changing keynames using zip()\n",
    "Dict1={1:\"ddd\",2:\"gggg\",3:\"hhhh\"}\n",
    "Lis=[\"name1\",\"name2\",\"name3\"]\n",
    "newdict=dict(zip(Lis,Dict1.values()))\n",
    "newdict\n",
    "\n",
    "\n",
    "\n"
   ]
  },
  {
   "cell_type": "code",
   "execution_count": 16,
   "id": "dbe64273-e47e-4f5f-a11c-7ca914ab6839",
   "metadata": {},
   "outputs": [
    {
     "name": "stdout",
     "output_type": "stream",
     "text": [
      "{'name': 'GGG', 'rollno': 12345, 'age': 16, 'dept': 'IT', 'mobile': [99999996, 888888886]}\n"
     ]
    },
    {
     "data": {
      "text/plain": [
       "{'name': 'GGG',\n",
       " 'rollno': 12345,\n",
       " 'age': 16,\n",
       " 'dept': 'IT',\n",
       " 'mobile': [99999996, 888888886],\n",
       " 'Studies': {'school': 'kvb school', 'college': 'ciet'}}"
      ]
     },
     "execution_count": 16,
     "metadata": {},
     "output_type": "execute_result"
    }
   ],
   "source": [
    "#adding dictionary extra mobile number\n",
    "Details={\"name\":\"GGG\",\"rollno\":12345,\"age\":16,\"dept\":\"IT\",\"mobile\":9999996}\n",
    "Details.update(mobile=[99999996,888888886])\n",
    "print(Details)\n",
    "update1={'Studies':{'school':'kvb school','college':'ciet'}}\n",
    "Details.update(update1)\n",
    "Details"
   ]
  },
  {
   "cell_type": "markdown",
   "id": "0d0a62ab-f50e-4ef1-8c6f-8a634825de9b",
   "metadata": {},
   "source": [
    "# SET"
   ]
  },
  {
   "cell_type": "code",
   "execution_count": 83,
   "id": "67d2ab3c-cfd6-48d0-ada8-561909290812",
   "metadata": {},
   "outputs": [
    {
     "data": {
      "text/plain": [
       "{'&&&', 123, 'bbb'}"
      ]
     },
     "execution_count": 83,
     "metadata": {},
     "output_type": "execute_result"
    }
   ],
   "source": [
    "#set operations\n",
    "set1={\"rock\",\"a\",\"baby\",\"rock\"}\n",
    "set1\n",
    "#converting list to set\n",
    "list1=[\"bbb\",123,\"&&&\",123]\n",
    "set1=set(list1)\n",
    "set1"
   ]
  },
  {
   "cell_type": "code",
   "execution_count": 95,
   "id": "b2713185-bee7-425d-ae7f-f0f62634bdd8",
   "metadata": {},
   "outputs": [
    {
     "data": {
      "text/plain": [
       "{'&&&', 123, 9, 'a', 'baby', 'bbb', 'hjhk', 'rock'}"
      ]
     },
     "execution_count": 95,
     "metadata": {},
     "output_type": "execute_result"
    }
   ],
   "source": [
    "#add and remove elements to list\n",
    "set1={\"rock\",\"a\",\"baby\",\"rock\",\"bbb\",123,\"&&&\"}\n",
    "set1.add(\"909\")\n",
    "set1\n",
    "set1.update([\"hjhk\",9])\n",
    "set1.remove(\"909\")\n",
    "set1"
   ]
  },
  {
   "cell_type": "code",
   "execution_count": 93,
   "id": "9f302849-f1fb-49fc-8749-9e3c09d42c42",
   "metadata": {},
   "outputs": [
    {
     "data": {
      "text/plain": [
       "True"
      ]
     },
     "execution_count": 93,
     "metadata": {},
     "output_type": "execute_result"
    }
   ],
   "source": [
    "#Logical operations with set\n",
    "#intersection\n",
    "set1={\"rock\",\"a\",\"baby\",\"rock\",\"bbb\",123,\"&&&\"}\n",
    "set2={\"bbb\",123,\"&&&\",567}\n",
    "sett=set1&set2\n",
    "sett\n",
    "#difference\n",
    "set1.difference(set2)\n",
    "set2.difference(set1)\n",
    "#union\n",
    "set1.union(set2)\n",
    "#subset,superset\n",
    "set1.issubset(set2)\n",
    "set2.issubset(set1)\n",
    "set1={\"rock\",\"a\",\"baby\",\"rock\",\"bbb\",123,\"&&&\"}\n",
    "set2={\"bbb\",123,\"&&&\"}\n",
    "set2.issubset(set1)\n",
    "set1.issubset(set2)\n",
    "set({\"bbb\",123}).issubset(set1)\n",
    "set({\"bbb\",123}).issuperset(set2)\n"
   ]
  },
  {
   "cell_type": "markdown",
   "id": "9a7d9b6c-5415-444f-8c65-f31e41e5a8cb",
   "metadata": {},
   "source": [
    "# From a list of integers, create a tuple of square roots (use math library), store only prime numbers in a set, and save results in a dictionary with keys: \"squares\", \"primes\".\n"
   ]
  },
  {
   "cell_type": "code",
   "execution_count": 70,
   "id": "34e1acde-4373-48fc-ba16-0a09afedea0c",
   "metadata": {},
   "outputs": [
    {
     "name": "stdout",
     "output_type": "stream",
     "text": [
      "(1.0, 2.0, 4.0, 6.0, 3.0)\n",
      "{2.0, 3.0}\n"
     ]
    },
    {
     "data": {
      "text/plain": [
       "{'squares': (1.0, 2.0, 4.0, 6.0, 3.0), 'primes': {2.0, 3.0}}"
      ]
     },
     "execution_count": 70,
     "metadata": {},
     "output_type": "execute_result"
    }
   ],
   "source": [
    "from math import *\n",
    "List=[1,4,16,36,9]\n",
    "Tup1=tuple([sqrt(i) for i in List])\n",
    "print(Tup1)\n",
    "st1=set()\n",
    "for i in Tup1:\n",
    "    if i<=1:\n",
    "        continue\n",
    "    elif i>2:\n",
    "        for j in range(2,int(i)):\n",
    "            if i%j==0:\n",
    "                break\n",
    "        else:\n",
    "            st1.add(i)\n",
    "    else:\n",
    "        st1.add(i)\n",
    "print(st1)\n",
    "fdic={}\n",
    "fdic[\"squares\"]=Tup1\n",
    "fdic[\"primes\"]=st1\n",
    "fdic\n",
    "    \n"
   ]
  },
  {
   "cell_type": "markdown",
   "id": "f2b18da9-4cd3-4dab-8928-f4703400a0a5",
   "metadata": {},
   "source": [
    "# Use random.sample() to generate a set of 6 unique numbers for a lottery ticket. Store multiple tickets in a list, and then put them in a dictionary with keys as player names (tuples of first, last name)."
   ]
  },
  {
   "cell_type": "code",
   "execution_count": 26,
   "id": "a94a4a87-29b3-4968-9d22-273cb7a96381",
   "metadata": {},
   "outputs": [
    {
     "name": "stdout",
     "output_type": "stream",
     "text": [
      "[97, 21, 25, 41, 70, 97]\n"
     ]
    },
    {
     "data": {
      "text/plain": [
       "{('karthik', 'bhaskar'): 97,\n",
       " ('gayathri', 'karthik'): 21,\n",
       " ('saeyon', 'karthik'): 25,\n",
       " ('thalini', 'karthik'): 41,\n",
       " ('hhhh', 'bbb'): 70,\n",
       " ('ddd', 'vvv'): 97}"
      ]
     },
     "execution_count": 26,
     "metadata": {},
     "output_type": "execute_result"
    }
   ],
   "source": [
    "from random import *\n",
    "Lis=[]\n",
    "for i in range(6):\n",
    "    k=randint(11,99)\n",
    "    Lis.append(k)\n",
    "print(Lis)\n",
    "Dict={}\n",
    "Dict[(\"karthik\",\"bhaskar\")]=Lis[0]\n",
    "Dict[(\"gayathri\",\"karthik\")]=Lis[1]\n",
    "Dict[(\"saeyon\",\"karthik\")]=Lis[2]\n",
    "Dict[(\"thalini\",\"karthik\")]=Lis[3]\n",
    "Dict[(\"hhhh\",\"bbb\")]=Lis[4]\n",
    "Dict[(\"ddd\",\"vvv\")]=Lis[5]\n",
    "Dict"
   ]
  },
  {
   "cell_type": "markdown",
   "id": "c6d0df8e-e3bb-49e6-8cb6-fdde7484aca1",
   "metadata": {},
   "source": [
    "# Given a dictionary of students → list of marks, use statistics library to compute mean, median. Convert marks into tuples, and store unique average values in a set."
   ]
  },
  {
   "cell_type": "code",
   "execution_count": 34,
   "id": "5cb7199f-0589-4bc7-b7e1-789fe6abc71d",
   "metadata": {},
   "outputs": [
    {
     "name": "stdout",
     "output_type": "stream",
     "text": [
      "{65, 68.33333333333333, 30}\n",
      "{65, 30, 70}\n"
     ]
    }
   ],
   "source": [
    "from statistics import *\n",
    "dict_stu={\"KKK\":[20,30,40],\"GGG\":[45,85,65],\"SSS\":[90,70,45]}\n",
    "for i,j in dict_stu.items():\n",
    "    dict_stu[i]=tuple(j)\n",
    "dict_stu    \n",
    "setmean=set()\n",
    "setmedian=set()\n",
    "for i,j in dict_stu.items():\n",
    "    m=mean(j)\n",
    "    setmean.add(m)    \n",
    "print(setmean)\n",
    "for i,j in dict_stu.items():\n",
    "    b=median(j)\n",
    "    setmedian.add(b)    \n",
    "print(setmedian)    "
   ]
  },
  {
   "cell_type": "markdown",
   "id": "a0d936ff-5d3f-48c6-b354-64d2243daa5a",
   "metadata": {},
   "source": [
    "# 4. Use os.listdir() to get all files in a folder. Extract extensions into a list, count frequencies in a dictionary, store unique extensions in a set, and return results as tuples of (extension, count)."
   ]
  },
  {
   "cell_type": "code",
   "execution_count": 2,
   "id": "5b34d7f0-4cf0-4a24-bf31-2b78eb5d8951",
   "metadata": {},
   "outputs": [
    {
     "data": {
      "text/plain": [
       "['.git',\n",
       " '.gitignore',\n",
       " '.ipynb_checkpoints',\n",
       " '260925.ipynb',\n",
       " 'demo.txt',\n",
       " 'DS_240925.ipynb',\n",
       " 'exception handling190925.ipynb',\n",
       " 'Function_250925.ipynb',\n",
       " 'Nestedfor_class220925.ipynb',\n",
       " 'Nestedwhile&List_230925.ipynb',\n",
       " 'Statements_180925.ipynb',\n",
       " 'Task 180925.ipynb',\n",
       " 'Task190925.ipynb',\n",
       " 'Task220925.ipynb',\n",
       " 'Task230925.ipynb',\n",
       " 'Task_240925.ipynb',\n",
       " 'Types_operators_170925.ipynb']"
      ]
     },
     "execution_count": 2,
     "metadata": {},
     "output_type": "execute_result"
    }
   ],
   "source": [
    "from os import*\n",
    "dir_list = listdir() \n",
    "dir_list"
   ]
  },
  {
   "cell_type": "markdown",
   "id": "0f86ff86-2f4f-43f4-b049-cb86a5195234",
   "metadata": {},
   "source": [
    "# 5.Use the datetime library to fetch today’s date, break into parts (day, month, year) stored in a list, convert them into a tuple, store key–value mapping in a dictionary, and finally make a set of unique values."
   ]
  },
  {
   "cell_type": "code",
   "execution_count": 43,
   "id": "058c9113-d2df-47c1-bd94-a6a184a743b8",
   "metadata": {},
   "outputs": [
    {
     "name": "stdout",
     "output_type": "stream",
     "text": [
      "2025-09-25\n"
     ]
    },
    {
     "data": {
      "text/plain": [
       "{'day': 25, 'month': 9, 'year': 2025}"
      ]
     },
     "execution_count": 43,
     "metadata": {},
     "output_type": "execute_result"
    }
   ],
   "source": [
    "from datetime import datetime,date,time\n",
    "curr_datetime=date.today()\n",
    "print(curr_datetime)\n",
    "lis=[]\n",
    "lis.append(curr_datetime.day)\n",
    "lis.append(curr_datetime.month)\n",
    "lis.append(curr_datetime.year)\n",
    "lis\n",
    "tup=tuple(lis)\n",
    "Dic={}\n",
    "Dic[\"day\"]=tup[0]\n",
    "Dic[\"month\"]=tup[1]\n",
    "Dic[\"year\"]=tup[2]\n",
    "Dic\n",
    "\n"
   ]
  },
  {
   "cell_type": "markdown",
   "id": "e496c782-7b83-4ae0-9f97-82cd3d6e0c5f",
   "metadata": {},
   "source": [
    "# 6. Create a list of country names, use the len() function to store country name lengths in a dictionary, extract unique lengths using a set, and print sorted lengths as a tuple."
   ]
  },
  {
   "cell_type": "code",
   "execution_count": 53,
   "id": "47760f67-c835-4b74-81f4-394c57ae17f2",
   "metadata": {},
   "outputs": [
    {
     "data": {
      "text/plain": [
       "(4, 4, 5, 5, 8)"
      ]
     },
     "execution_count": 53,
     "metadata": {},
     "output_type": "execute_result"
    }
   ],
   "source": [
    "L_country=[\"India\",\"Pakistan\",\"Iran\",\"China\",\"EEEE\"]\n",
    "len_country=[len(i) for i in L_country]\n",
    "uni_len_country=set(len_country)\n",
    "sor_len_country=tuple(sorted(len_country))\n",
    "Dic_country=dict(zip(L_country,len_country))\n",
    "Dic_country\n",
    "uni_len_country\n",
    "sor_len_country\n"
   ]
  },
  {
   "cell_type": "markdown",
   "id": "452ce9bc-df7c-4669-b4ad-db0cf0437f0f",
   "metadata": {},
   "source": [
    "# 7. Take marks of students as a list, compute average using the statistics library, store student–marks in a dictionary, extract unique marks into a set, and print sorted unique marks as a tuple."
   ]
  },
  {
   "cell_type": "code",
   "execution_count": 61,
   "id": "4b599982-a306-4971-a04f-a2130e22f662",
   "metadata": {},
   "outputs": [
    {
     "data": {
      "text/plain": [
       "(32, 45, 62, 78, 87, 98)"
      ]
     },
     "execution_count": 61,
     "metadata": {},
     "output_type": "execute_result"
    }
   ],
   "source": [
    "from statistics import *\n",
    "Student1_marks=[45,62,78,98]\n",
    "Student2_marks=[87,45,62,32]\n",
    "Student1_avg=mean(Student1_marks)\n",
    "Student2_avg=mean(Student2_marks)\n",
    "Student1_avg\n",
    "Student2_avg\n",
    "Dict_student={}\n",
    "Dict_student[\"Student1\"]=Student1_marks\n",
    "Dict_student[\"Student2\"]=Student2_marks\n",
    "Dict_student\n",
    "Student=set()\n",
    "for i in Student1_marks:\n",
    "    Student.add(i)\n",
    "for i in Student2_marks:\n",
    "    Student.add(i)\n",
    "Tup_student=tuple(sorted(Student))\n",
    "Tup_student\n",
    "\n"
   ]
  },
  {
   "cell_type": "markdown",
   "id": "07dd8939-04e5-4bc0-8e7e-78cd7db2cb14",
   "metadata": {},
   "source": [
    "# 8. Input a list of numbers, use a dictionary to classify each number as even or odd, store unique numbers in a set, and print them in a sorted tuple."
   ]
  },
  {
   "cell_type": "code",
   "execution_count": 64,
   "id": "c7939f0a-54d9-4ae4-82b9-b20352397825",
   "metadata": {},
   "outputs": [
    {
     "name": "stdout",
     "output_type": "stream",
     "text": [
      "{'Even': [66, 34, 22], 'Odd': [33, 87, 65]}\n"
     ]
    },
    {
     "data": {
      "text/plain": [
       "(22, 33, 34, 65, 66, 87)"
      ]
     },
     "execution_count": 64,
     "metadata": {},
     "output_type": "execute_result"
    }
   ],
   "source": [
    "List1=[33,66,87,34,22,65]\n",
    "Dict1={}\n",
    "Leven=[]\n",
    "Lodd=[]\n",
    "for i in List1:\n",
    "    if i%2==0:\n",
    "        Leven.append(i)\n",
    "    else:\n",
    "        Lodd.append(i)\n",
    "Dict1[\"Even\"]=Leven\n",
    "Dict1[\"Odd\"]=Lodd\n",
    "print(Dict1)\n",
    "Tup1=tuple(sorted(List1))\n",
    "Tup1"
   ]
  },
  {
   "cell_type": "markdown",
   "id": "91a67493-f702-4002-8b01-b4408c0029dc",
   "metadata": {},
   "source": [
    "# 9. Take a list of integers, use the math library to find factorial of each number, store results in a dictionary, remove duplicate factorials with a set, and print all factorial values as a tuple."
   ]
  },
  {
   "cell_type": "code",
   "execution_count": 69,
   "id": "9c00f6e5-08fb-46b8-9a59-567f394ef681",
   "metadata": {},
   "outputs": [
    {
     "data": {
      "text/plain": [
       "(362880, 40320, 6, 5040, 24)"
      ]
     },
     "execution_count": 69,
     "metadata": {},
     "output_type": "execute_result"
    }
   ],
   "source": [
    "from math import*\n",
    "BFact=[3,7,8,4,9,9]\n",
    "AFact=[factorial(i) for i in BFact]\n",
    "AFact\n",
    "Dict={}\n",
    "Dict[\"Beffact\"]=BFact\n",
    "Dict[\"Aftfact\"]=AFact\n",
    "Dict\n",
    "Setfact=set(AFact)\n",
    "Setfact\n",
    "Tupfact=tuple(Setfact)\n",
    "Tupfact\n"
   ]
  },
  {
   "cell_type": "markdown",
   "id": "6c4abaac-971a-4163-89db-726befddf063",
   "metadata": {},
   "source": [
    "# 10. Use the random library to generate 15 integers, store them in a list, create a dictionary with number as key and its square as value, extract unique squares using a set, and display them as a sorted tuple."
   ]
  },
  {
   "cell_type": "code",
   "execution_count": 10,
   "id": "a68a2659-4b18-40fe-8f02-79f36b855e1e",
   "metadata": {},
   "outputs": [
    {
     "name": "stdout",
     "output_type": "stream",
     "text": [
      "[9, 3, 6, 6, 4, 14, 1, 14, 6, 10, 4, 9, 13, 7, 9]\n",
      "{9: 81, 3: 81, 6: 81, 4: 81, 14: 81, 1: 81, 10: 81, 13: 81, 7: 81}\n"
     ]
    }
   ],
   "source": [
    "from random import *\n",
    "Lis=[]\n",
    "for i in range(15):\n",
    "    k=randint(1,15)\n",
    "    Lis.append(k)\n",
    "print(Lis)\n",
    "s=[i*i for i in Lis]\n",
    "s1=set(s)\n",
    "s1\n",
    "dic=dict(zip(Lis,s))\n",
    "dic #method 1\n",
    "dic={}\n",
    "for i in Lis:\n",
    "    for j in s:\n",
    "        dic[i]=j\n",
    "print(dic) #method 2"
   ]
  },
  {
   "cell_type": "markdown",
   "id": "3a964782-268b-4705-b390-7733baa29593",
   "metadata": {},
   "source": [
    "# 11.Take names of 5 cities from user input (list), use the len() function to store city–name length mapping in a dictionary, create a set of unique lengths, and finally sort them into a tuple. "
   ]
  },
  {
   "cell_type": "code",
   "execution_count": 16,
   "id": "fec3c36f-a887-4355-9a91-67b3c6828f4f",
   "metadata": {},
   "outputs": [
    {
     "name": "stdin",
     "output_type": "stream",
     "text": [
      "Enter the name of the city fjuik\n",
      "Enter the name of the city fyfi\n",
      "Enter the name of the city huhk\n",
      "Enter the name of the city fhfz\n",
      "Enter the name of the city gydfs\n"
     ]
    },
    {
     "name": "stdout",
     "output_type": "stream",
     "text": [
      "{'fjuik': 5, 'fyfi': 5, 'huhk': 5, 'fhfz': 5, 'gydfs': 5}\n",
      "(4, 5)\n"
     ]
    }
   ],
   "source": [
    "L_city=[]\n",
    "for i in range(5):\n",
    "    k=input(\"Enter the name of the city\")\n",
    "    L_city.append(k)\n",
    "L_city\n",
    "dic={}\n",
    "Len_city= [len(i) for i in L_city]\n",
    "Len_city\n",
    "for i in L_city:\n",
    "    for j in Len_city:\n",
    "        dic[i]=j\n",
    "print(dic)\n",
    "ULen=set(Len_city)\n",
    "Tup=tuple(sorted(ULen))\n",
    "print(Tup)   "
   ]
  }
 ],
 "metadata": {
  "kernelspec": {
   "display_name": "Python 3 (ipykernel)",
   "language": "python",
   "name": "python3"
  },
  "language_info": {
   "codemirror_mode": {
    "name": "ipython",
    "version": 3
   },
   "file_extension": ".py",
   "mimetype": "text/x-python",
   "name": "python",
   "nbconvert_exporter": "python",
   "pygments_lexer": "ipython3",
   "version": "3.13.7"
  }
 },
 "nbformat": 4,
 "nbformat_minor": 5
}
