{
 "cells": [
  {
   "cell_type": "code",
   "execution_count": null,
   "id": "db6ceceb-6744-43c3-aa94-01d63442516d",
   "metadata": {},
   "outputs": [],
   "source": [
    "### Print the multiplication table from 1 to 10 using nested loops."
   ]
  },
  {
   "cell_type": "code",
   "execution_count": 91,
   "id": "2eeca633-2754-4bba-9d43-e77fccaf409b",
   "metadata": {},
   "outputs": [
    {
     "name": "stdout",
     "output_type": "stream",
     "text": [
      "1 * 1 = 1\n",
      "1 * 2 = 2\n",
      "1 * 3 = 3\n",
      "1 * 4 = 4\n",
      "1 * 5 = 5\n",
      "1 * 6 = 6\n",
      "1 * 7 = 7\n",
      "1 * 8 = 8\n",
      "1 * 9 = 9\n",
      "1 * 10 = 10\n",
      "----------\n",
      "2 * 1 = 2\n",
      "2 * 2 = 4\n",
      "2 * 3 = 6\n",
      "2 * 4 = 8\n",
      "2 * 5 = 10\n",
      "2 * 6 = 12\n",
      "2 * 7 = 14\n",
      "2 * 8 = 16\n",
      "2 * 9 = 18\n",
      "2 * 10 = 20\n",
      "----------\n",
      "3 * 1 = 3\n",
      "3 * 2 = 6\n",
      "3 * 3 = 9\n",
      "3 * 4 = 12\n",
      "3 * 5 = 15\n",
      "3 * 6 = 18\n",
      "3 * 7 = 21\n",
      "3 * 8 = 24\n",
      "3 * 9 = 27\n",
      "3 * 10 = 30\n",
      "----------\n",
      "4 * 1 = 4\n",
      "4 * 2 = 8\n",
      "4 * 3 = 12\n",
      "4 * 4 = 16\n",
      "4 * 5 = 20\n",
      "4 * 6 = 24\n",
      "4 * 7 = 28\n",
      "4 * 8 = 32\n",
      "4 * 9 = 36\n",
      "4 * 10 = 40\n",
      "----------\n",
      "5 * 1 = 5\n",
      "5 * 2 = 10\n",
      "5 * 3 = 15\n",
      "5 * 4 = 20\n",
      "5 * 5 = 25\n",
      "5 * 6 = 30\n",
      "5 * 7 = 35\n",
      "5 * 8 = 40\n",
      "5 * 9 = 45\n",
      "5 * 10 = 50\n",
      "----------\n",
      "6 * 1 = 6\n",
      "6 * 2 = 12\n",
      "6 * 3 = 18\n",
      "6 * 4 = 24\n",
      "6 * 5 = 30\n",
      "6 * 6 = 36\n",
      "6 * 7 = 42\n",
      "6 * 8 = 48\n",
      "6 * 9 = 54\n",
      "6 * 10 = 60\n",
      "----------\n",
      "7 * 1 = 7\n",
      "7 * 2 = 14\n",
      "7 * 3 = 21\n",
      "7 * 4 = 28\n",
      "7 * 5 = 35\n",
      "7 * 6 = 42\n",
      "7 * 7 = 49\n",
      "7 * 8 = 56\n",
      "7 * 9 = 63\n",
      "7 * 10 = 70\n",
      "----------\n",
      "8 * 1 = 8\n",
      "8 * 2 = 16\n",
      "8 * 3 = 24\n",
      "8 * 4 = 32\n",
      "8 * 5 = 40\n",
      "8 * 6 = 48\n",
      "8 * 7 = 56\n",
      "8 * 8 = 64\n",
      "8 * 9 = 72\n",
      "8 * 10 = 80\n",
      "----------\n",
      "9 * 1 = 9\n",
      "9 * 2 = 18\n",
      "9 * 3 = 27\n",
      "9 * 4 = 36\n",
      "9 * 5 = 45\n",
      "9 * 6 = 54\n",
      "9 * 7 = 63\n",
      "9 * 8 = 72\n",
      "9 * 9 = 81\n",
      "9 * 10 = 90\n",
      "----------\n",
      "10 * 1 = 10\n",
      "10 * 2 = 20\n",
      "10 * 3 = 30\n",
      "10 * 4 = 40\n",
      "10 * 5 = 50\n",
      "10 * 6 = 60\n",
      "10 * 7 = 70\n",
      "10 * 8 = 80\n",
      "10 * 9 = 90\n",
      "10 * 10 = 100\n",
      "----------\n"
     ]
    }
   ],
   "source": [
    "for i in range(1, 11): \n",
    "    for j in range(1, 11):\n",
    "        print(f\"{i} * {j} = {i * j}\")\n",
    "    print(\"-\" * 10) "
   ]
  },
  {
   "cell_type": "markdown",
   "id": "3d420807-0856-4ac4-85b3-359a5914edd0",
   "metadata": {},
   "source": [
    "### Output a grid like this:\n",
    "1 2 3\n",
    "1 2 3\n",
    "1 2 3"
   ]
  },
  {
   "cell_type": "code",
   "execution_count": 3,
   "id": "430ea110-15a3-4151-a096-48322f77a958",
   "metadata": {},
   "outputs": [
    {
     "name": "stdout",
     "output_type": "stream",
     "text": [
      "1 2 3 \n",
      "\n",
      "1 2 3 \n",
      "\n",
      "1 2 3 \n",
      "\n"
     ]
    }
   ],
   "source": [
    "for i in range(1,4):\n",
    "    for j in range(1,4):\n",
    "        print(j,end = \" \")  \n",
    "    print(\"\\n\")\n",
    "    "
   ]
  },
  {
   "cell_type": "markdown",
   "id": "9b4116e2-6e06-4b0f-9ad0-c608f310c136",
   "metadata": {},
   "source": [
    "### Incremental number triangle\n",
    "1\n",
    "1 2\n",
    "1 2 3\n",
    "1 2 3 4"
   ]
  },
  {
   "cell_type": "code",
   "execution_count": 11,
   "id": "86330723-943a-4946-8679-a291c27ad002",
   "metadata": {},
   "outputs": [
    {
     "name": "stdout",
     "output_type": "stream",
     "text": [
      "\n",
      "\n",
      "1 \n",
      "\n",
      "1 2 \n",
      "\n",
      "1 2 3 \n",
      "\n",
      "1 2 3 4 \n",
      "\n"
     ]
    }
   ],
   "source": [
    "for i in range(5):\n",
    "    for j in range(1,i+1):\n",
    "        print(j,end = \" \")  \n",
    "    print(\"\\n\")\n"
   ]
  },
  {
   "cell_type": "markdown",
   "id": "0f619cf9-da59-4bb4-9146-c413ae08a6a7",
   "metadata": {},
   "source": [
    "### Right angled triangle of stars\n",
    "*\n",
    "**\n",
    "***\n",
    "****"
   ]
  },
  {
   "cell_type": "code",
   "execution_count": 13,
   "id": "8fb3a466-0e8a-456f-9d8d-5692be186193",
   "metadata": {},
   "outputs": [
    {
     "name": "stdout",
     "output_type": "stream",
     "text": [
      "*\n",
      "**\n",
      "***\n",
      "****\n",
      "\n",
      "\n"
     ]
    }
   ],
   "source": [
    "for j in range(1,5):\n",
    "    print(\"*\"*j)  \n",
    "print(\"\\n\")"
   ]
  },
  {
   "cell_type": "code",
   "execution_count": 19,
   "id": "cb7d9bb3-b8b6-4a6b-8ac0-4c7dbcac3a00",
   "metadata": {},
   "outputs": [
    {
     "name": "stdout",
     "output_type": "stream",
     "text": [
      "* \n",
      "\n",
      "* * \n",
      "\n",
      "* * * \n",
      "\n",
      "* * * * \n",
      "\n"
     ]
    }
   ],
   "source": [
    "#using nested for\n",
    "for i in range(1,5):\n",
    "    for j in range(i):\n",
    "        print(\"*\",end=\" \")\n",
    "    print(\"\\n\")"
   ]
  },
  {
   "cell_type": "markdown",
   "id": "54360f69-85d2-424c-8c9c-bf8da1e53de8",
   "metadata": {},
   "source": [
    "### Inverted Star Pattern\n",
    "*****\n",
    "****\n",
    "***\n",
    "**\n",
    "*"
   ]
  },
  {
   "cell_type": "code",
   "execution_count": 10,
   "id": "cf43009a-3b34-4330-9a21-44df6bec83d7",
   "metadata": {},
   "outputs": [
    {
     "name": "stdout",
     "output_type": "stream",
     "text": [
      "*****\n",
      "****\n",
      "***\n",
      "**\n",
      "*\n",
      "\n",
      "\n"
     ]
    }
   ],
   "source": [
    "k=6\n",
    "for j in range(1,6):\n",
    "    k=k-1\n",
    "    print(\"*\"*k)  \n",
    "print(\"\\n\")"
   ]
  },
  {
   "cell_type": "code",
   "execution_count": 26,
   "id": "ce09032b-0db3-47b3-ba5a-fcd696267e71",
   "metadata": {},
   "outputs": [
    {
     "name": "stdout",
     "output_type": "stream",
     "text": [
      "* * * * * \n",
      "\n",
      "* * * * \n",
      "\n",
      "* * * \n",
      "\n",
      "* * \n",
      "\n",
      "* \n",
      "\n"
     ]
    }
   ],
   "source": [
    "#using nested loop\n",
    "for i in range(1,6):\n",
    "    for j in range(1,7-i):\n",
    "        print(\"*\",end=\" \")\n",
    "    print(\"\\n\")"
   ]
  },
  {
   "cell_type": "markdown",
   "id": "4fe9067d-0d9e-4014-b19d-1f549cb00600",
   "metadata": {},
   "source": [
    "### Pyramid of stars\n",
    "\n",
    "    *\n",
    "   ***\n",
    "  *****\n",
    " *******"
   ]
  },
  {
   "cell_type": "code",
   "execution_count": 1,
   "id": "69bcaa12-87a1-403a-a9a9-00d024945198",
   "metadata": {},
   "outputs": [
    {
     "ename": "SyntaxError",
     "evalue": "invalid syntax (1278089243.py, line 3)",
     "output_type": "error",
     "traceback": [
      "  \u001b[36mCell\u001b[39m\u001b[36m \u001b[39m\u001b[32mIn[1]\u001b[39m\u001b[32m, line 3\u001b[39m\n\u001b[31m    \u001b[39m\u001b[31mif i+j==5,6,7,8,9,10,11:\u001b[39m\n             ^\n\u001b[31mSyntaxError\u001b[39m\u001b[31m:\u001b[39m invalid syntax\n"
     ]
    }
   ],
   "source": [
    "for i in range (1,5):\n",
    "    for j in range(1,8):\n",
    "        if i+j==5,6,7,8,9,10,11:\n",
    "            print(\"*\",end=\"\")\n",
    "    else: \n",
    "            print(\" \",end=\"\")            \n",
    "    print()"
   ]
  },
  {
   "cell_type": "markdown",
   "id": "1f679bea-23d2-4122-8c03-0364f260744a",
   "metadata": {},
   "source": [
    "### Print a 4x4 grid like:\n",
    "B W B W\n",
    "W B W B\n",
    "B W B W\n",
    "W B W B"
   ]
  },
  {
   "cell_type": "code",
   "execution_count": 90,
   "id": "3536a47e-bb7e-46ea-b078-7be9e9b3f0fd",
   "metadata": {},
   "outputs": [
    {
     "name": "stdout",
     "output_type": "stream",
     "text": [
      "B W B W \n",
      "W B W B \n",
      "B W B W \n",
      "W B W B \n"
     ]
    }
   ],
   "source": [
    "for i in range(4):                      \n",
    "    for j in range(4):                  \n",
    "        if (i + j) % 2 == 0:\n",
    "            print(\"B\", end=\" \")\n",
    "        else:\n",
    "            print(\"W\", end=\" \")\n",
    "    print()                             "
   ]
  },
  {
   "cell_type": "markdown",
   "id": "3301e704-7fc9-4b5e-a4a2-d62b161f1393",
   "metadata": {},
   "source": [
    "### pattern with row numbers\n",
    "1\n",
    "2 2\n",
    "3 3 3\n",
    "4 4 4 4\n"
   ]
  },
  {
   "cell_type": "code",
   "execution_count": 82,
   "id": "acc72a09-d484-4d41-aa87-3583b8db1a97",
   "metadata": {},
   "outputs": [
    {
     "name": "stdout",
     "output_type": "stream",
     "text": [
      "1 \n",
      "2 2 \n",
      "3 3 3 \n",
      "4 4 4 4 \n"
     ]
    }
   ],
   "source": [
    "for i in range (1,5):\n",
    "    for j in range(1,i+1):\n",
    "        print(i,end=\" \")\n",
    "    print()    "
   ]
  },
  {
   "cell_type": "markdown",
   "id": "c683fb4c-c923-46fc-934c-6a59f59178d8",
   "metadata": {},
   "source": [
    "### 9.Print a chessboard grid with labels:\n",
    "A1 A2 A3 A4\n",
    "B1 B2 B3 B4\n",
    "C1 C2 C3 C4\n",
    "D1 D2 D3 D4"
   ]
  },
  {
   "cell_type": "code",
   "execution_count": 83,
   "id": "7735f7ef-6e96-4768-a3af-31ee1ed74983",
   "metadata": {},
   "outputs": [
    {
     "name": "stdout",
     "output_type": "stream",
     "text": [
      "A1 A2 A3 A4 \n",
      "B1 B2 B3 B4 \n",
      "C1 C2 C3 C4 \n",
      "D1 D2 D3 D4 \n"
     ]
    }
   ],
   "source": [
    "k=\"ABCD\"\n",
    "for i in k:\n",
    "    for j in range(1,5):\n",
    "        print(i+str(j),end=\" \")\n",
    "    print()    "
   ]
  },
  {
   "cell_type": "markdown",
   "id": "bbfbcbda-83e3-4a54-a875-21b18af07ded",
   "metadata": {},
   "source": [
    "### Print a triangle with increasing numbers:\n",
    "1\n",
    "2 3\n",
    "4 5 6\n",
    "7 8 9 10"
   ]
  },
  {
   "cell_type": "code",
   "execution_count": 50,
   "id": "c062fbcd-95f8-484b-9014-33ac72b7359a",
   "metadata": {},
   "outputs": [
    {
     "name": "stdout",
     "output_type": "stream",
     "text": [
      "1 \n",
      "2 3 \n",
      "4 5 6 \n",
      "7 8 9 10 \n"
     ]
    }
   ],
   "source": [
    "k=1\n",
    "for i in range (1,5):\n",
    "    for j in range(1,i+1):\n",
    "        print(k,end=\" \")\n",
    "        k=k+1\n",
    "    print()    "
   ]
  },
  {
   "cell_type": "markdown",
   "id": "768aa650-1d79-4691-a6bd-d5aa11f12316",
   "metadata": {},
   "source": [
    "### Triangle of Alphabets\n",
    "A\n",
    "B B\n",
    "C C C\n",
    "D D D D\n",
    "\n"
   ]
  },
  {
   "cell_type": "code",
   "execution_count": 61,
   "id": "be2e904c-b722-41aa-b809-622634ba793d",
   "metadata": {},
   "outputs": [
    {
     "name": "stdout",
     "output_type": "stream",
     "text": [
      "A \n",
      "B B \n",
      "C C C \n",
      "D D D D \n"
     ]
    }
   ],
   "source": [
    "k=\"ABCD\"\n",
    "b=1\n",
    "for i in k:\n",
    "    for j in range(b):\n",
    "        print(i,end=\" \")\n",
    "    b+=1\n",
    "    print()    "
   ]
  },
  {
   "cell_type": "code",
   "execution_count": null,
   "id": "cbacfd2b-1e07-4332-b3a9-5a1f5a2397f1",
   "metadata": {},
   "outputs": [],
   "source": []
  }
 ],
 "metadata": {
  "kernelspec": {
   "display_name": "Python 3 (ipykernel)",
   "language": "python",
   "name": "python3"
  },
  "language_info": {
   "codemirror_mode": {
    "name": "ipython",
    "version": 3
   },
   "file_extension": ".py",
   "mimetype": "text/x-python",
   "name": "python",
   "nbconvert_exporter": "python",
   "pygments_lexer": "ipython3",
   "version": "3.13.7"
  }
 },
 "nbformat": 4,
 "nbformat_minor": 5
}
