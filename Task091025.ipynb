{
 "cells": [
  {
   "cell_type": "markdown",
   "id": "fa727860-46a7-4e97-a1ea-b017bc241faf",
   "metadata": {},
   "source": [
    "# Use lambda and reduce() to calculate the product of all elements in a list."
   ]
  },
  {
   "cell_type": "code",
   "execution_count": 1,
   "id": "8f02eb8f-f469-4780-9b2e-1d95f17ea623",
   "metadata": {},
   "outputs": [
    {
     "name": "stdout",
     "output_type": "stream",
     "text": [
      "105\n"
     ]
    }
   ],
   "source": [
    "from functools import reduce\n",
    "L=[3,5,7]\n",
    "Preduce=reduce(lambda x,y:x*y,L)\n",
    "print(Preduce)"
   ]
  },
  {
   "cell_type": "markdown",
   "id": "21a077e6-7b84-4ca9-bfbb-91a9867cadfb",
   "metadata": {},
   "source": [
    "# 2.Write a script to read a file and print the number of lines in it."
   ]
  },
  {
   "cell_type": "code",
   "execution_count": 14,
   "id": "827b269c-470c-4b7b-8cae-e6302ee6a3e6",
   "metadata": {},
   "outputs": [
    {
     "name": "stdout",
     "output_type": "stream",
     "text": [
      "['Hi Everyone!\\n', 'I am Gayathri']\n",
      "2\n"
     ]
    }
   ],
   "source": [
    "L=[\"Hi Everyone!\\n\",\"I am Gayathri\"]\n",
    "with open(\"new.txt\",\"w\") as f:\n",
    "    f.writelines(L)\n",
    "with open(\"new.txt\",\"r\") as f:\n",
    "    #readme=f.read()\n",
    "    #print(readme)\n",
    "    #c1 =f.readline()\n",
    "    #c2 =f.readline()\n",
    "    #print(c2)\n",
    "    c =f.readlines()\n",
    "    print(c)\n",
    "    numlines=len(c)\n",
    "    print(numlines)\n",
    "\n",
    "    \n",
    "\n"
   ]
  },
  {
   "cell_type": "markdown",
   "id": "61cf4bac-f2a2-44cc-aef5-3449acca5529",
   "metadata": {},
   "source": [
    "# 3.Create a generator function that yields the Fibonacci sequence up to n terms."
   ]
  },
  {
   "cell_type": "code",
   "execution_count": 18,
   "id": "677d8ce3-8284-4802-bb69-93752a31b1f0",
   "metadata": {},
   "outputs": [
    {
     "name": "stdout",
     "output_type": "stream",
     "text": [
      "0\n",
      "1\n",
      "1\n",
      "2\n",
      "3\n",
      "5\n",
      "8\n",
      "13\n"
     ]
    }
   ],
   "source": [
    "def genfib(n):\n",
    "    a=0\n",
    "    b=1\n",
    "    print(a)\n",
    "    for i in range(n):\n",
    "        yield(b)\n",
    "        c=a+b\n",
    "        a,b=b,c    \n",
    "b=genfib(7)\n",
    "for i in b:\n",
    "    print(i)\n"
   ]
  },
  {
   "cell_type": "markdown",
   "id": "93572206-b2cf-42ec-9094-928dd4106aa1",
   "metadata": {},
   "source": [
    "# 4.Create a function with a nested inner function that modifies a variable using the nonlocal keyword.\n"
   ]
  },
  {
   "cell_type": "code",
   "execution_count": 4,
   "id": "dddf2893-57f0-4329-925e-5edbad004050",
   "metadata": {},
   "outputs": [
    {
     "name": "stdout",
     "output_type": "stream",
     "text": [
      "geek\n",
      "geek\n"
     ]
    }
   ],
   "source": [
    "x=\"ggg\"\n",
    "def fun1():\n",
    "    x=\"GEEK\"\n",
    "    def fun2():\n",
    "        nonlocal x\n",
    "        x=\"geek\"\n",
    "        print(x)\n",
    "    fun2()\n",
    "    print(x)\n",
    "fun1()"
   ]
  },
  {
   "cell_type": "markdown",
   "id": "85d41ba7-2d4d-4c38-8800-5470b0e3f858",
   "metadata": {},
   "source": [
    "# 5.Use itertools.accumulate with a custom function to compute the running maximum in a list."
   ]
  },
  {
   "cell_type": "code",
   "execution_count": 25,
   "id": "7f87079e-9a2c-485f-992d-dfede33c3abc",
   "metadata": {},
   "outputs": [
    {
     "name": "stdout",
     "output_type": "stream",
     "text": [
      "[3, 3, 4, 5, 7]\n"
     ]
    }
   ],
   "source": [
    "from itertools import accumulate\n",
    "L=[3,2,4,5,7]\n",
    "x=accumulate(L,max)\n",
    "print(list(x))"
   ]
  },
  {
   "cell_type": "markdown",
   "id": "08cab447-c7db-4016-95f7-11059a280a45",
   "metadata": {},
   "source": [
    "# 6.Create a custom Python file utils.py with a function is_prime(n) and import it into another file to check prime numbers."
   ]
  },
  {
   "cell_type": "code",
   "execution_count": 28,
   "id": "bf8537e1-fc68-4fa5-a759-b2b8b7451961",
   "metadata": {},
   "outputs": [
    {
     "ename": "ModuleNotFoundError",
     "evalue": "No module named 'utils'",
     "output_type": "error",
     "traceback": [
      "\u001b[31m---------------------------------------------------------------------------\u001b[39m",
      "\u001b[31mModuleNotFoundError\u001b[39m                       Traceback (most recent call last)",
      "\u001b[36mCell\u001b[39m\u001b[36m \u001b[39m\u001b[32mIn[28]\u001b[39m\u001b[32m, line 1\u001b[39m\n\u001b[32m----> \u001b[39m\u001b[32m1\u001b[39m \u001b[38;5;28;01mfrom\u001b[39;00m\u001b[38;5;250m \u001b[39m\u001b[34;01mutils\u001b[39;00m\u001b[38;5;250m \u001b[39m\u001b[38;5;28;01mimport\u001b[39;00m is_prime\n\u001b[32m      3\u001b[39m num = \u001b[38;5;28mint\u001b[39m(\u001b[38;5;28minput\u001b[39m(\u001b[33m\"\u001b[39m\u001b[33mEnter a number: \u001b[39m\u001b[33m\"\u001b[39m))\n\u001b[32m      5\u001b[39m \u001b[38;5;28;01mif\u001b[39;00m is_prime(num):\n",
      "\u001b[31mModuleNotFoundError\u001b[39m: No module named 'utils'"
     ]
    }
   ],
   "source": [
    "from utils import is_prime\n",
    "\n",
    "num = int(input(\"Enter a number: \"))\n",
    "\n",
    "if is_prime(num):\n",
    "    print(f\"{num} is a prime number.\")\n",
    "else:\n",
    "    print(f\"{num} is not a prime number.\")\n"
   ]
  },
  {
   "cell_type": "markdown",
   "id": "e6e59da4-498e-4e34-bd7a-f102d4b0643f",
   "metadata": {},
   "source": [
    "# 7.Given two lists: names and scores, use zip() to pair them and print:"
   ]
  },
  {
   "cell_type": "code",
   "execution_count": 9,
   "id": "2e2c8b6b-d566-4df7-b5b3-fb759409741e",
   "metadata": {},
   "outputs": [
    {
     "name": "stdout",
     "output_type": "stream",
     "text": [
      "[('KKK', 23), ('gggg', 45), ('hhh', 76)]\n"
     ]
    }
   ],
   "source": [
    "L1=['KKK',\"gggg\",\"hhh\"]\n",
    "L2=[23,45,76]\n",
    "k=zip(L1,L2)\n",
    "#print(dict(k))\n",
    "print(list(k))"
   ]
  },
  {
   "cell_type": "markdown",
   "id": "259d7c4a-b3fd-4d25-bc6c-b8567ec54602",
   "metadata": {},
   "source": [
    "# 8.Use map() and zip() to perform element-wise addition of two lists."
   ]
  },
  {
   "cell_type": "code",
   "execution_count": 11,
   "id": "432c646e-2fac-4f29-9aa2-fed9dc6ff839",
   "metadata": {},
   "outputs": [
    {
     "name": "stdout",
     "output_type": "stream",
     "text": [
      "[2, 4, 6, 8, 10]\n"
     ]
    }
   ],
   "source": [
    "L1=[1,2,3,4,5]\n",
    "L2=[1,2,3,4,5]\n",
    "i=zip(L1,L2)\n",
    "z=map(lambda k: k[0]+k[1],i)\n",
    "print(list(z))"
   ]
  },
  {
   "cell_type": "markdown",
   "id": "e0728582-afe9-492a-a646-3a07ebe2b732",
   "metadata": {},
   "source": [
    "# 9.Use filter() and lambda to find all palindromic words in a list."
   ]
  },
  {
   "cell_type": "code",
   "execution_count": 22,
   "id": "bc5028fc-81a7-4d7f-8998-acd0bf97ed41",
   "metadata": {},
   "outputs": [
    {
     "name": "stdout",
     "output_type": "stream",
     "text": [
      "Palindromic words: ['abba', 'eve']\n"
     ]
    }
   ],
   "source": [
    "words=['abba','hgjs','eve']\n",
    "palindromes = list(filter(lambda w: w == w[::-1], words))\n",
    "\n",
    "print(\"Palindromic words:\", palindromes)\n",
    "\n",
    "\n"
   ]
  },
  {
   "cell_type": "markdown",
   "id": "6316c67a-5f89-4ddb-9d1e-637053c8862a",
   "metadata": {},
   "source": [
    "# 10.Create a generator function that yields prime numbers up to a given limit."
   ]
  },
  {
   "cell_type": "code",
   "execution_count": 4,
   "id": "5382cad8-aeee-4111-aa84-bb3605b230ae",
   "metadata": {},
   "outputs": [
    {
     "name": "stdout",
     "output_type": "stream",
     "text": [
      "2\n",
      "3\n",
      "5\n",
      "7\n",
      "11\n",
      "13\n",
      "17\n",
      "19\n"
     ]
    }
   ],
   "source": [
    "def gen(n):\n",
    "    for i in range (2,n+1):\n",
    "        for j in range(2,i):\n",
    "            if i%j==0:\n",
    "                break\n",
    "        else:\n",
    "            yield(i)\n",
    "x=gen(19)\n",
    "for k in x:\n",
    "    print(k)"
   ]
  },
  {
   "cell_type": "markdown",
   "id": "a84d3027-a1f0-4711-9cdb-257104e69359",
   "metadata": {},
   "source": [
    "# 11.Use reduce() to find the longest word in a list of strings."
   ]
  },
  {
   "cell_type": "code",
   "execution_count": 3,
   "id": "efb2f3e0-bc5a-45de-a7aa-2cb2934d8149",
   "metadata": {},
   "outputs": [
    {
     "name": "stdout",
     "output_type": "stream",
     "text": [
      "Gayathiri\n"
     ]
    }
   ],
   "source": [
    "L=['Karthik','Gayathiri','Afreen']\n",
    "Lstring=reduce(lambda x,y:x if len(x)>len(y) else y,L)\n",
    "print(Lstring)"
   ]
  },
  {
   "cell_type": "code",
   "execution_count": null,
   "id": "bce2912a-1f0c-4bd1-b932-a43c52b6983b",
   "metadata": {},
   "outputs": [],
   "source": []
  }
 ],
 "metadata": {
  "kernelspec": {
   "display_name": "Python 3 (ipykernel)",
   "language": "python",
   "name": "python3"
  },
  "language_info": {
   "codemirror_mode": {
    "name": "ipython",
    "version": 3
   },
   "file_extension": ".py",
   "mimetype": "text/x-python",
   "name": "python",
   "nbconvert_exporter": "python",
   "pygments_lexer": "ipython3",
   "version": "3.13.8"
  }
 },
 "nbformat": 4,
 "nbformat_minor": 5
}
