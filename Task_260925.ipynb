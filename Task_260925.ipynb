{
 "cells": [
  {
   "cell_type": "markdown",
   "id": "3f81b4a9-b5ee-4682-b6ef-4ef5a777531e",
   "metadata": {},
   "source": [
    "# Write a function multiply_all that takes any number of arguments and returns their product."
   ]
  },
  {
   "cell_type": "code",
   "execution_count": 22,
   "id": "4f979f4d-6a74-4a6c-8d3b-1914fbd74d6b",
   "metadata": {},
   "outputs": [
    {
     "name": "stdin",
     "output_type": "stream",
     "text": [
      "enter the number to mul: 2\n",
      "enter the number to mul: 3\n",
      "enter the number to mul: 4\n"
     ]
    },
    {
     "name": "stdout",
     "output_type": "stream",
     "text": [
      "[2, 3, 4]\n"
     ]
    },
    {
     "name": "stdin",
     "output_type": "stream",
     "text": [
      "enter the number to mul: 4\n",
      "enter the number to mul: 5\n",
      "enter the number to mul: 6\n"
     ]
    },
    {
     "name": "stdout",
     "output_type": "stream",
     "text": [
      "[4, 5, 6]\n"
     ]
    },
    {
     "data": {
      "text/plain": [
       "120"
      ]
     },
     "execution_count": 22,
     "metadata": {},
     "output_type": "execute_result"
    }
   ],
   "source": [
    "#using lib\n",
    "import math\n",
    "def mul(*a):\n",
    "    product= math.prod(a)\n",
    "    return product\n",
    "n=[]\n",
    "for i in range(3):\n",
    "    b=int(input(\"enter the number to mul:\"))\n",
    "    n.append(b)\n",
    "print(n)   \n",
    "mul(*n)\n",
    "\n",
    "#using loops\n",
    "def mul(*a):\n",
    "    k=1\n",
    "    for i in a:\n",
    "        prod=k*i\n",
    "        k=prod\n",
    "    return prod\n",
    "n=[]\n",
    "for i in range(3):\n",
    "    b=int(input(\"enter the number to mul:\"))\n",
    "    n.append(b)\n",
    "print(n)   \n",
    "mul(*n)\n"
   ]
  },
  {
   "cell_type": "markdown",
   "id": "e9f565e4-af76-45f3-a447-85d4e035ed29",
   "metadata": {},
   "source": [
    "# Write a function describe_person that takes any number of keyword arguments and prints them in the format: key: value."
   ]
  },
  {
   "cell_type": "code",
   "execution_count": 26,
   "id": "442c68ea-54be-4f62-ac95-2c4107e6b19d",
   "metadata": {},
   "outputs": [
    {
     "name": "stdout",
     "output_type": "stream",
     "text": [
      "{'name': 'XXX', 'age': 25, 'height': 5.6, 'weight': 65}\n",
      "{'name': 'YYY', 'age': 56, 'height': 4.7, 'weight': 70}\n"
     ]
    }
   ],
   "source": [
    "#method1\n",
    "dicperson={}\n",
    "def person(*a):\n",
    "    dicperson[\"name\"]=a[0]\n",
    "    dicperson[\"age\"]=a[1]\n",
    "    dicperson[\"height\"]=a[2]\n",
    "    dicperson[\"weight\"]=a[3]   \n",
    "    print(dicperson)\n",
    "p1=(\"XXX\",25,5.6,65)\n",
    "p2=(\"YYY\",56,4.7,70)\n",
    "person(*p1)\n",
    "person(*p2)\n",
    "\n",
    "#method2\n",
    "def person(*a):\n",
    "    keynames=('name','age','height','weight')\n",
    "    dicperson=dict(zip(keynames,a))\n",
    "    print(dicperson)\n",
    "value1=(\"XXX\",25,5.6,65)\n",
    "value2=(\"YYY\",56,4.7,70)\n",
    "person(*value1)\n",
    "person(*value2)\n"
   ]
  },
  {
   "cell_type": "markdown",
   "id": "aca50910-8a8a-46ac-a090-b391787f66ef",
   "metadata": {},
   "source": [
    "# Create a function log_data(*args, **kwargs) that prints all positional arguments as a list and keyword arguments as a dictionary."
   ]
  },
  {
   "cell_type": "code",
   "execution_count": 39,
   "id": "54527bcf-97ea-45a0-b69d-a6f7f43d6230",
   "metadata": {},
   "outputs": [
    {
     "name": "stdout",
     "output_type": "stream",
     "text": [
      "['XXX', 25, 5.6, 65]\n",
      "{'p1': 'kkk', 'p2': 'bbb', 'p1age': 15, 'p2age': 14}\n"
     ]
    }
   ],
   "source": [
    "#method 1\n",
    "lis=[]\n",
    "dic={}\n",
    "def log_data(*a,**b):\n",
    "    for i in a:\n",
    "        lis.append(i)\n",
    "    print(lis)\n",
    "    for i,j in b.items():\n",
    "        dic[i]=j\n",
    "    print(dic)\n",
    "log_data(\"XXX\",25,5.6,65,p1='kkk',p2='bbb',p1age=15,p2age=14)\n",
    "#method 2\n",
    "def log_data(*a,**b):\n",
    "    print(list(a))\n",
    "    print(dict(b))\n",
    "log_data(\"XXX\",25,5.6,65,p1='kkk',p2='bbb',p1age=15,p2age=14)\n"
   ]
  },
  {
   "cell_type": "markdown",
   "id": "d51c61f2-e977-408d-b09c-4efbc9ad03f8",
   "metadata": {},
   "source": [
    "# Create a class Book with a default constructor that prints \"Book object created\" and create an object of the class."
   ]
  },
  {
   "cell_type": "code",
   "execution_count": 40,
   "id": "618d9d80-e9c6-4714-93ea-f3b9d3c12624",
   "metadata": {},
   "outputs": [
    {
     "name": "stdout",
     "output_type": "stream",
     "text": [
      "Book object created\n"
     ]
    }
   ],
   "source": [
    "class Book:\n",
    "    def __init__(self):\n",
    "        print(\"Book object created\")        \n",
    "b1=Book()"
   ]
  },
  {
   "cell_type": "markdown",
   "id": "cf502ecb-854d-42d2-999a-b8f196d401dd",
   "metadata": {},
   "source": [
    "# Create a class Student with parameters: name and grade. Create a method to print the student's details."
   ]
  },
  {
   "cell_type": "code",
   "execution_count": 58,
   "id": "26739d27-60d9-4504-9e92-7ebd49c0c9dd",
   "metadata": {},
   "outputs": [
    {
     "name": "stdout",
     "output_type": "stream",
     "text": [
      "s1 details are: Name: ggg, Grade: A\n"
     ]
    }
   ],
   "source": [
    "#method 1\n",
    "class Student:\n",
    "    def __init__(self,name,grade):\n",
    "        self.name=name\n",
    "        self.grade=grade\n",
    "    def details(self):\n",
    "        print(f\"s1 details are: Name: {self.name}, Grade: {self.grade}\")\n",
    "s1=Student('ggg','A')\n",
    "s1.details()\n",
    "s2=Student('hhh','B')\n",
    "s2.details()\n",
    "#method 2\n",
    "class Student:\n",
    "    def __init__(self,name,grade):\n",
    "        self.name=name\n",
    "        self.grade=grade\n",
    "s1=Student('ggg','A')\n",
    "s1=Student('hhh','B')\n",
    "print(s1.name)\n",
    "print(s1.grade)\n",
    "print(s2.name)\n",
    "print(s2.grade)\n",
    "       "
   ]
  },
  {
   "cell_type": "markdown",
   "id": "063f03be-a42f-470d-88e5-01278d1a29dd",
   "metadata": {},
   "source": [
    "# Create a class Car with an attribute color. Use setattr() to change the color of the car after object creation."
   ]
  },
  {
   "cell_type": "code",
   "execution_count": 62,
   "id": "fd787ee3-3262-4247-9ce8-7310601233fb",
   "metadata": {},
   "outputs": [
    {
     "name": "stdout",
     "output_type": "stream",
     "text": [
      "Honda Black\n",
      "Hyundai White\n",
      "Honda white\n"
     ]
    }
   ],
   "source": [
    "class Car:\n",
    "    def __init__(self,name,colour):\n",
    "        self.name=name\n",
    "        self.colour=colour\n",
    "c1=Car('Honda','Black')\n",
    "c2=Car('Hyundai','White')\n",
    "print(c1.name,c1.colour)\n",
    "print(c2.name,c2.colour)\n",
    "setattr(c1,'colour','white')\n",
    "print(c1.name,c1.colour)\n",
    "\n",
    "\n"
   ]
  },
  {
   "cell_type": "code",
   "execution_count": null,
   "id": "b1c15438-ae20-47f0-9b71-b5a0acfa0079",
   "metadata": {},
   "outputs": [],
   "source": []
  }
 ],
 "metadata": {
  "kernelspec": {
   "display_name": "Python 3 (ipykernel)",
   "language": "python",
   "name": "python3"
  },
  "language_info": {
   "codemirror_mode": {
    "name": "ipython",
    "version": 3
   },
   "file_extension": ".py",
   "mimetype": "text/x-python",
   "name": "python",
   "nbconvert_exporter": "python",
   "pygments_lexer": "ipython3",
   "version": "3.13.7"
  }
 },
 "nbformat": 4,
 "nbformat_minor": 5
}
