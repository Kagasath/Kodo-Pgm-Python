{
 "cells": [
  {
   "cell_type": "code",
   "execution_count": 1,
   "id": "39c17f1a-c159-44cb-8ea8-cba98deca507",
   "metadata": {},
   "outputs": [
    {
     "name": "stdout",
     "output_type": "stream",
     "text": [
      "gayathri\n"
     ]
    }
   ],
   "source": [
    "print(\"gayathri\")"
   ]
  },
  {
   "cell_type": "code",
   "execution_count": 2,
   "id": "828874dc-7f49-4947-af63-6bdc6bbe89eb",
   "metadata": {},
   "outputs": [
    {
     "name": "stdout",
     "output_type": "stream",
     "text": [
      "xxxx\n"
     ]
    }
   ],
   "source": [
    "name=\"xxxx\"\n",
    "print(name)"
   ]
  },
  {
   "cell_type": "code",
   "execution_count": 3,
   "id": "b663b0b6-5746-4064-a4a6-1552b68fcf2c",
   "metadata": {},
   "outputs": [
    {
     "name": "stdout",
     "output_type": "stream",
     "text": [
      "<class 'int'>\n"
     ]
    }
   ],
   "source": [
    "age = 0\n",
    "mark =78.5\n",
    "number = 1j\n",
    "print(type(age))\n",
    "if age:\n",
    "    print(True)"
   ]
  },
  {
   "cell_type": "code",
   "execution_count": 4,
   "id": "bc2479fe-bb22-4c13-8553-b48bfd859045",
   "metadata": {},
   "outputs": [
    {
     "name": "stdout",
     "output_type": "stream",
     "text": [
      "0.0\n"
     ]
    }
   ],
   "source": [
    "age1 = float(age)\n",
    "print(age1)"
   ]
  },
  {
   "cell_type": "code",
   "execution_count": 5,
   "id": "b44bbc46-72d2-4b1b-9467-197775e442cc",
   "metadata": {},
   "outputs": [
    {
     "data": {
      "text/plain": [
       "True"
      ]
     },
     "execution_count": 5,
     "metadata": {},
     "output_type": "execute_result"
    }
   ],
   "source": [
    "bool(8)"
   ]
  },
  {
   "cell_type": "code",
   "execution_count": null,
   "id": "0572de59-b8e0-4d4d-a0ad-21bac88291dc",
   "metadata": {},
   "outputs": [],
   "source": [
    "#used to give comments\n",
    "#ctrl+/ used to command and uncommand"
   ]
  },
  {
   "cell_type": "code",
   "execution_count": 7,
   "id": "362fd85a-c973-4588-bc37-cf67e76a314e",
   "metadata": {},
   "outputs": [
    {
     "name": "stdout",
     "output_type": "stream",
     "text": [
      "9\n",
      "-3\n",
      "18\n",
      "0.5\n",
      "3\n",
      "729\n",
      "0\n"
     ]
    }
   ],
   "source": [
    "#operators\n",
    "a= 3\n",
    "b= 6\n",
    "print(a+b)\n",
    "print(a-b)\n",
    "print(a*b)\n",
    "print(a/b)\n",
    "print(a%b) #gives only reminder \n",
    "print(a**b)#raise to the power\n",
    "print(a//b)\n",
    "\n",
    "\n"
   ]
  },
  {
   "cell_type": "code",
   "execution_count": 11,
   "id": "93241e5d-b45f-43a6-921e-5fab5a09eebd",
   "metadata": {},
   "outputs": [
    {
     "name": "stdout",
     "output_type": "stream",
     "text": [
      "4\n",
      "3\n"
     ]
    }
   ],
   "source": [
    "#assignment operators\n",
    "a= 3\n",
    "b= 6\n",
    "a+=1\n",
    "print(a)\n",
    "a-=1\n",
    "print(a)"
   ]
  },
  {
   "cell_type": "code",
   "execution_count": 13,
   "id": "a6cae839-bfb2-4255-badc-0da38844c760",
   "metadata": {},
   "outputs": [
    {
     "name": "stdout",
     "output_type": "stream",
     "text": [
      "False\n",
      "True\n",
      "True\n",
      "False\n",
      "True\n",
      "False\n"
     ]
    }
   ],
   "source": [
    "#comparison operators\n",
    "print(a==b)\n",
    "print(a!=b)\n",
    "print(a<b)\n",
    "print(a>b)\n",
    "print(a<=b)\n",
    "print(a>=b)"
   ]
  },
  {
   "cell_type": "code",
   "execution_count": 15,
   "id": "d92eed8e-c024-4682-9654-a385c511361c",
   "metadata": {},
   "outputs": [
    {
     "name": "stdout",
     "output_type": "stream",
     "text": [
      "True\n",
      "True\n"
     ]
    }
   ],
   "source": [
    "#Logical operators\n",
    "a=6\n",
    "print(a>5 and a<11)\n",
    "print(a>5 or a>11)"
   ]
  },
  {
   "cell_type": "code",
   "execution_count": 17,
   "id": "8adac3f8-bc80-47b3-858b-f6c62fdfc4d4",
   "metadata": {},
   "outputs": [
    {
     "name": "stdout",
     "output_type": "stream",
     "text": [
      "True\n",
      "True\n"
     ]
    }
   ],
   "source": [
    "x=7\n",
    "print(not(x>3 and x<5))\n",
    "print(not(x<3 and x>5))"
   ]
  },
  {
   "cell_type": "code",
   "execution_count": 18,
   "id": "cf673828-6321-495f-b5be-dc295042df7b",
   "metadata": {},
   "outputs": [
    {
     "name": "stdout",
     "output_type": "stream",
     "text": [
      "True\n"
     ]
    }
   ],
   "source": [
    "#Identity operators are used to compare the objects, not if they are equal, but if they are actually the same object, with the same memory location\n",
    "a=12\n",
    "b=12\n",
    "print(a is b)"
   ]
  },
  {
   "cell_type": "code",
   "execution_count": 22,
   "id": "801ddb5e-b79c-454f-af79-e2857e3d2906",
   "metadata": {},
   "outputs": [
    {
     "name": "stdout",
     "output_type": "stream",
     "text": [
      "True\n"
     ]
    }
   ],
   "source": [
    "a=[1,2,3]\n",
    "b=[1,2,3]\n",
    "print( a is not b)\n",
    "\n"
   ]
  },
  {
   "cell_type": "code",
   "execution_count": 23,
   "id": "854de25d-5cc1-4ac2-b5fb-3922323238ba",
   "metadata": {},
   "outputs": [
    {
     "name": "stdout",
     "output_type": "stream",
     "text": [
      "True\n"
     ]
    }
   ],
   "source": [
    "#membership operators is used to check the element present or not\n",
    "list1=[1,2,3,4,5,6,7]\n",
    "print(3 in list1)\n"
   ]
  },
  {
   "cell_type": "code",
   "execution_count": 35,
   "id": "8c85e440-3cc7-4b20-880f-5083b2a2d196",
   "metadata": {},
   "outputs": [
    {
     "name": "stdout",
     "output_type": "stream",
     "text": [
      "0\n",
      "15\n",
      "3\n",
      "-4\n",
      "48\n",
      "3\n"
     ]
    }
   ],
   "source": [
    "#bitwise operator used to operate and compare on binary values\n",
    "print(3 & 4) #add 1 to same bit value else 0\n",
    "print(7|9) #or operator atleast 1 bit value should be 1\n",
    "print(7^4) #nor returns 1 only values are different\n",
    "print(~3) #not returns inverse of all the bits. formula = ~a=-(a+1)\n",
    "print(12<<2) #(Y<<n) n shifts the binary representation of the integer Y by n positions to the left\n",
    "print(12>>2)#(Y>>n) n shifts the binary representation of the integer Y by n positions to the right\n",
    "\n"
   ]
  },
  {
   "cell_type": "code",
   "execution_count": 29,
   "id": "d9b29435-32a5-400f-93c6-beb53d58d0d5",
   "metadata": {},
   "outputs": [
    {
     "name": "stdout",
     "output_type": "stream",
     "text": [
      "0b1001000\n",
      "155\n"
     ]
    }
   ],
   "source": [
    "#converting int to binary\n",
    "number = 72\n",
    "print(bin(number))\n",
    "\n",
    "#converting binary to int\n",
    "number = \"10011011\"\n",
    "decimal_number = int(number,2)\n",
    "print(decimal_number)"
   ]
  },
  {
   "cell_type": "code",
   "execution_count": null,
   "id": "df8ceb3e-fc28-4c38-848c-df9f44fd2232",
   "metadata": {},
   "outputs": [],
   "source": []
  }
 ],
 "metadata": {
  "kernelspec": {
   "display_name": "Python 3 (ipykernel)",
   "language": "python",
   "name": "python3"
  },
  "language_info": {
   "codemirror_mode": {
    "name": "ipython",
    "version": 3
   },
   "file_extension": ".py",
   "mimetype": "text/x-python",
   "name": "python",
   "nbconvert_exporter": "python",
   "pygments_lexer": "ipython3",
   "version": "3.13.7"
  }
 },
 "nbformat": 4,
 "nbformat_minor": 5
}
