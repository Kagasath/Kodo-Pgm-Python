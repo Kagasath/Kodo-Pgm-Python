{
 "cells": [
  {
   "cell_type": "code",
   "execution_count": 4,
   "id": "2f45052e-aace-42f3-98a1-a182208d8d7d",
   "metadata": {},
   "outputs": [
    {
     "name": "stdout",
     "output_type": "stream",
     "text": [
      "0\n"
     ]
    }
   ],
   "source": [
    "a=3\n",
    "b=4\n",
    "c= a&b\n",
    "print(c)"
   ]
  },
  {
   "cell_type": "markdown",
   "id": "b749fa36-bda3-42e9-86f9-2dc7a8156022",
   "metadata": {},
   "source": [
    "# Nested for"
   ]
  },
  {
   "cell_type": "code",
   "execution_count": 5,
   "id": "5b41992c-f376-4bb1-9062-42eafb05943b",
   "metadata": {},
   "outputs": [
    {
     "name": "stdout",
     "output_type": "stream",
     "text": [
      "1 1\n",
      "1 2\n",
      "1 3\n",
      "1 4\n",
      "1 5\n",
      "2 1\n",
      "2 2\n",
      "2 3\n",
      "2 4\n",
      "2 5\n",
      "3 1\n",
      "3 2\n",
      "3 3\n",
      "3 4\n",
      "3 5\n",
      "4 1\n",
      "4 2\n",
      "4 3\n",
      "4 4\n",
      "4 5\n",
      "5 1\n",
      "5 2\n",
      "5 3\n",
      "5 4\n",
      "5 5\n"
     ]
    }
   ],
   "source": [
    "for i in range(1,6):\n",
    "    for j in range(1,6):\n",
    "        print(i,j)"
   ]
  },
  {
   "cell_type": "markdown",
   "id": "0165a41e-5f48-4bab-9d16-172b3e3c67a7",
   "metadata": {},
   "source": [
    "# printing matrix"
   ]
  },
  {
   "cell_type": "code",
   "execution_count": 6,
   "id": "747aa824-e8ce-4bb5-ab38-b80bfe40ff6f",
   "metadata": {},
   "outputs": [
    {
     "name": "stdout",
     "output_type": "stream",
     "text": [
      "1 1 1 2 1 3 1 4 1 5  \n",
      "2 1 2 2 2 3 2 4 2 5  \n",
      "3 1 3 2 3 3 3 4 3 5  \n",
      "4 1 4 2 4 3 4 4 4 5  \n",
      "5 1 5 2 5 3 5 4 5 5  \n"
     ]
    }
   ],
   "source": [
    "for i in range(1,6):\n",
    "    for j in range(1,6):\n",
    "        print(i,j, end=\" \")\n",
    "    print(\" \")"
   ]
  },
  {
   "cell_type": "code",
   "execution_count": null,
   "id": "86b8b5c4-c707-4f23-b455-106725197809",
   "metadata": {},
   "outputs": [],
   "source": []
  }
 ],
 "metadata": {
  "kernelspec": {
   "display_name": "Python 3 (ipykernel)",
   "language": "python",
   "name": "python3"
  },
  "language_info": {
   "codemirror_mode": {
    "name": "ipython",
    "version": 3
   },
   "file_extension": ".py",
   "mimetype": "text/x-python",
   "name": "python",
   "nbconvert_exporter": "python",
   "pygments_lexer": "ipython3",
   "version": "3.13.7"
  }
 },
 "nbformat": 4,
 "nbformat_minor": 5
}
