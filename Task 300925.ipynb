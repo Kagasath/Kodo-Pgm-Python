{
 "cells": [
  {
   "cell_type": "markdown",
   "id": "1064d204-318b-437b-be57-2b2e1df2849d",
   "metadata": {},
   "source": [
    "# Inheritance"
   ]
  },
  {
   "cell_type": "code",
   "execution_count": 21,
   "id": "157f013e-4827-4b89-b59c-792f159606a9",
   "metadata": {},
   "outputs": [
    {
     "name": "stdout",
     "output_type": "stream",
     "text": [
      "Buddy\n",
      "Some generic sound\n"
     ]
    }
   ],
   "source": [
    "# Single Inheritance\n",
    "class Creature:\n",
    "    def __init__(self, title):\n",
    "        self.name = title\n",
    "\n",
    "    def produce_sound(self):\n",
    "        return \"Some generic sound\"\n",
    "\n",
    "# Subclass inheriting from Creature\n",
    "\n",
    "class Canine(Creature):\n",
    "    def produce_sound(self):  # Overrides the method from Creature class\n",
    "        return \"Bark Bark\"\n",
    "        \n",
    "p1=Creature(\"Lion\")\n",
    "p1.name #prints Lion\n",
    "pet = Canine(\"Buddy\")\n",
    "print(pet.name) \n",
    "print(super(Canine,pet).produce_sound())  "
   ]
  },
  {
   "cell_type": "code",
   "execution_count": 25,
   "id": "1b90f256-79aa-44ac-87f9-399df3f8d6b1",
   "metadata": {},
   "outputs": [
    {
     "data": {
      "text/plain": [
       "'Some generic sound'"
      ]
     },
     "execution_count": 25,
     "metadata": {},
     "output_type": "execute_result"
    }
   ],
   "source": [
    "# Single Inheritance\n",
    "class Creature:\n",
    "    def __init__(self, title):\n",
    "        self.name = title\n",
    "\n",
    "    def produce_sound(self):\n",
    "        return \"Some generic sound\"\n",
    "\n",
    "# Subclass inheriting from Creature\n",
    "\n",
    "class Canine(Creature):\n",
    "    def produce_sound(self):  # Overrides the method from Creature class\n",
    "        return \"Bark Bark\"\n",
    "    def parent_sound(self):\n",
    "        parent_sound = super().produce_sound() #accesing super class function\n",
    "        return parent_sound\n",
    "pet = Canine(\"Buddy\")\n",
    "pet.produce_sound()\n",
    "pet.parent_sound()\n"
   ]
  },
  {
   "cell_type": "code",
   "execution_count": 40,
   "id": "3541e6df-18a2-441c-85a2-7ba3157725e3",
   "metadata": {},
   "outputs": [
    {
     "name": "stdout",
     "output_type": "stream",
     "text": [
      "I have a fur\n",
      "I have a fur\n"
     ]
    },
    {
     "data": {
      "text/plain": [
       "'Produces distinct sounds'"
      ]
     },
     "execution_count": 40,
     "metadata": {},
     "output_type": "execute_result"
    }
   ],
   "source": [
    "#Multiple Inheritance\n",
    "class FurryAnimal:\n",
    "    def fur_type(self):\n",
    "        return \"Has a coat of fur\"\n",
    "\n",
    "class VocalCreature:\n",
    "    def sound_type(self):\n",
    "        return \"Produces distinct sounds\"\n",
    "\n",
    "class HybridAnimal(FurryAnimal, VocalCreature):\n",
    "    def fur_type(self):\n",
    "        print(\"I have a fur\")\n",
    "    def sound_type(self):\n",
    "        return super().sound_type() #accessing using super\n",
    "   \n",
    "\n",
    "creature = HybridAnimal()\n",
    "creature.fur_type()# Output: Has a coat of fur\n",
    "creature.sound_type() \n",
    "creature.fur_type()\n",
    "creature.sound_type()\n",
    "#print(super(HybridAnimal,creature).sound_type()) #accesing method of base class\n"
   ]
  },
  {
   "cell_type": "code",
   "execution_count": 44,
   "id": "943e78f0-5e79-4cad-b37d-07d6a46e09a8",
   "metadata": {},
   "outputs": [
    {
     "name": "stdout",
     "output_type": "stream",
     "text": [
      "division: 3.3333333333333335\n",
      "mod_division: 1\n",
      "divmod: (3.3333333333333335, 1)\n"
     ]
    },
    {
     "data": {
      "text/plain": [
       "[__main__.div_mod, __main__.division, __main__.modulus, object]"
      ]
     },
     "execution_count": 44,
     "metadata": {},
     "output_type": "execute_result"
    }
   ],
   "source": [
    "#Multiple Inheritance without using super\n",
    "class division:\n",
    "   def __init__(self, a,b):\n",
    "      self.n=a\n",
    "      self.d=b\n",
    "   def divide(self):\n",
    "      return self.n/self.d\n",
    "class modulus:\n",
    "   def __init__(self, a,b):\n",
    "      self.n=a\n",
    "      self.d=b\n",
    "   def mod_divide(self):\n",
    "      return self.n%self.d      \n",
    "class div_mod(division,modulus):\n",
    "   def __init__(self, a,b):\n",
    "      self.n=a\n",
    "      self.d=b\n",
    "   def div_and_mod(self):\n",
    "      divval=division.divide(self) #instead of using super using the base class name\n",
    "      modval=modulus.mod_divide(self) #instead of using super using the base class name\n",
    "      return (divval, modval)\n",
    "x=div_mod(10,3)\n",
    "print (\"division:\",x.divide())\n",
    "print (\"mod_division:\",x.mod_divide())\n",
    "print (\"divmod:\",x.div_and_mod())\n",
    "div_mod.mro() #using method resoultion order\n",
    "div_mod.__mro__#using method resoultion order"
   ]
  },
  {
   "cell_type": "code",
   "execution_count": 46,
   "id": "7efad65b-6206-4c45-9da4-3075ba174d90",
   "metadata": {},
   "outputs": [
    {
     "name": "stdout",
     "output_type": "stream",
     "text": [
      "I am in the Universe\n",
      "I am on Earth\n",
      "I am in India\n"
     ]
    }
   ],
   "source": [
    "# Multi level inheritance\n",
    "class Universe: \n",
    "   def universeMethod(self):\n",
    "      print (\"I am in the Universe\")\n",
    "\n",
    "# child class\n",
    "class Earth(Universe): \n",
    "   def earthMethod(self):\n",
    "      print (\"I am on Earth\")\n",
    "      \n",
    "# another child class\n",
    "class India(Earth): \n",
    "   def indiaMethod(self):\n",
    "      print (\"I am in India\")      \n",
    "\n",
    "# creating instance \n",
    "person = India()  \n",
    "# method calls\n",
    "person.universeMethod() \n",
    "person.earthMethod() \n",
    "person.indiaMethod() "
   ]
  },
  {
   "cell_type": "code",
   "execution_count": 47,
   "id": "00a62ac4-5705-423c-95fe-fd7f53ddde19",
   "metadata": {},
   "outputs": [
    {
     "name": "stdout",
     "output_type": "stream",
     "text": [
      "I am the Manager\n",
      "I am Employee one\n",
      "I am the Manager\n",
      "I am Employee two\n"
     ]
    }
   ],
   "source": [
    "#Heirarichal Inheritance\n",
    "class Manager: \n",
    "   def managerMethod(self):\n",
    "      print (\"I am the Manager\")\n",
    "\n",
    "# child class\n",
    "class Employee1(Manager): \n",
    "   def employee1Method(self):\n",
    "      print (\"I am Employee one\")\n",
    "      \n",
    "# second child class\n",
    "class Employee2(Manager): \n",
    "   def employee2Method(self):\n",
    "      print (\"I am Employee two\")      \n",
    "\n",
    "# creating instances \n",
    "emp1 = Employee1()  \n",
    "emp2 = Employee2()\n",
    "# method calls\n",
    "emp1.managerMethod() \n",
    "emp1.employee1Method()\n",
    "emp2.managerMethod() \n",
    "emp2.employee2Method()  "
   ]
  },
  {
   "cell_type": "code",
   "execution_count": 80,
   "id": "faa9d3cf-673b-498d-87fe-71b747fa9156",
   "metadata": {},
   "outputs": [
    {
     "name": "stdout",
     "output_type": "stream",
     "text": [
      "I am Employee one\n",
      "My salary is 150000\n",
      "I am the Manager\n",
      "My salary is 150000\n",
      "I am the Manager\n",
      "My salary is 250000\n",
      "I am the Staff\n",
      "I am Employee two\n",
      "My salary is 250000\n"
     ]
    }
   ],
   "source": [
    "#Hybrid Inheritance\n",
    "class Staff: \n",
    "    def __init__(self):\n",
    "        pass\n",
    "    def StaffMethod(self):\n",
    "        print (\"I am the Staff\")     \n",
    "class Manager(Staff): \n",
    "    def __init__(self,salary):\n",
    "        self.salary=salary\n",
    "    def managerMethod(self):\n",
    "        print (\"I am the Manager\")\n",
    "        print(\"My salary is\",self.salary)        \n",
    "class Employee1(Manager): \n",
    "    def employee1Method(self):\n",
    "        print (\"I am Employee one\")\n",
    "        print(\"My salary is\",self.salary)\n",
    "class Employee2(Manager, Staff):\n",
    "    def __init__(self,salary):\n",
    "        super().__init__(salary)\n",
    "    def employee2Method(self):\n",
    "        #super().managerMethod(salary)\n",
    "        print (\"I am Employee two\")\n",
    "        print(\"My salary is\",self.salary)           \n",
    "# creating instances \n",
    "emp = Employee2(250000)\n",
    "em= Employee1(150000)\n",
    "# method calls\n",
    "em.employee1Method()\n",
    "em.managerMethod()\n",
    "emp.managerMethod() \n",
    "emp.StaffMethod()\n",
    "emp.employee2Method()"
   ]
  },
  {
   "cell_type": "markdown",
   "id": "f3952c7e-2740-4068-9edd-63a47732c292",
   "metadata": {},
   "source": [
    "# Transportation System\n",
    "Base class: Transport with method move().\n",
    "Derived classes:\n",
    "Car – overrides move() to say “Driving on road.”\n",
    "Boat – overrides move() to say “Sailing on water.”"
   ]
  },
  {
   "cell_type": "code",
   "execution_count": 6,
   "id": "80af6b73-05f6-4524-960d-abd3174f5b35",
   "metadata": {},
   "outputs": [
    {
     "name": "stdout",
     "output_type": "stream",
     "text": [
      "Driving on the road\n",
      "Sailing on water\n"
     ]
    }
   ],
   "source": [
    "class Transport:\n",
    "    def move(self):\n",
    "        print(\"Different modes of travel\")\n",
    "class Car(Transport):\n",
    "    def move(self):\n",
    "        print(\"Driving on the road\")\n",
    "class Boat(Transport):\n",
    "    def move(self):\n",
    "        print(\"Sailing on water\")\n",
    "c=Car()\n",
    "b=Boat()\n",
    "c.move()\n",
    "b.move()\n"
   ]
  },
  {
   "cell_type": "markdown",
   "id": "355b010b-afc1-41d3-957f-3b4673c81949",
   "metadata": {},
   "source": [
    "# Base class: Employee with method calculate_salary().\n",
    "Derived classes:\n",
    "FullTimeEmployee – uses a fixed monthly salary.\n",
    "PartTimeEmployee – calculates based on hours worked."
   ]
  },
  {
   "cell_type": "code",
   "execution_count": null,
   "id": "c8be6383-2493-441e-859f-a024f14004dd",
   "metadata": {},
   "outputs": [],
   "source": [
    "class Employee:\n",
    "    def calculate_salary(self):\n",
    "        raise NotImplementedError(\"Subclass must implement this method.\")\n",
    "class FullTimeEmployee(Employee):\n",
    "    def __init__(self, monthly_salary):\n",
    "        self.monthly_salary = monthly_salary\n",
    "    def calculate_salary(self):\n",
    "        return self.monthly_salary\n",
    "class PartTimeEmployee(Employee):\n",
    "    def __init__(self, hours_worked, hourly_rate):\n",
    "        self.hours_worked = hours_worked\n",
    "        self.hourly_rate = hourly_rate\n",
    "\n",
    "    def calculate_salary(self):\n",
    "        return self.hours_worked * self.hourly_rate\n",
    "full_time = FullTimeEmployee(50000)\n",
    "part_time = PartTimeEmployee(80, 250)\n",
    "print(f\"Full-time Employee Salary: ₹{full_time.calculate_salary()}\")\n",
    "print(f\"Part-time Employee Salary: ₹{part_time.calculate_salary()}\")\n"
   ]
  },
  {
   "cell_type": "markdown",
   "id": "73a70056-a539-4633-b5f7-a76bf6a31a2f",
   "metadata": {},
   "source": [
    "# Base class: Order with method process_order().\n",
    "Derived classes:\n",
    "OnlineOrder – overrides to include payment and shipping.\n",
    "StorePickupOrder – overrides to include in-store pickup instructions."
   ]
  },
  {
   "cell_type": "code",
   "execution_count": 1,
   "id": "0f40b6a7-2fb6-429a-8aa8-9119a48c0574",
   "metadata": {},
   "outputs": [
    {
     "name": "stdout",
     "output_type": "stream",
     "text": [
      "=== Online Order ===\n",
      "Processing online order...\n",
      "Step 1: Verify online payment.\n",
      "Step 2: Pack the items.\n",
      "Step 3: Ship the package to the delivery address.\n",
      "\n",
      "=== Store Pickup Order ===\n",
      "Processing store pickup order...\n",
      "Step 1: Verify in-store payment or reservation.\n",
      "Step 2: Prepare the order for pickup.\n",
      "Step 3: Notify customer for in-store collection.\n"
     ]
    }
   ],
   "source": [
    "class Order:\n",
    "    def process_order(self):\n",
    "        print(\"Processing the order...\")\n",
    "class OnlineOrder(Order):\n",
    "    def process_order(self):\n",
    "        print(\"Processing online order...\")\n",
    "        print(\"Step 1: Verify online payment.\")\n",
    "        print(\"Step 2: Pack the items.\")\n",
    "        print(\"Step 3: Ship the package to the delivery address.\")\n",
    "class StorePickupOrder(Order):\n",
    "    def process_order(self):\n",
    "        print(\"Processing store pickup order...\")\n",
    "        print(\"Step 1: Verify in-store payment or reservation.\")\n",
    "        print(\"Step 2: Prepare the order for pickup.\")\n",
    "        print(\"Step 3: Notify customer for in-store collection.\")\n",
    "# Example usage\n",
    "online = OnlineOrder()\n",
    "store = StorePickupOrder()\n",
    "print(\"=== Online Order ===\")\n",
    "online.process_order()\n",
    "print(\"\\n=== Store Pickup Order ===\")\n",
    "store.process_order()\n"
   ]
  },
  {
   "cell_type": "markdown",
   "id": "b0088c26-d364-4c8d-b442-d641ab27fb9e",
   "metadata": {},
   "source": [
    "# Base class: LibraryItem with method get_info().\n",
    "Derived classes:\n",
    "Book, Magazine, DVD – each overrides get_info() to return its specific details."
   ]
  },
  {
   "cell_type": "code",
   "execution_count": null,
   "id": "b5059e6b-d1da-407a-9359-8ac809038e6b",
   "metadata": {},
   "outputs": [],
   "source": [
    "class LibraryItem:\n",
    "    def __init__(self, title, author, year):\n",
    "        self.title = title\n",
    "        self.author = author\n",
    "        self.year = year\n",
    "    def get_info(self):\n",
    "        return f\"Title: {self.title}, Author: {self.author}, Year: {self.year}\"\n",
    "class Book(LibraryItem):\n",
    "    def __init__(self, title, author, year, pages):\n",
    "        super().__init__(title, author, year)\n",
    "        self.pages = pages\n",
    "    def get_info(self):\n",
    "        return f\"Book → Title: {self.title}, Author: {self.author}, Year: {self.year}, Pages: {self.pages}\"\n",
    "class Magazine(LibraryItem):\n",
    "    def __init__(self, title, author, year, issue_number):\n",
    "        super().__init__(title, author, year)\n",
    "        self.issue_number = issue_number\n",
    "    def get_info(self):\n",
    "        return f\"Magazine → Title: {self.title}, Author: {self.author}, Year: {self.year}, Issue: {self.issue_number}\"\n",
    "class DVD(LibraryItem):\n",
    "    def __init__(self, title, author, year, duration):\n",
    "        super().__init__(title, author, year)\n",
    "        self.duration = duration  # in minutes\n",
    "    def get_info(self):\n",
    "        return f\"DVD → Title: {self.title}, Director: {self.author}, Year: {self.year}, Duration: {self.duration} mins\"\n",
    "# Example usage\n",
    "book = Book(\"The Great Gatsby\", \"F. Scott Fitzgerald\", 1925, 218)\n",
    "magazine = Magazine(\"National Geographic\", \"Editorial Team\", 2023, \"June Issue\")\n",
    "dvd = DVD(\"Inception\", \"Christopher Nolan\", 2010, 148)\n",
    "\n",
    "print(book.get_info())\n",
    "print(magazine.get_info())\n",
    "print(dvd.get_info())\n"
   ]
  },
  {
   "cell_type": "markdown",
   "id": "8730ec72-451c-409e-8100-4080d9c94e40",
   "metadata": {},
   "source": [
    "# Create a class MessageSender with method send_message() that works with: A string (text message). A string and an image. A string, image, and video. Use *args and **kwargs to simulate overloading."
   ]
  },
  {
   "cell_type": "code",
   "execution_count": null,
   "id": "bf1f0be0-93d7-4bfe-bfd4-71640ac28d94",
   "metadata": {},
   "outputs": [],
   "source": [
    "class MessageSender:\n",
    "    def send_message(self, *args, **kwargs):\n",
    "        if len(args) == 1:\n",
    "            print(f\"Sending text message: {args[0]}\")\n",
    "        elif len(args) == 2:\n",
    "            print(f\"Sending text: {args[0]}\")\n",
    "            print(f\"Attaching image: {args[1]}\")\n",
    "        elif len(args) == 3:\n",
    "            print(f\"Sending text: {args[0]}\")\n",
    "            print(f\"Attaching image: {args[1]}\")\n",
    "            print(f\"Attaching video: {args[2]}\")\n",
    "        else:\n",
    "            print(\"Invalid number of arguments! Expected text, or text + image, or text + image + video.\")\n",
    "# Example usage\n",
    "sender = MessageSender()\n",
    "# 1️⃣ Text only\n",
    "sender.send_message(\"Hello!\")\n",
    "# 2️⃣ Text + Image\n",
    "sender.send_message(\"Hello!\", \"image.jpg\")\n",
    "# 3️⃣ Text + Image + Video\n",
    "sender.send_message(\"Hello!\", \"image.jpg\", \"video.mp4\")\n"
   ]
  },
  {
   "cell_type": "markdown",
   "id": "f5b154cc-ca57-40ab-8a81-d4220bcae75a",
   "metadata": {},
   "source": [
    "# Create a class Calculator with a method add.Overload add to take two integer arguments and return their sum.Overload add again to take three integer arguments and return their sum.Overload add a third time to take two float arguments and return their sum."
   ]
  },
  {
   "cell_type": "code",
   "execution_count": null,
   "id": "2edbc05c-a39a-4506-81fa-c83649e05418",
   "metadata": {},
   "outputs": [],
   "source": [
    "class Calculator:\n",
    "    def add(self, *args):\n",
    "        # Two integers\n",
    "        if len(args) == 2 and all(isinstance(a, int) for a in args):\n",
    "            return args[0] + args[1]\n",
    "                # Three integers\n",
    "        elif len(args) == 3 and all(isinstance(a, int) for a in args):\n",
    "            return args[0] + args[1] + args[2]\n",
    "                # Two floats\n",
    "        elif len(args) == 2 and all(isinstance(a, float) for a in args):\n",
    "            return args[0] + args[1]\n",
    "        else:\n",
    "            raise TypeError(\"Invalid arguments for add(). Expected two ints, three ints, or two floats.\")\n",
    "\n",
    "\n",
    "# Example usage\n",
    "calc = Calculator()\n",
    "\n",
    "print(calc.add(2, 3))           # Two integers → 5\n",
    "print(calc.add(1, 2, 3))        # Three integers → 6\n",
    "print(calc.add(2.5, 3.5))       # Two floats → 6.0\n"
   ]
  },
  {
   "cell_type": "markdown",
   "id": "d053b5bb-d9cf-48db-bb9f-51610148cce0",
   "metadata": {},
   "source": [
    "# Create a base class Vehicle with attributes make, model, and year. Include a method display_info() that prints these details.Create a subclass Car that inherits from Vehicle.Add a new attribute num_doors specific to the Car class.Override the display_info() method in Car to also print the number of doors.Create an instance of Car and call display_info().Create a second subclass Motorcycle that also inherits from Vehicle and adds a new attribute has_sidecar.Override display_info() in Motorcycle to print the new attribute as well.\n"
   ]
  },
  {
   "cell_type": "code",
   "execution_count": 6,
   "id": "0b8e01e6-9da6-46fe-aade-361a6ef6a3d0",
   "metadata": {},
   "outputs": [
    {
     "name": "stdout",
     "output_type": "stream",
     "text": [
      "=== Car Details ===\n",
      "Vehicle Info → 2022 Toyota Camry\n",
      "Number of doors: 4\n",
      "\n",
      "=== Motorcycle Details ===\n",
      "Vehicle Info → 2020 Harley-Davidson Street 750\n",
      "Has sidecar: Yes\n"
     ]
    }
   ],
   "source": [
    "# Base class\n",
    "class Vehicle:\n",
    "    def __init__(self, make, model, year):\n",
    "        self.make = make\n",
    "        self.model = model\n",
    "        self.year = year\n",
    "\n",
    "    def display_info(self):\n",
    "        print(f\"Vehicle Info → {self.year} {self.make} {self.model}\")\n",
    "\n",
    "# Subclass 1: Car\n",
    "class Car(Vehicle):\n",
    "    def __init__(self, make, model, year, num_doors):\n",
    "        # Call base class constructor\n",
    "        super().__init__(make, model, year)\n",
    "        self.num_doors = num_doors\n",
    "    # Override display_info\n",
    "    def display_info(self):\n",
    "        super().display_info()  # Call parent method\n",
    "        print(f\"Number of doors: {self.num_doors}\")\n",
    "# Subclass 2: Motorcycle\n",
    "class Motorcycle(Vehicle):\n",
    "    def __init__(self, make, model, year, has_sidecar):\n",
    "        # Call base class constructor\n",
    "        super().__init__(make, model, year)\n",
    "        self.has_sidecar = has_sidecar\n",
    "\n",
    "    # Override display_info\n",
    "    def display_info(self):\n",
    "        super().display_info()\n",
    "        print(f\"Has sidecar: {'Yes' if self.has_sidecar else 'No'}\")\n",
    "# Example usage\n",
    "car1 = Car(\"Toyota\", \"Camry\", 2022, 4)\n",
    "motorcycle1 = Motorcycle(\"Harley-Davidson\", \"Street 750\", 2020, True)\n",
    "\n",
    "print(\"=== Car Details ===\")\n",
    "car1.display_info()\n",
    "\n",
    "print(\"\\n=== Motorcycle Details ===\")\n",
    "motorcycle1.display_info()\n"
   ]
  },
  {
   "cell_type": "markdown",
   "id": "7cae2b3f-e046-4238-9c1b-3da76550a705",
   "metadata": {},
   "source": [
    "# Create a subclass Car that inherits from Vehicle.\n",
    "Car's __init__ should take make, model, year, and an additional attribute num_doors.\n",
    "Use super() to call the Vehicle's __init__ to handle the inherited attributes.\n",
    "Override the get_info() method to also include the number of doors. Use super() to call the parent's get_info() and append the new information.\n"
   ]
  },
  {
   "cell_type": "markdown",
   "id": "b33df87d-215e-4e78-85da-d7abc05b5175",
   "metadata": {},
   "source": [
    "# Create a class Product with __init__ for name and price. Implement __str__ to return a user-friendly product description. Create a subclass DigitalProduct that inherits from Product and adds a download_link attribute. Override __str__ to include the download link."
   ]
  },
  {
   "cell_type": "markdown",
   "id": "c10f3c8f-6afe-4d86-9568-8e7cbdf5721d",
   "metadata": {},
   "source": [
    "# Create a class LibraryItem with __init__ for title and author. Create a subclass Book that inherits from LibraryItem and adds isbn. Override a method called display_details() to show all details. Create a second subclass DVD that inherits from LibraryItem and adds runtime. Override display_details() to show its specific details."
   ]
  },
  {
   "cell_type": "markdown",
   "id": "38c975c0-8baf-43c0-8d30-2506cab37e53",
   "metadata": {},
   "source": [
    "# Create a base class Media with __init__ for title and duration. Implement an __str__ method. Create a subclass Movie that inherits from Media and adds director. Override __str__ to include the director. Create a second subclass Song that inherits from Media and adds artist. Override __str__ to include the artist. "
   ]
  }
 ],
 "metadata": {
  "kernelspec": {
   "display_name": "Python 3 (ipykernel)",
   "language": "python",
   "name": "python3"
  },
  "language_info": {
   "codemirror_mode": {
    "name": "ipython",
    "version": 3
   },
   "file_extension": ".py",
   "mimetype": "text/x-python",
   "name": "python",
   "nbconvert_exporter": "python",
   "pygments_lexer": "ipython3",
   "version": "3.13.8"
  }
 },
 "nbformat": 4,
 "nbformat_minor": 5
}
