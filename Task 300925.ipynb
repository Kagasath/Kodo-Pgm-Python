{
 "cells": [
  {
   "cell_type": "markdown",
   "id": "1064d204-318b-437b-be57-2b2e1df2849d",
   "metadata": {},
   "source": [
    "# Inheritance"
   ]
  },
  {
   "cell_type": "code",
   "execution_count": 21,
   "id": "157f013e-4827-4b89-b59c-792f159606a9",
   "metadata": {},
   "outputs": [
    {
     "name": "stdout",
     "output_type": "stream",
     "text": [
      "Buddy\n",
      "Some generic sound\n"
     ]
    }
   ],
   "source": [
    "# Single Inheritance\n",
    "class Creature:\n",
    "    def __init__(self, title):\n",
    "        self.name = title\n",
    "\n",
    "    def produce_sound(self):\n",
    "        return \"Some generic sound\"\n",
    "\n",
    "# Subclass inheriting from Creature\n",
    "\n",
    "class Canine(Creature):\n",
    "    def produce_sound(self):  # Overrides the method from Creature class\n",
    "        return \"Bark Bark\"\n",
    "        \n",
    "p1=Creature(\"Lion\")\n",
    "p1.name #prints Lion\n",
    "pet = Canine(\"Buddy\")\n",
    "print(pet.name) \n",
    "print(super(Canine,pet).produce_sound())  "
   ]
  },
  {
   "cell_type": "code",
   "execution_count": 25,
   "id": "1b90f256-79aa-44ac-87f9-399df3f8d6b1",
   "metadata": {},
   "outputs": [
    {
     "data": {
      "text/plain": [
       "'Some generic sound'"
      ]
     },
     "execution_count": 25,
     "metadata": {},
     "output_type": "execute_result"
    }
   ],
   "source": [
    "# Single Inheritance\n",
    "class Creature:\n",
    "    def __init__(self, title):\n",
    "        self.name = title\n",
    "\n",
    "    def produce_sound(self):\n",
    "        return \"Some generic sound\"\n",
    "\n",
    "# Subclass inheriting from Creature\n",
    "\n",
    "class Canine(Creature):\n",
    "    def produce_sound(self):  # Overrides the method from Creature class\n",
    "        return \"Bark Bark\"\n",
    "    def parent_sound(self):\n",
    "        parent_sound = super().produce_sound() #accesing super class function\n",
    "        return parent_sound\n",
    "pet = Canine(\"Buddy\")\n",
    "pet.produce_sound()\n",
    "pet.parent_sound()\n"
   ]
  },
  {
   "cell_type": "code",
   "execution_count": 40,
   "id": "3541e6df-18a2-441c-85a2-7ba3157725e3",
   "metadata": {},
   "outputs": [
    {
     "name": "stdout",
     "output_type": "stream",
     "text": [
      "I have a fur\n",
      "I have a fur\n"
     ]
    },
    {
     "data": {
      "text/plain": [
       "'Produces distinct sounds'"
      ]
     },
     "execution_count": 40,
     "metadata": {},
     "output_type": "execute_result"
    }
   ],
   "source": [
    "#Multiple Inheritance\n",
    "class FurryAnimal:\n",
    "    def fur_type(self):\n",
    "        return \"Has a coat of fur\"\n",
    "\n",
    "class VocalCreature:\n",
    "    def sound_type(self):\n",
    "        return \"Produces distinct sounds\"\n",
    "\n",
    "class HybridAnimal(FurryAnimal, VocalCreature):\n",
    "    def fur_type(self):\n",
    "        print(\"I have a fur\")\n",
    "    def sound_type(self):\n",
    "        return super().sound_type() #accessing using super\n",
    "   \n",
    "\n",
    "creature = HybridAnimal()\n",
    "creature.fur_type()# Output: Has a coat of fur\n",
    "creature.sound_type() \n",
    "creature.fur_type()\n",
    "creature.sound_type()\n",
    "#print(super(HybridAnimal,creature).sound_type()) #accesing method of base class\n"
   ]
  },
  {
   "cell_type": "code",
   "execution_count": 44,
   "id": "943e78f0-5e79-4cad-b37d-07d6a46e09a8",
   "metadata": {},
   "outputs": [
    {
     "name": "stdout",
     "output_type": "stream",
     "text": [
      "division: 3.3333333333333335\n",
      "mod_division: 1\n",
      "divmod: (3.3333333333333335, 1)\n"
     ]
    },
    {
     "data": {
      "text/plain": [
       "[__main__.div_mod, __main__.division, __main__.modulus, object]"
      ]
     },
     "execution_count": 44,
     "metadata": {},
     "output_type": "execute_result"
    }
   ],
   "source": [
    "#Multiple Inheritance without using super\n",
    "class division:\n",
    "   def __init__(self, a,b):\n",
    "      self.n=a\n",
    "      self.d=b\n",
    "   def divide(self):\n",
    "      return self.n/self.d\n",
    "class modulus:\n",
    "   def __init__(self, a,b):\n",
    "      self.n=a\n",
    "      self.d=b\n",
    "   def mod_divide(self):\n",
    "      return self.n%self.d      \n",
    "class div_mod(division,modulus):\n",
    "   def __init__(self, a,b):\n",
    "      self.n=a\n",
    "      self.d=b\n",
    "   def div_and_mod(self):\n",
    "      divval=division.divide(self) #instead of using super using the base class name\n",
    "      modval=modulus.mod_divide(self) #instead of using super using the base class name\n",
    "      return (divval, modval)\n",
    "x=div_mod(10,3)\n",
    "print (\"division:\",x.divide())\n",
    "print (\"mod_division:\",x.mod_divide())\n",
    "print (\"divmod:\",x.div_and_mod())\n",
    "div_mod.mro() #using method resoultion order\n",
    "div_mod.__mro__#using method resoultion order"
   ]
  },
  {
   "cell_type": "code",
   "execution_count": 46,
   "id": "7efad65b-6206-4c45-9da4-3075ba174d90",
   "metadata": {},
   "outputs": [
    {
     "name": "stdout",
     "output_type": "stream",
     "text": [
      "I am in the Universe\n",
      "I am on Earth\n",
      "I am in India\n"
     ]
    }
   ],
   "source": [
    "# Multi level inheritance\n",
    "class Universe: \n",
    "   def universeMethod(self):\n",
    "      print (\"I am in the Universe\")\n",
    "\n",
    "# child class\n",
    "class Earth(Universe): \n",
    "   def earthMethod(self):\n",
    "      print (\"I am on Earth\")\n",
    "      \n",
    "# another child class\n",
    "class India(Earth): \n",
    "   def indiaMethod(self):\n",
    "      print (\"I am in India\")      \n",
    "\n",
    "# creating instance \n",
    "person = India()  \n",
    "# method calls\n",
    "person.universeMethod() \n",
    "person.earthMethod() \n",
    "person.indiaMethod() "
   ]
  },
  {
   "cell_type": "code",
   "execution_count": 47,
   "id": "00a62ac4-5705-423c-95fe-fd7f53ddde19",
   "metadata": {},
   "outputs": [
    {
     "name": "stdout",
     "output_type": "stream",
     "text": [
      "I am the Manager\n",
      "I am Employee one\n",
      "I am the Manager\n",
      "I am Employee two\n"
     ]
    }
   ],
   "source": [
    "#Heirarichal Inheritance\n",
    "class Manager: \n",
    "   def managerMethod(self):\n",
    "      print (\"I am the Manager\")\n",
    "\n",
    "# child class\n",
    "class Employee1(Manager): \n",
    "   def employee1Method(self):\n",
    "      print (\"I am Employee one\")\n",
    "      \n",
    "# second child class\n",
    "class Employee2(Manager): \n",
    "   def employee2Method(self):\n",
    "      print (\"I am Employee two\")      \n",
    "\n",
    "# creating instances \n",
    "emp1 = Employee1()  \n",
    "emp2 = Employee2()\n",
    "# method calls\n",
    "emp1.managerMethod() \n",
    "emp1.employee1Method()\n",
    "emp2.managerMethod() \n",
    "emp2.employee2Method()  "
   ]
  },
  {
   "cell_type": "code",
   "execution_count": 80,
   "id": "faa9d3cf-673b-498d-87fe-71b747fa9156",
   "metadata": {},
   "outputs": [
    {
     "name": "stdout",
     "output_type": "stream",
     "text": [
      "I am Employee one\n",
      "My salary is 150000\n",
      "I am the Manager\n",
      "My salary is 150000\n",
      "I am the Manager\n",
      "My salary is 250000\n",
      "I am the Staff\n",
      "I am Employee two\n",
      "My salary is 250000\n"
     ]
    }
   ],
   "source": [
    "#Hybrid Inheritance\n",
    "class Staff: \n",
    "    def __init__(self):\n",
    "        pass\n",
    "    def StaffMethod(self):\n",
    "        print (\"I am the Staff\")     \n",
    "class Manager(Staff): \n",
    "    def __init__(self,salary):\n",
    "        self.salary=salary\n",
    "    def managerMethod(self):\n",
    "        print (\"I am the Manager\")\n",
    "        print(\"My salary is\",self.salary)        \n",
    "class Employee1(Manager): \n",
    "    def employee1Method(self):\n",
    "        print (\"I am Employee one\")\n",
    "        print(\"My salary is\",self.salary)\n",
    "class Employee2(Manager, Staff):\n",
    "    def __init__(self,salary):\n",
    "        super().__init__(salary)\n",
    "    def employee2Method(self):\n",
    "        #super().managerMethod(salary)\n",
    "        print (\"I am Employee two\")\n",
    "        print(\"My salary is\",self.salary)           \n",
    "# creating instances \n",
    "emp = Employee2(250000)\n",
    "em= Employee1(150000)\n",
    "# method calls\n",
    "em.employee1Method()\n",
    "em.managerMethod()\n",
    "emp.managerMethod() \n",
    "emp.StaffMethod()\n",
    "emp.employee2Method()"
   ]
  },
  {
   "cell_type": "markdown",
   "id": "f3952c7e-2740-4068-9edd-63a47732c292",
   "metadata": {},
   "source": [
    "# Transportation System\n",
    "Base class: Transport with method move().\n",
    "Derived classes:\n",
    "Car – overrides move() to say “Driving on road.”\n",
    "Boat – overrides move() to say “Sailing on water.”"
   ]
  },
  {
   "cell_type": "code",
   "execution_count": 4,
   "id": "80af6b73-05f6-4524-960d-abd3174f5b35",
   "metadata": {},
   "outputs": [
    {
     "ename": "TypeError",
     "evalue": "Car.move() takes 0 positional arguments but 1 was given",
     "output_type": "error",
     "traceback": [
      "\u001b[31m---------------------------------------------------------------------------\u001b[39m",
      "\u001b[31mTypeError\u001b[39m                                 Traceback (most recent call last)",
      "\u001b[36mCell\u001b[39m\u001b[36m \u001b[39m\u001b[32mIn[4]\u001b[39m\u001b[32m, line 12\u001b[39m\n\u001b[32m     10\u001b[39m c=Car()\n\u001b[32m     11\u001b[39m b=Boat()\n\u001b[32m---> \u001b[39m\u001b[32m12\u001b[39m \u001b[43mc\u001b[49m\u001b[43m.\u001b[49m\u001b[43mmove\u001b[49m\u001b[43m(\u001b[49m\u001b[43m)\u001b[49m\n\u001b[32m     13\u001b[39m b.move()\n",
      "\u001b[31mTypeError\u001b[39m: Car.move() takes 0 positional arguments but 1 was given"
     ]
    }
   ],
   "source": [
    "class Transport:\n",
    "    def move(self):\n",
    "        print(\"Different modes of travel\")\n",
    "class Car(Transport):\n",
    "    def move():\n",
    "        print(\"Driving on the road\")\n",
    "class Boat(Transport):\n",
    "    def move():\n",
    "        print(\"Sailing on water\")\n",
    "c=Car()\n",
    "b=Boat()\n",
    "c.move()\n",
    "b.move()\n"
   ]
  },
  {
   "cell_type": "markdown",
   "id": "355b010b-afc1-41d3-957f-3b4673c81949",
   "metadata": {},
   "source": [
    "# Base class: Employee with method calculate_salary().\n",
    "Derived classes:\n",
    "FullTimeEmployee – uses a fixed monthly salary.\n",
    "PartTimeEmployee – calculates based on hours worked."
   ]
  },
  {
   "cell_type": "markdown",
   "id": "73a70056-a539-4633-b5f7-a76bf6a31a2f",
   "metadata": {},
   "source": [
    "# Base class: Order with method process_order().\n",
    "Derived classes:\n",
    "OnlineOrder – overrides to include payment and shipping.\n",
    "StorePickupOrder – overrides to include in-store pickup instructions."
   ]
  },
  {
   "cell_type": "markdown",
   "id": "b0088c26-d364-4c8d-b442-d641ab27fb9e",
   "metadata": {},
   "source": [
    "# Base class: LibraryItem with method get_info().\n",
    "Derived classes:\n",
    "Book, Magazine, DVD – each overrides get_info() to return its specific details."
   ]
  },
  {
   "cell_type": "markdown",
   "id": "8730ec72-451c-409e-8100-4080d9c94e40",
   "metadata": {},
   "source": [
    "# Create a class MessageSender with method send_message() that works with: A string (text message). A string and an image. A string, image, and video. Use *args and **kwargs to simulate overloading."
   ]
  },
  {
   "cell_type": "markdown",
   "id": "f5b154cc-ca57-40ab-8a81-d4220bcae75a",
   "metadata": {},
   "source": [
    "# Create a class Calculator with a method add.Overload add to take two integer arguments and return their sum.Overload add again to take three integer arguments and return their sum.Overload add a third time to take two float arguments and return their sum."
   ]
  },
  {
   "cell_type": "markdown",
   "id": "d053b5bb-d9cf-48db-bb9f-51610148cce0",
   "metadata": {},
   "source": [
    "# Create a base class Vehicle with attributes make, model, and year. Include a method display_info() that prints these details.Create a subclass Car that inherits from Vehicle.Add a new attribute num_doors specific to the Car class.Override the display_info() method in Car to also print the number of doors.Create an instance of Car and call display_info().Create a second subclass Motorcycle that also inherits from Vehicle and adds a new attribute has_sidecar.Override display_info() in Motorcycle to print the new attribute as well.\n"
   ]
  },
  {
   "cell_type": "markdown",
   "id": "7cae2b3f-e046-4238-9c1b-3da76550a705",
   "metadata": {},
   "source": [
    "# Create a subclass Car that inherits from Vehicle.\n",
    "Car's __init__ should take make, model, year, and an additional attribute num_doors.\n",
    "Use super() to call the Vehicle's __init__ to handle the inherited attributes.\n",
    "Override the get_info() method to also include the number of doors. Use super() to call the parent's get_info() and append the new information.\n"
   ]
  },
  {
   "cell_type": "markdown",
   "id": "b33df87d-215e-4e78-85da-d7abc05b5175",
   "metadata": {},
   "source": [
    "# Create a class Product with __init__ for name and price. Implement __str__ to return a user-friendly product description. Create a subclass DigitalProduct that inherits from Product and adds a download_link attribute. Override __str__ to include the download link."
   ]
  },
  {
   "cell_type": "markdown",
   "id": "c10f3c8f-6afe-4d86-9568-8e7cbdf5721d",
   "metadata": {},
   "source": [
    "# Create a class LibraryItem with __init__ for title and author. Create a subclass Book that inherits from LibraryItem and adds isbn. Override a method called display_details() to show all details. Create a second subclass DVD that inherits from LibraryItem and adds runtime. Override display_details() to show its specific details."
   ]
  },
  {
   "cell_type": "markdown",
   "id": "38c975c0-8baf-43c0-8d30-2506cab37e53",
   "metadata": {},
   "source": [
    "# Create a base class Media with __init__ for title and duration. Implement an __str__ method. Create a subclass Movie that inherits from Media and adds director. Override __str__ to include the director. Create a second subclass Song that inherits from Media and adds artist. Override __str__ to include the artist. "
   ]
  }
 ],
 "metadata": {
  "kernelspec": {
   "display_name": "Python 3 (ipykernel)",
   "language": "python",
   "name": "python3"
  },
  "language_info": {
   "codemirror_mode": {
    "name": "ipython",
    "version": 3
   },
   "file_extension": ".py",
   "mimetype": "text/x-python",
   "name": "python",
   "nbconvert_exporter": "python",
   "pygments_lexer": "ipython3",
   "version": "3.13.7"
  }
 },
 "nbformat": 4,
 "nbformat_minor": 5
}
