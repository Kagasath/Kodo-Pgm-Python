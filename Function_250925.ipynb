{
 "cells": [
  {
   "cell_type": "code",
   "execution_count": 4,
   "id": "edaa5f1f-ab7b-4947-a80e-6f295d99d90d",
   "metadata": {},
   "outputs": [
    {
     "name": "stdout",
     "output_type": "stream",
     "text": [
      "add\n"
     ]
    },
    {
     "data": {
      "text/plain": [
       "11"
      ]
     },
     "execution_count": 4,
     "metadata": {},
     "output_type": "execute_result"
    }
   ],
   "source": [
    "#1\n",
    "def sum():\n",
    "    act=\"add\"\n",
    "    return act\n",
    "sum()\n",
    "#2\n",
    "def sum():\n",
    "    print(\"add\")\n",
    "sum()\n",
    "#3\n",
    "def sum(a,b):\n",
    "    act=\"add\"\n",
    "    c=a+b\n",
    "    return c\n",
    "sum(4,5)\n",
    "#4\n",
    "def sum(a,b):\n",
    "    act=\"add\"\n",
    "    c=a+b\n",
    "    return c\n",
    "a=5\n",
    "b=6\n",
    "sum(a,b)\n",
    "\n"
   ]
  },
  {
   "cell_type": "code",
   "execution_count": 5,
   "id": "034c4503-f8d3-4165-ab91-eb8b5ab406c8",
   "metadata": {},
   "outputs": [
    {
     "name": "stdout",
     "output_type": "stream",
     "text": [
      "my name is jjj\n",
      "new function\n",
      "my name is('jjj', 88)\n",
      "new function\n"
     ]
    },
    {
     "ename": "AttributeError",
     "evalue": "'dict' object has no attribute 'newfunction2'",
     "output_type": "error",
     "traceback": [
      "\u001b[31m---------------------------------------------------------------------------\u001b[39m",
      "\u001b[31mAttributeError\u001b[39m                            Traceback (most recent call last)",
      "\u001b[36mCell\u001b[39m\u001b[36m \u001b[39m\u001b[32mIn[5]\u001b[39m\u001b[32m, line 16\u001b[39m\n\u001b[32m     14\u001b[39m     \u001b[38;5;28mprint\u001b[39m(\u001b[33m\"\u001b[39m\u001b[33mnew function\u001b[39m\u001b[33m\"\u001b[39m) \n\u001b[32m     15\u001b[39m dict1={\u001b[33m\"\u001b[39m\u001b[33mpresent\u001b[39m\u001b[33m\"\u001b[39m:\u001b[32m12\u001b[39m,\u001b[33m\"\u001b[39m\u001b[33mabsent\u001b[39m\u001b[33m\"\u001b[39m:\u001b[32m1\u001b[39m}\n\u001b[32m---> \u001b[39m\u001b[32m16\u001b[39m \u001b[43mdict1\u001b[49m\u001b[43m.\u001b[49m\u001b[43mnewfunction2\u001b[49m()\n",
      "\u001b[31mAttributeError\u001b[39m: 'dict' object has no attribute 'newfunction2'"
     ]
    }
   ],
   "source": [
    "#non-keyword args*\n",
    "#keyword args** - dictionary\n",
    "#name=\"ggg\"\n",
    "def newfunction(*name):\n",
    "    print(f'my name is {name[0]}')\n",
    "    print(\"new function\")\n",
    "newfunction(\"jjj\",88)\n",
    "def newfunction1(*name):\n",
    "    print(f'my name is{name}')\n",
    "    print(\"new function\")\n",
    "newfunction1(\"jjj\",88)\n",
    "def newfunction2(**name):\n",
    "    print(f'toadys attendance',present)\n",
    "    print(\"new function\") \n",
    "dict1={\"present\":12,\"absent\":1}\n",
    "newfunction2(dict1)\n",
    "\n"
   ]
  },
  {
   "cell_type": "code",
   "execution_count": null,
   "id": "7c5e4cd9-2051-4d95-b3de-beaa208009de",
   "metadata": {},
   "outputs": [],
   "source": []
  }
 ],
 "metadata": {
  "kernelspec": {
   "display_name": "Python 3 (ipykernel)",
   "language": "python",
   "name": "python3"
  },
  "language_info": {
   "codemirror_mode": {
    "name": "ipython",
    "version": 3
   },
   "file_extension": ".py",
   "mimetype": "text/x-python",
   "name": "python",
   "nbconvert_exporter": "python",
   "pygments_lexer": "ipython3",
   "version": "3.13.8"
  }
 },
 "nbformat": 4,
 "nbformat_minor": 5
}
