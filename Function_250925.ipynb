{
 "cells": [
  {
   "cell_type": "code",
   "execution_count": 4,
   "id": "edaa5f1f-ab7b-4947-a80e-6f295d99d90d",
   "metadata": {},
   "outputs": [
    {
     "name": "stdout",
     "output_type": "stream",
     "text": [
      "add\n"
     ]
    },
    {
     "data": {
      "text/plain": [
       "11"
      ]
     },
     "execution_count": 4,
     "metadata": {},
     "output_type": "execute_result"
    }
   ],
   "source": [
    "#1\n",
    "def sum():\n",
    "    act=\"add\"\n",
    "    return act\n",
    "sum()\n",
    "#2\n",
    "def sum():\n",
    "    print(\"add\")\n",
    "sum()\n",
    "#3\n",
    "def sum(a,b):\n",
    "    act=\"add\"\n",
    "    c=a+b\n",
    "    return c\n",
    "sum(4,5)\n",
    "#4\n",
    "def sum(a,b):\n",
    "    act=\"add\"\n",
    "    c=a+b\n",
    "    return c\n",
    "a=5\n",
    "b=6\n",
    "sum(a,b)\n",
    "\n"
   ]
  },
  {
   "cell_type": "code",
   "execution_count": 20,
   "id": "034c4503-f8d3-4165-ab91-eb8b5ab406c8",
   "metadata": {},
   "outputs": [
    {
     "name": "stdout",
     "output_type": "stream",
     "text": [
      "my name is jjj\n",
      "new function\n",
      "my name is ('jjj', 88)\n",
      "new function\n"
     ]
    }
   ],
   "source": [
    "#non-keyword args*\n",
    "#keyword args** - dictionary\n",
    "#name=\"ggg\"\n",
    "def newfunction(*name):\n",
    "    print(f'my name is {name[0]}')\n",
    "    print(\"new function\")\n",
    "newfunction(\"jjj\",88)\n",
    "#\n",
    "def newfunction(*name):\n",
    "    print(f'my name is {name}')\n",
    "    print(\"new function\")\n",
    "newfunction(\"jjj\",88)\n",
    "\n"
   ]
  },
  {
   "cell_type": "code",
   "execution_count": null,
   "id": "7c5e4cd9-2051-4d95-b3de-beaa208009de",
   "metadata": {},
   "outputs": [],
   "source": []
  }
 ],
 "metadata": {
  "kernelspec": {
   "display_name": "Python 3 (ipykernel)",
   "language": "python",
   "name": "python3"
  },
  "language_info": {
   "codemirror_mode": {
    "name": "ipython",
    "version": 3
   },
   "file_extension": ".py",
   "mimetype": "text/x-python",
   "name": "python",
   "nbconvert_exporter": "python",
   "pygments_lexer": "ipython3",
   "version": "3.13.7"
  }
 },
 "nbformat": 4,
 "nbformat_minor": 5
}
