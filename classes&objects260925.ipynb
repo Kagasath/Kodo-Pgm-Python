{
 "cells": [
  {
   "cell_type": "code",
   "execution_count": 22,
   "id": "f62422d3-0c39-41c8-a897-8f8e5ed3c5c0",
   "metadata": {},
   "outputs": [
    {
     "name": "stdout",
     "output_type": "stream",
     "text": [
      "([12, 1],)\n",
      "No of present,12\n",
      "No of absent,1\n"
     ]
    }
   ],
   "source": [
    "# def attendance(*a):\n",
    "#     print(a)\n",
    "#     print(\"No of present\",a[0])\n",
    "#     print(\"No of absent\",a[1])\n",
    "# attendance(12,1)\n",
    "\n",
    "l=[12,1]\n",
    "def attendance1(*a):\n",
    "    print(a)\n",
    "    print(f\"No of present,{a[0][0]}\")\n",
    "    print(f\"No of absent,{a[0][1]}\")\n",
    "attendance1(l)\n",
    "\n"
   ]
  },
  {
   "cell_type": "code",
   "execution_count": 18,
   "id": "9dd22726-9bc5-4020-95bf-bff5779f43fe",
   "metadata": {},
   "outputs": [
    {
     "name": "stdout",
     "output_type": "stream",
     "text": [
      "present\n",
      "absent\n",
      "present 11\n",
      "absent 1\n"
     ]
    }
   ],
   "source": [
    "dic={\"present\":11,\"absent\":1}\n",
    "def attendance(**a):\n",
    "    for i,j in a.items():\n",
    "         print(i)\n",
    "    print(\"present\",a[\"present\"])\n",
    "    print(\"absent\",a[\"absent\"])\n",
    "attendance(**dic)"
   ]
  },
  {
   "cell_type": "code",
   "execution_count": 1,
   "id": "bacf2213-5f60-44c9-b2b0-d3951a0cba23",
   "metadata": {},
   "outputs": [
    {
     "name": "stdout",
     "output_type": "stream",
     "text": [
      "bowbow\n",
      "sleeps well\n"
     ]
    }
   ],
   "source": [
    "class Dog:\n",
    "    def bark(self):\n",
    "        print(\"bowbow\")\n",
    "    def sleep(self):\n",
    "        print(\"sleeps well\")\n",
    "dog1 = Dog()\n",
    "dog1.bark()\n",
    "dog1.sleep()"
   ]
  },
  {
   "cell_type": "code",
   "execution_count": 2,
   "id": "4c96cb84-9c92-4037-bb38-ef8a395dbeab",
   "metadata": {},
   "outputs": [
    {
     "name": "stdout",
     "output_type": "stream",
     "text": [
      "Name:Raji\n"
     ]
    }
   ],
   "source": [
    "class Employee:\n",
    "    def __init__(self):\n",
    "        self.name=\"Raji\"\n",
    "        self.age=\"23\"\n",
    "e1=Employee()\n",
    "print(\"Name:{}\".format(e1.name))\n",
    "print(\"Age:{}\".format(e1.age))"
   ]
  },
  {
   "cell_type": "code",
   "execution_count": 3,
   "id": "ee06ac44-88a9-43a9-bab3-a30bc2ba10d9",
   "metadata": {},
   "outputs": [
    {
     "name": "stdout",
     "output_type": "stream",
     "text": [
      "Name:Raji\n",
      "Name:XX\n",
      "Age:25\n",
      "Age:25\n"
     ]
    }
   ],
   "source": [
    "class Employee:\n",
    "    def __init__(self,name,age):\n",
    "        self.name=name\n",
    "        self.age=age\n",
    "e1=Employee(\"Raji\",24)\n",
    "e2=Employee(\"XX\",25)\n",
    "print(\"Name:{}\".format(e1.name))\n",
    "print(\"Name:{}\".format(e2.name))\n",
    "print(\"Age:{}\".format(e1.age))\n",
    "print(\"Age:{}\".format(e2.age))\n"
   ]
  },
  {
   "cell_type": "code",
   "execution_count": 4,
   "id": "ab0e84ca-886e-4e91-8371-7c59813c2fd8",
   "metadata": {},
   "outputs": [
    {
     "name": "stdout",
     "output_type": "stream",
     "text": [
      "Salary:7000\n"
     ]
    }
   ],
   "source": [
    "e1.salary=7000 #direct assignment of attributes to the class\n",
    "print(\"Salary:{}\".format(e1.salary))\n",
    "e1.name='xyz'\n",
    "del e1.salary #deleting attribute"
   ]
  },
  {
   "cell_type": "code",
   "execution_count": 5,
   "id": "d10f1273-ed20-4953-b7be-aee2a934d9ad",
   "metadata": {},
   "outputs": [
    {
     "name": "stdout",
     "output_type": "stream",
     "text": [
      "True\n",
      "xyz\n",
      "None\n",
      "None\n"
     ]
    }
   ],
   "source": [
    "print(hasattr(e1,'salary'))\n",
    "print(getattr(e1,'name'))\n",
    "print(setattr(e1,'salary',7000))\n",
    "print(delattr(e1,'age'))"
   ]
  },
  {
   "cell_type": "code",
   "execution_count": null,
   "id": "b197c338-35b1-49e1-a3fe-14179119f37d",
   "metadata": {},
   "outputs": [],
   "source": []
  }
 ],
 "metadata": {
  "kernelspec": {
   "display_name": "Python 3 (ipykernel)",
   "language": "python",
   "name": "python3"
  },
  "language_info": {
   "codemirror_mode": {
    "name": "ipython",
    "version": 3
   },
   "file_extension": ".py",
   "mimetype": "text/x-python",
   "name": "python",
   "nbconvert_exporter": "python",
   "pygments_lexer": "ipython3",
   "version": "3.13.8"
  }
 },
 "nbformat": 4,
 "nbformat_minor": 5
}
