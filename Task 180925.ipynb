{
 "cells": [
  {
   "cell_type": "markdown",
   "id": "c982561f-9e7c-44b0-a5c0-94584cf31585",
   "metadata": {},
   "source": [
    "## Print all even numbers 0-50 using for"
   ]
  },
  {
   "cell_type": "code",
   "execution_count": 1,
   "id": "19548e26-e3f5-4889-84db-1c419c190bc7",
   "metadata": {},
   "outputs": [
    {
     "name": "stdout",
     "output_type": "stream",
     "text": [
      "0\n",
      "2\n",
      "4\n",
      "6\n",
      "8\n",
      "10\n",
      "12\n",
      "14\n",
      "16\n",
      "18\n",
      "20\n",
      "22\n",
      "24\n",
      "26\n",
      "28\n",
      "30\n",
      "32\n",
      "34\n",
      "36\n",
      "38\n",
      "40\n",
      "42\n",
      "44\n",
      "46\n",
      "48\n"
     ]
    }
   ],
   "source": [
    "for i in range(50):\n",
    "    if i%2==0:\n",
    "        print(i)\n",
    "    continue"
   ]
  },
  {
   "cell_type": "markdown",
   "id": "467794f3-094b-4e40-971c-b9bde4dcadec",
   "metadata": {},
   "source": [
    "## Print the multiplication table of a given number (say 7) using a while loop."
   ]
  },
  {
   "cell_type": "code",
   "execution_count": 4,
   "id": "b49d167a-740f-4f55-90c6-a17569f146a6",
   "metadata": {},
   "outputs": [
    {
     "name": "stdin",
     "output_type": "stream",
     "text": [
      "Enter the required table: 6\n"
     ]
    },
    {
     "name": "stdout",
     "output_type": "stream",
     "text": [
      "6*1 = 6\n",
      "6*2 = 12\n",
      "6*3 = 18\n",
      "6*4 = 24\n",
      "6*5 = 30\n",
      "6*6 = 36\n",
      "6*7 = 42\n",
      "6*8 = 48\n",
      "6*9 = 54\n",
      "6*10 = 60\n"
     ]
    }
   ],
   "source": [
    "n=1\n",
    "i=int(input(\"Enter the required table:\"))\n",
    "while(i>0 and n<=10):\n",
    "    b=i*n\n",
    "    print(f\"{i}*{n} = {b}\")\n",
    "    n+=1\n",
    "\n",
    "        \n"
   ]
  },
  {
   "cell_type": "markdown",
   "id": "d294fbd2-1fe8-470a-af38-8136c0d040e2",
   "metadata": {},
   "source": [
    "# Write a program to calculate the sum of digits of a given number using a while loop.\n",
    "\n"
   ]
  },
  {
   "cell_type": "code",
   "execution_count": 1,
   "id": "54c7d57e-91a1-4067-a662-df2753f63bde",
   "metadata": {},
   "outputs": [
    {
     "name": "stdin",
     "output_type": "stream",
     "text": [
      "Enter a number:  56\n"
     ]
    },
    {
     "name": "stdout",
     "output_type": "stream",
     "text": [
      "Sum of digits: 11\n"
     ]
    }
   ],
   "source": [
    "n = int(input(\"Enter a number: \"))\n",
    "s = 0\n",
    "while n > 0:\n",
    "    d=n%10      \n",
    "    s+=d\n",
    "    n=n//10     \n",
    "print(\"Sum of digits:\",s)"
   ]
  },
  {
   "cell_type": "code",
   "execution_count": null,
   "id": "61917aeb-e64f-4885-8117-2ad5263de98a",
   "metadata": {},
   "outputs": [],
   "source": [
    "k= input(\"Enter the number:\")\n",
    "print(type(k))\n",
    "sum=0\n",
    "for i in k:\n",
    "    b=int(i)\n",
    "    c=sum+b\n",
    "    sum=c\n",
    "print(c)"
   ]
  },
  {
   "cell_type": "code",
   "execution_count": 7,
   "id": "dcb5718c-27ce-43ad-b68b-b2f36462724a",
   "metadata": {},
   "outputs": [
    {
     "name": "stdin",
     "output_type": "stream",
     "text": [
      "Enter the number: 4\n"
     ]
    },
    {
     "name": "stdout",
     "output_type": "stream",
     "text": [
      "The addition value is 4\n"
     ]
    },
    {
     "name": "stdin",
     "output_type": "stream",
     "text": [
      "Enter the number: 6\n"
     ]
    },
    {
     "name": "stdout",
     "output_type": "stream",
     "text": [
      "The addition value is 10\n"
     ]
    },
    {
     "name": "stdin",
     "output_type": "stream",
     "text": [
      "Enter the number: 7\n"
     ]
    },
    {
     "name": "stdout",
     "output_type": "stream",
     "text": [
      "The addition value is 17\n"
     ]
    },
    {
     "name": "stdin",
     "output_type": "stream",
     "text": [
      "Enter the number: 6\n"
     ]
    },
    {
     "name": "stdout",
     "output_type": "stream",
     "text": [
      "The addition value is 23\n"
     ]
    },
    {
     "name": "stdin",
     "output_type": "stream",
     "text": [
      "Enter the number: 4\n"
     ]
    },
    {
     "name": "stdout",
     "output_type": "stream",
     "text": [
      "The addition value is 27\n"
     ]
    },
    {
     "name": "stdin",
     "output_type": "stream",
     "text": [
      "Enter the number: 6\n"
     ]
    },
    {
     "name": "stdout",
     "output_type": "stream",
     "text": [
      "The addition value is 33\n"
     ]
    },
    {
     "name": "stdin",
     "output_type": "stream",
     "text": [
      "Enter the number: 8\n"
     ]
    },
    {
     "name": "stdout",
     "output_type": "stream",
     "text": [
      "The addition value is 41\n"
     ]
    }
   ],
   "source": [
    "n=0\n",
    "k=0\n",
    "while(n<=6):\n",
    "    i=int(input(\"Enter the number:\"))\n",
    "    k=k+i\n",
    "    print(\"The addition value is\",k)\n",
    "    n+=1\n"
   ]
  },
  {
   "cell_type": "markdown",
   "id": "ed81c870-dba2-4cd8-a76b-b38601bf10a4",
   "metadata": {},
   "source": [
    " # Print the factorial of a number using a loop."
   ]
  },
  {
   "cell_type": "code",
   "execution_count": 10,
   "id": "f7c0b5f5-e761-4017-ae0a-7d0db15e68ec",
   "metadata": {},
   "outputs": [
    {
     "name": "stdin",
     "output_type": "stream",
     "text": [
      "Enter the number to find the factorial: 56\n"
     ]
    },
    {
     "name": "stdout",
     "output_type": "stream",
     "text": [
      "The factorial of the given number is: 710998587804863451854045647463724949736497978881168458687447040000000000000\n"
     ]
    }
   ],
   "source": [
    "k=1\n",
    "i=int(input(\"Enter the number to find the factorial:\"))\n",
    "while(i>0):\n",
    "    k=k*i\n",
    "    i-=1\n",
    "print(\"The factorial of the given number is:\",k)\n",
    "    "
   ]
  },
  {
   "cell_type": "markdown",
   "id": "ae009b8d-b04e-4eec-a630-5d73be252a88",
   "metadata": {},
   "source": [
    "# Generate the Fibonacci sequence up to 20 terms."
   ]
  },
  {
   "cell_type": "code",
   "execution_count": 11,
   "id": "7f55ab93-89b8-474e-94e3-c10e013161dc",
   "metadata": {},
   "outputs": [
    {
     "name": "stdout",
     "output_type": "stream",
     "text": [
      "0\n",
      "1\n",
      "1\n",
      "2\n",
      "3\n",
      "5\n",
      "8\n",
      "13\n",
      "21\n",
      "34\n",
      "55\n",
      "89\n",
      "144\n",
      "233\n",
      "377\n",
      "610\n",
      "987\n",
      "1597\n",
      "2584\n",
      "4181\n"
     ]
    }
   ],
   "source": [
    "a=0\n",
    "b=1\n",
    "sum=0\n",
    "for i in range (20):\n",
    "    print(sum)\n",
    "    a=b\n",
    "    b=sum\n",
    "    sum=a+b"
   ]
  },
  {
   "cell_type": "markdown",
   "id": "ff535395-0bbf-4fa7-a281-d32c16679edf",
   "metadata": {},
   "source": [
    "# 6.Use break to stop printing numbers when the number reaches 13."
   ]
  },
  {
   "cell_type": "code",
   "execution_count": null,
   "id": "0ad97ed1-c16a-470c-861b-11d3da6642b9",
   "metadata": {},
   "outputs": [
    {
     "name": "stdin",
     "output_type": "stream",
     "text": [
      "Enter the number: 10\n"
     ]
    },
    {
     "name": "stdout",
     "output_type": "stream",
     "text": [
      "10\n",
      "11\n",
      "12\n",
      "13\n"
     ]
    }
   ],
   "source": [
    "n= int(input(\"Enter the number:\"))\n",
    "while True:\n",
    "    if n<=13:\n",
    "        print(n)\n",
    "        n+=1\n",
    "break"
   ]
  },
  {
   "cell_type": "markdown",
   "id": "ae79c636-e5a9-4d3f-8693-c5884019cc69",
   "metadata": {},
   "source": [
    "# Use continue to skip printing multiples of 3 between 1 and 30"
   ]
  },
  {
   "cell_type": "code",
   "execution_count": 1,
   "id": "81ee0729-21f5-4165-8993-ecd68e5a58ab",
   "metadata": {},
   "outputs": [
    {
     "name": "stdout",
     "output_type": "stream",
     "text": [
      "3\n",
      "6\n",
      "9\n",
      "12\n",
      "15\n",
      "18\n",
      "21\n",
      "24\n",
      "27\n",
      "30\n"
     ]
    }
   ],
   "source": [
    "for n in range(1,31):\n",
    "    if(n%3==0):\n",
    "        print(n)\n",
    "    continue\n",
    "    n+=1\n",
    "        "
   ]
  },
  {
   "cell_type": "markdown",
   "id": "f0399dfd-109b-40e4-ae2d-889b55d3c73f",
   "metadata": {},
   "source": [
    "# Write a program to find the largest of three numbers using if-elif-else."
   ]
  },
  {
   "cell_type": "code",
   "execution_count": 4,
   "id": "380fa489-823e-43f9-b931-20aa64815254",
   "metadata": {},
   "outputs": [
    {
     "name": "stdin",
     "output_type": "stream",
     "text": [
      "Enter the number1: 098\n",
      "Enter the number2: 45\n",
      "Enter the number3: 100\n"
     ]
    },
    {
     "name": "stdout",
     "output_type": "stream",
     "text": [
      "100 is the greater number\n"
     ]
    }
   ],
   "source": [
    "n1= int(input(\"Enter the number1:\"))\n",
    "n2= int(input(\"Enter the number2:\"))\n",
    "n3= int(input(\"Enter the number3:\"))\n",
    "if n1>n2 and n1>n3:\n",
    "    print(f\"{n1} is the greater number\")\n",
    "elif n2>n1 and n2>n3:\n",
    "    print(f\"{n2} is the greater number\")\n",
    "else:\n",
    "    print(f\"{n3} is the greater number\")        "
   ]
  },
  {
   "cell_type": "markdown",
   "id": "8f284ff2-acc4-41e4-9421-ece4303f39ec",
   "metadata": {},
   "source": [
    "# Check if a given number is positive, negative, or zero.\n"
   ]
  },
  {
   "cell_type": "code",
   "execution_count": 6,
   "id": "31c9afd9-59c6-4cf5-86c3-781fa15c6120",
   "metadata": {},
   "outputs": [
    {
     "name": "stdin",
     "output_type": "stream",
     "text": [
      "Enter the number: -8\n"
     ]
    },
    {
     "name": "stdout",
     "output_type": "stream",
     "text": [
      "-8 is a negative number\n"
     ]
    }
   ],
   "source": [
    "n= int(input(\"Enter the number:\"))\n",
    "if n>0:\n",
    "    print(f\"{n} is a positive number\") \n",
    "elif n<0:\n",
    "    print(f\"{n} is a negative number\")\n",
    "else:\n",
    "    print(f\"{n} is zero\") \n",
    "\n",
    "\n"
   ]
  },
  {
   "cell_type": "markdown",
   "id": "dcb3a032-b18d-4f8c-b991-37c86a3cc634",
   "metadata": {},
   "source": [
    "# Write a program that asks for input until the user types \"exit\" (use while True + break)."
   ]
  },
  {
   "cell_type": "code",
   "execution_count": 10,
   "id": "869e57e3-d9ef-4e10-bbef-9a7095a1750a",
   "metadata": {},
   "outputs": [
    {
     "name": "stdin",
     "output_type": "stream",
     "text": [
      "Enter the input: ggg\n",
      "Enter the input: hh\n",
      "Enter the input: exit\n"
     ]
    }
   ],
   "source": [
    "while True:\n",
    "    a= input(\"Enter the input:\")\n",
    "    if a==\"exit\":\n",
    "        break\n"
   ]
  },
  {
   "cell_type": "markdown",
   "id": "314612c8-6bc5-4058-b377-6dd06e0f402e",
   "metadata": {},
   "source": [
    "# Check whether a given year is a leap year or not.\n",
    "\n"
   ]
  },
  {
   "cell_type": "code",
   "execution_count": 9,
   "id": "bc475905-533d-47c2-abbf-5f7172659410",
   "metadata": {},
   "outputs": [
    {
     "name": "stdin",
     "output_type": "stream",
     "text": [
      "Enter the year: 1940\n"
     ]
    },
    {
     "name": "stdout",
     "output_type": "stream",
     "text": [
      "The year 1940 is not a leap year\n"
     ]
    }
   ],
   "source": [
    "n= int(input(\"Enter the year:\"))\n",
    "if n%4==0:\n",
    "    if n%100==0 and n%400==0:\n",
    "        print(f\"The year {n} is leap year\")\n",
    "    else:\n",
    "        print(f\"The year {n} is not a leap year\")\n",
    "else:\n",
    "    print(f\"The year {n} is not a leap year\")\n",
    "\n",
    "\n",
    "    \n",
    "    \n",
    "        "
   ]
  },
  {
   "cell_type": "code",
   "execution_count": null,
   "id": "c89b6221-96bb-4e79-8fcd-b8c8fec7c42d",
   "metadata": {},
   "outputs": [],
   "source": []
  }
 ],
 "metadata": {
  "kernelspec": {
   "display_name": "Python 3 (ipykernel)",
   "language": "python",
   "name": "python3"
  },
  "language_info": {
   "codemirror_mode": {
    "name": "ipython",
    "version": 3
   },
   "file_extension": ".py",
   "mimetype": "text/x-python",
   "name": "python",
   "nbconvert_exporter": "python",
   "pygments_lexer": "ipython3",
   "version": "3.13.7"
  }
 },
 "nbformat": 4,
 "nbformat_minor": 5
}
