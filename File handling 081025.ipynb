{
 "cells": [
  {
   "cell_type": "code",
   "execution_count": 8,
   "id": "6c0a3a61-1197-4d95-a103-d7e6f816b16c",
   "metadata": {},
   "outputs": [
    {
     "name": "stdout",
     "output_type": "stream",
     "text": [
      "Filename: new.txt\n",
      "Mode: w\n",
      "closed? False\n",
      "closed? True\n",
      "Is Closed? True\n"
     ]
    }
   ],
   "source": [
    "#File handling\n",
    "#process of performing operations on a file, such as creating, opening, reading, writing and closing it through a programming interface\n",
    "#r - read mode\n",
    "file = open(\"new.txt\", \"w\")\n",
    "file.write(\"hi!!\\n\")\n",
    "file.write(\"\\nhello\")\n",
    "file.write(\"\\nhow are you\")\n",
    "print(\"Filename:\", file.name)\n",
    "print(\"Mode:\", file.mode)\n",
    "print(\"closed?\",file.closed) #it returns boolean value\n",
    "file.close()\n",
    "print(\"closed?\",file.closed)"
   ]
  },
  {
   "cell_type": "code",
   "execution_count": 13,
   "id": "8dda680a-0940-4951-a297-0ff05d767016",
   "metadata": {},
   "outputs": [
    {
     "name": "stdout",
     "output_type": "stream",
     "text": [
      "hello\n",
      "\n"
     ]
    }
   ],
   "source": [
    "file = open(\"new.txt\", \"r\")\n",
    "content = file.readline()\n",
    "content1 = file.readline()\n",
    "content2 = file.readline()\n",
    "print(content2)\n",
    "file.close()"
   ]
  },
  {
   "cell_type": "code",
   "execution_count": 15,
   "id": "55bd0514-d80a-40c9-98c6-071cd09242b6",
   "metadata": {},
   "outputs": [
    {
     "name": "stdout",
     "output_type": "stream",
     "text": [
      "['hi!!\\n', '\\n', 'hello\\n', 'how are you']\n",
      "hi!!\n",
      "\n",
      "\n",
      "\n",
      "hello\n",
      "\n",
      "how are you\n"
     ]
    }
   ],
   "source": [
    "with open(\"new.txt\", \"r\") as f:\n",
    "    content = f.readlines() #returns the content as list\n",
    "    print(content)\n",
    "    for i in content:\n",
    "        print(i) # return content in seperate lines\n"
   ]
  },
  {
   "cell_type": "code",
   "execution_count": 17,
   "id": "5c3ff5c5-f73b-4968-b821-1a580a6d0eef",
   "metadata": {},
   "outputs": [],
   "source": [
    "with open(\"my_file.txt\", \"w\") as f:\n",
    "    f.write(\"Hello, Python!\\n\")\n",
    "    f.write(\"This is a new line.\\n\")\n",
    "\n",
    "with open(\"my_file.txt\", \"a\") as f:\n",
    "    f.write(\"Appending more data.\\n\")"
   ]
  },
  {
   "cell_type": "code",
   "execution_count": 18,
   "id": "91d85ca1-bf45-46eb-b33f-f191cb1362b3",
   "metadata": {},
   "outputs": [],
   "source": [
    "#w -create & write mode\n",
    "with open(\"new_file.txt\", \"w\") as f:\n",
    "    f.write(\"hello!\")"
   ]
  },
  {
   "cell_type": "code",
   "execution_count": 1,
   "id": "82fe007d-dbf8-4479-89a8-c989fd74851a",
   "metadata": {},
   "outputs": [],
   "source": [
    "#a - create & append mode\n",
    "new =[\"hi\",\"hello\",\"how\"]\n",
    "with open(\"new_file1.txt\", \"w\") as f:\n",
    "    f.writelines(new)"
   ]
  },
  {
   "cell_type": "code",
   "execution_count": 25,
   "id": "2690a540-605b-44a9-92e6-95c81385ea26",
   "metadata": {},
   "outputs": [
    {
     "name": "stdout",
     "output_type": "stream",
     "text": [
      "hi!!\n",
      "\n",
      "hello\n",
      "how are you\n",
      "Appending new content\n",
      "Appending new content\n",
      "Appending new content\n",
      "['w are you\\n', 'Appending new content\\n', 'Appending new content\\n', 'Appending new content\\n', 'Appending new content']\n"
     ]
    }
   ],
   "source": [
    "#r+ - not create file, read and write(append),have to use seek()\n",
    "with open('new.txt', 'r+') as file:\n",
    "    content = file.read()\n",
    "    print(content)\n",
    "    file.write('\\nAppending new content')\n",
    "    file.seek(17)\n",
    "    content = file.readline()\n",
    "    print(content)"
   ]
  },
  {
   "cell_type": "code",
   "execution_count": 35,
   "id": "44b18193-3d29-4410-a08f-ce1f45497f3c",
   "metadata": {},
   "outputs": [
    {
     "name": "stdout",
     "output_type": "stream",
     "text": [
      "will be overwrite@\n"
     ]
    }
   ],
   "source": [
    "#w+ - create file,overwrite,read,have to use seek()\n",
    "with open('example.txt', 'w+') as file:\n",
    "    file.write('This will be overwrite@')\n",
    "    file.seek(5) \n",
    "    content = file.read()\n",
    "    print(content)"
   ]
  },
  {
   "cell_type": "code",
   "execution_count": 36,
   "id": "0e418caa-135e-4ec5-96e7-405b16ae8b47",
   "metadata": {},
   "outputs": [
    {
     "name": "stdout",
     "output_type": "stream",
     "text": [
      "ill be append\n",
      "\n"
     ]
    }
   ],
   "source": [
    "#a+ - create file,append,read,have to use seek()\n",
    "with open('example2.txt', 'a+') as file:\n",
    "    file.write('This will be append\\n')\n",
    "    file.seek(6) \n",
    "    content = file.read()\n",
    "    print(content)"
   ]
  },
  {
   "cell_type": "code",
   "execution_count": 42,
   "id": "d3621f12-9af8-49bb-952c-f9ab2caea31e",
   "metadata": {},
   "outputs": [],
   "source": [
    "#wb - write byte\n",
    "#Open a file in write binary mode\n",
    "with open(\"binary_data.txt\", \"wb\") as file:\n",
    "    file.write(b\"Hello, binary world!\")\n",
    "    file.write(bytes([0x01, 0x02, 0x03]))"
   ]
  },
  {
   "cell_type": "code",
   "execution_count": 38,
   "id": "0fb9edb8-02bc-4ab6-8ad3-c6975eae0bec",
   "metadata": {},
   "outputs": [
    {
     "name": "stdout",
     "output_type": "stream",
     "text": [
      "b'Hello, binary world!\\x01\\x02\\x03'\n"
     ]
    }
   ],
   "source": [
    "with open(\"binary_data.txt\", \"rb\") as file:\n",
    "    file1=file.readline()\n",
    "    print(file1)"
   ]
  },
  {
   "cell_type": "code",
   "execution_count": 40,
   "id": "9c074999-02c0-4926-9873-ba57224c1695",
   "metadata": {},
   "outputs": [
    {
     "ename": "FileExistsError",
     "evalue": "[Errno 17] File exists: 'new_file4.txt'",
     "output_type": "error",
     "traceback": [
      "\u001b[31m---------------------------------------------------------------------------\u001b[39m",
      "\u001b[31mFileExistsError\u001b[39m                           Traceback (most recent call last)",
      "\u001b[36mCell\u001b[39m\u001b[36m \u001b[39m\u001b[32mIn[40]\u001b[39m\u001b[32m, line 2\u001b[39m\n\u001b[32m      1\u001b[39m \u001b[38;5;66;03m#x - work with new file\u001b[39;00m\n\u001b[32m----> \u001b[39m\u001b[32m2\u001b[39m \u001b[38;5;28;01mwith\u001b[39;00m \u001b[38;5;28;43mopen\u001b[39;49m\u001b[43m(\u001b[49m\u001b[33;43m\"\u001b[39;49m\u001b[33;43mnew_file4.txt\u001b[39;49m\u001b[33;43m\"\u001b[39;49m\u001b[43m,\u001b[49m\u001b[43m \u001b[49m\u001b[33;43m\"\u001b[39;49m\u001b[33;43mx\u001b[39;49m\u001b[33;43m\"\u001b[39;49m\u001b[43m)\u001b[49m \u001b[38;5;28;01mas\u001b[39;00m f:\n\u001b[32m      3\u001b[39m     f.write(\u001b[33m\"\u001b[39m\u001b[33mthis is a new file.\u001b[39m\u001b[33m\"\u001b[39m)\n\u001b[32m      4\u001b[39m     f.write(\u001b[33m\"\u001b[39m\u001b[33mthis is text file\u001b[39m\u001b[33m\"\u001b[39m)\n",
      "\u001b[36mFile \u001b[39m\u001b[32m~\\Documents\\newenvironment\\Lib\\site-packages\\IPython\\core\\interactiveshell.py:343\u001b[39m, in \u001b[36m_modified_open\u001b[39m\u001b[34m(file, *args, **kwargs)\u001b[39m\n\u001b[32m    336\u001b[39m \u001b[38;5;28;01mif\u001b[39;00m file \u001b[38;5;129;01min\u001b[39;00m {\u001b[32m0\u001b[39m, \u001b[32m1\u001b[39m, \u001b[32m2\u001b[39m}:\n\u001b[32m    337\u001b[39m     \u001b[38;5;28;01mraise\u001b[39;00m \u001b[38;5;167;01mValueError\u001b[39;00m(\n\u001b[32m    338\u001b[39m         \u001b[33mf\u001b[39m\u001b[33m\"\u001b[39m\u001b[33mIPython won\u001b[39m\u001b[33m'\u001b[39m\u001b[33mt let you open fd=\u001b[39m\u001b[38;5;132;01m{\u001b[39;00mfile\u001b[38;5;132;01m}\u001b[39;00m\u001b[33m by default \u001b[39m\u001b[33m\"\u001b[39m\n\u001b[32m    339\u001b[39m         \u001b[33m\"\u001b[39m\u001b[33mas it is likely to crash IPython. If you know what you are doing, \u001b[39m\u001b[33m\"\u001b[39m\n\u001b[32m    340\u001b[39m         \u001b[33m\"\u001b[39m\u001b[33myou can use builtins\u001b[39m\u001b[33m'\u001b[39m\u001b[33m open.\u001b[39m\u001b[33m\"\u001b[39m\n\u001b[32m    341\u001b[39m     )\n\u001b[32m--> \u001b[39m\u001b[32m343\u001b[39m \u001b[38;5;28;01mreturn\u001b[39;00m \u001b[43mio_open\u001b[49m\u001b[43m(\u001b[49m\u001b[43mfile\u001b[49m\u001b[43m,\u001b[49m\u001b[43m \u001b[49m\u001b[43m*\u001b[49m\u001b[43margs\u001b[49m\u001b[43m,\u001b[49m\u001b[43m \u001b[49m\u001b[43m*\u001b[49m\u001b[43m*\u001b[49m\u001b[43mkwargs\u001b[49m\u001b[43m)\u001b[49m\n",
      "\u001b[31mFileExistsError\u001b[39m: [Errno 17] File exists: 'new_file4.txt'"
     ]
    }
   ],
   "source": [
    "#x - work with new file\n",
    "with open(\"new_file4.txt\", \"x\") as f:\n",
    "    f.write(\"this is a new file.\")\n",
    "    f.write(\"this is text file\")\n",
    "    print(\"File 'new_file3.txt' created successfully.\")"
   ]
  },
  {
   "cell_type": "code",
   "execution_count": null,
   "id": "36dda886-3c09-48bb-88a7-c7e9e4039835",
   "metadata": {},
   "outputs": [],
   "source": []
  }
 ],
 "metadata": {
  "kernelspec": {
   "display_name": "Python 3 (ipykernel)",
   "language": "python",
   "name": "python3"
  },
  "language_info": {
   "codemirror_mode": {
    "name": "ipython",
    "version": 3
   },
   "file_extension": ".py",
   "mimetype": "text/x-python",
   "name": "python",
   "nbconvert_exporter": "python",
   "pygments_lexer": "ipython3",
   "version": "3.13.9"
  }
 },
 "nbformat": 4,
 "nbformat_minor": 5
}
