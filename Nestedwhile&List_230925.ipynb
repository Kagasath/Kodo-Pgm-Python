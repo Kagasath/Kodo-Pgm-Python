{
 "cells": [
  {
   "cell_type": "code",
   "execution_count": 1,
   "id": "2e039e5f-1259-4ea7-bb4b-ba13532730a3",
   "metadata": {},
   "outputs": [
    {
     "name": "stdout",
     "output_type": "stream",
     "text": [
      "-6\n"
     ]
    }
   ],
   "source": [
    "a=5\n",
    "print(~5)"
   ]
  },
  {
   "cell_type": "code",
   "execution_count": 1,
   "id": "b4fd1d97-004a-41e6-b49c-f29f2bda3fa4",
   "metadata": {},
   "outputs": [
    {
     "name": "stdout",
     "output_type": "stream",
     "text": [
      "0 0\n",
      "0 1\n",
      "0 2\n",
      "0 3\n",
      "1 0\n",
      "1 1\n",
      "1 2\n",
      "1 3\n",
      "2 0\n",
      "2 1\n",
      "2 2\n",
      "2 3\n",
      "3 0\n",
      "3 1\n",
      "3 2\n",
      "3 3\n"
     ]
    }
   ],
   "source": [
    "i=0\n",
    "while i<=3:\n",
    "    j=0\n",
    "    while j<=3:\n",
    "        print(i,j)\n",
    "        j+=1\n",
    "    i+=1"
   ]
  },
  {
   "cell_type": "code",
   "execution_count": 2,
   "id": "853c8807-ff0c-4016-b926-5cdd35052ae1",
   "metadata": {},
   "outputs": [
    {
     "name": "stdout",
     "output_type": "stream",
     "text": [
      "0*1=0\n",
      "0*2=0\n",
      "0*3=0\n",
      "\n",
      "1*1=1\n",
      "1*2=2\n",
      "1*3=3\n",
      "\n",
      "2*1=2\n",
      "2*2=4\n",
      "2*3=6\n",
      "\n",
      "3*1=3\n",
      "3*2=6\n",
      "3*3=9\n",
      "\n"
     ]
    }
   ],
   "source": [
    "i=1\n",
    "while i<=3:\n",
    "    j=1\n",
    "    while j<=3:\n",
    "        print(f\"{i}*{j}={i*j}\")\n",
    "        j+=1\n",
    "    i+=1\n",
    "    print()"
   ]
  },
  {
   "cell_type": "code",
   "execution_count": 3,
   "id": "6cf48583-9ded-46a0-8b32-3244d70eb785",
   "metadata": {},
   "outputs": [
    {
     "name": "stdout",
     "output_type": "stream",
     "text": [
      "1*1=1\n",
      "1*2=2\n",
      "1*3=3\n",
      "\n",
      "\n",
      "\n"
     ]
    }
   ],
   "source": [
    "i=1\n",
    "j=1\n",
    "while i<=3:\n",
    "    while j<=3: #when the j=3 this loop will not get executed\n",
    "        print(f\"{i}*{j}={i*j}\")\n",
    "        j+=1\n",
    "    i+=1\n",
    "    print()"
   ]
  },
  {
   "cell_type": "code",
   "execution_count": 8,
   "id": "4f79ceff-670c-4afe-b653-bb64aece7fbb",
   "metadata": {},
   "outputs": [
    {
     "name": "stdout",
     "output_type": "stream",
     "text": [
      "[3, 4, 6, 7, 8, 9]\n",
      "[3, 4, 6, 7, 8, 9, 7]\n",
      "[6, [0, 3, 4]]\n"
     ]
    }
   ],
   "source": [
    "l1=[3,4,6]\n",
    "l2=[7,8,9]\n",
    "l1.extend(l2)\n",
    "print(l1)\n",
    "l1.append(7)\n",
    "print(l1)\n",
    "l3=[9,8,7]\n",
    "l4=[0,3,4]\n",
    "l5=[6]\n",
    "l5.append(l4)\n",
    "p=l3+l4\n",
    "print(l5)"
   ]
  },
  {
   "cell_type": "code",
   "execution_count": null,
   "id": "ee5b6c12-b91c-4c77-be30-34f09c1fc07a",
   "metadata": {},
   "outputs": [],
   "source": []
  }
 ],
 "metadata": {
  "kernelspec": {
   "display_name": "Python 3 (ipykernel)",
   "language": "python",
   "name": "python3"
  },
  "language_info": {
   "codemirror_mode": {
    "name": "ipython",
    "version": 3
   },
   "file_extension": ".py",
   "mimetype": "text/x-python",
   "name": "python",
   "nbconvert_exporter": "python",
   "pygments_lexer": "ipython3",
   "version": "3.13.7"
  }
 },
 "nbformat": 4,
 "nbformat_minor": 5
}
