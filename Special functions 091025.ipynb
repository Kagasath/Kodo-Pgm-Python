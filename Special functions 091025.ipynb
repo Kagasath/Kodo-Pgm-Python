{
 "cells": [
  {
   "cell_type": "code",
   "execution_count": 21,
   "id": "0df5acc9-b8d0-42d5-a17e-42662355e370",
   "metadata": {},
   "outputs": [
    {
     "name": "stdin",
     "output_type": "stream",
     "text": [
      "Enter the value to append: 3\n",
      "Enter the value to append: 2\n",
      "Enter the value to append: 4\n",
      "Enter the value to append: 5\n",
      "Enter the value to append: -3\n"
     ]
    },
    {
     "name": "stdout",
     "output_type": "stream",
     "text": [
      "[3, 2, 4, 5, -3]\n"
     ]
    },
    {
     "name": "stdin",
     "output_type": "stream",
     "text": [
      "Enter the index value 2\n"
     ]
    },
    {
     "name": "stdout",
     "output_type": "stream",
     "text": [
      "4\n",
      "ValueError: There is a negative number in the list\n"
     ]
    }
   ],
   "source": [
    "#mock\n",
    "L=[]\n",
    "for i in range(5):\n",
    "    x=int(input(\"Enter the value to append:\"))\n",
    "    L.append(x)\n",
    "print(L)\n",
    "try:\n",
    "    n= int(input(\"Enter the index value\"))\n",
    "    if n<5:\n",
    "        print(L[n])\n",
    "    else:\n",
    "        raise IndexError(\"Given number is out of index range\")\n",
    "    for i in L:\n",
    "        if(i<0):\n",
    "            raise ValueError(\"There is a negative number in the list\")\n",
    "        else:\n",
    "            continue            \n",
    "    print(\"There is no negative number in the list\")\n",
    "except IndexError as IE:    \n",
    "    print(\"IndexError:\",IE) \n",
    "except ValueError as VE:           \n",
    "    print(\"ValueError:\",VE)\n",
    "except Exception as E:\n",
    "    print(\"Invalid Input\")\n",
    "    "
   ]
  },
  {
   "cell_type": "code",
   "execution_count": 22,
   "id": "d21244db-06a5-4d7f-aa1e-9a70484e6554",
   "metadata": {},
   "outputs": [
    {
     "name": "stdin",
     "output_type": "stream",
     "text": [
      "Enter the value to append: 3\n",
      "Enter the value to append: 4\n",
      "Enter the value to append: 3\n",
      "Enter the value to append: 2\n",
      "Enter the value to append: 2\n"
     ]
    },
    {
     "name": "stdout",
     "output_type": "stream",
     "text": [
      "[3, 4, 3, 2, 2]\n"
     ]
    },
    {
     "name": "stdin",
     "output_type": "stream",
     "text": [
      "Enter the index value 5\n"
     ]
    },
    {
     "name": "stdout",
     "output_type": "stream",
     "text": [
      "IndexError\n"
     ]
    }
   ],
   "source": [
    "L=[]\n",
    "for i in range(5):\n",
    "    x=int(input(\"Enter the value to append:\"))\n",
    "    L.append(x)\n",
    "print(L)\n",
    "try:\n",
    "    n= int(input(\"Enter the index value\"))\n",
    "    print(L[n])\n",
    "    for i in L:\n",
    "        if(i<0):\n",
    "            raise ValueError(\"There is a negative number in the list\")\n",
    "        else:\n",
    "            continue            \n",
    "    print(\"There is no negative number in the list\")\n",
    "except IndexError:    \n",
    "    print(\"IndexError\") \n",
    "except Exception as E:\n",
    "    print(\"Invalid Input\")\n",
    "    "
   ]
  },
  {
   "cell_type": "markdown",
   "id": "69d0a196-4c38-4680-88d9-20c2cff346da",
   "metadata": {},
   "source": [
    "# Reduce() in special function\n",
    "# used to apply a function of two arguments cumulatively to the items of an iterable, reducing the iterable to a single value.\n",
    "# reduce(function,iterable,[initializer])\n",
    "# 1)from functools import reduce\n",
    "# 2)function: A function that takes two arguments and returns a single value. This function is applied cumulatively to the items of the iterable. \n",
    "#  iterable: The sequence (e.g., list, tuple) whose elements are to be reduced.\n",
    "# initializer (optional): An initial value that acts as the first argument to the function in the first iteration. If not provided, the first two elements of the iterable are used in the first iteration."
   ]
  },
  {
   "cell_type": "code",
   "execution_count": 1,
   "id": "26c4e160-9591-40a9-99b6-d300ff386bf2",
   "metadata": {},
   "outputs": [
    {
     "name": "stdout",
     "output_type": "stream",
     "text": [
      "Sum with initializer 10: 30\n"
     ]
    }
   ],
   "source": [
    "from functools import reduce\n",
    "numbers = [1, 2, 3, 4, 5]\n",
    "\n",
    "# Using a lambda function for addition\n",
    "sum_result = reduce(lambda x, y: x + y, numbers)\n",
    "print(f\"Sum of numbers: {sum_result}\")\n",
    "\n",
    "# Using an initializer to start the sum from a specific value\n",
    "sum_with_initializer = reduce(lambda x, y: x + y, numbers, 15)\n",
    "print(f\"Sum with initializer 10: {sum_with_initializer}\")\n"
   ]
  },
  {
   "cell_type": "code",
   "execution_count": 2,
   "id": "d63e4320-74f7-446f-b7bc-aab27ab50f31",
   "metadata": {},
   "outputs": [
    {
     "name": "stdout",
     "output_type": "stream",
     "text": [
      "The maximum elements are : 25\n"
     ]
    }
   ],
   "source": [
    "# Finding the greatest number using reduce()\n",
    "\n",
    "import functools\n",
    "list = [5, 10, 15, 20, 25]\n",
    "print(\"The maximum elements are : \", end=\"\")\n",
    "print(functools.reduce(lambda x, y:   x if x > y else y, list)) "
   ]
  },
  {
   "cell_type": "code",
   "execution_count": null,
   "id": "b3aea3fe-5836-4492-8c27-86d73227447d",
   "metadata": {},
   "outputs": [],
   "source": [
    "# Flattening list\n",
    "lists = [[1, 2], [3, 4], [5]]\n",
    "flattened = reduce(lambda x, y: x + y, lists)\n",
    "print(flattened)  # Output: [1, 2, 3, 4, 5]\n"
   ]
  },
  {
   "cell_type": "code",
   "execution_count": 3,
   "id": "d673f210-871d-4652-abf6-5741f8ee5553",
   "metadata": {},
   "outputs": [
    {
     "name": "stdout",
     "output_type": "stream",
     "text": [
      "10\n"
     ]
    }
   ],
   "source": [
    "# Adding sum of dictionary values\n",
    "\n",
    "items = [{\"count\": 2}, {\"count\": 3}, {\"count\": 5}]\n",
    "total = reduce(lambda acc, x: acc + x[\"count\"], items, 0)\n",
    "print(total)  \n"
   ]
  },
  {
   "cell_type": "markdown",
   "id": "b1ce4706-7a0a-4564-b7bc-0291eff126f7",
   "metadata": {},
   "source": [
    "# The accumulate() function in Python is part of the itertools module and is used to generate accumulated results from an iterable. It returns an iterator that yields the results of a binary operation applied cumulatively to the elements of the input iterable.\n",
    "# function is applied at each iteration to accumulate the result.\n",
    "# itertools.accumulate(iterable, func=None)"
   ]
  },
  {
   "cell_type": "code",
   "execution_count": 5,
   "id": "3f90e7cb-1fdd-4ecf-bd3b-ddc13c92f8ac",
   "metadata": {},
   "outputs": [
    {
     "name": "stdout",
     "output_type": "stream",
     "text": [
      "[1, -1, -4, -8, -13, -19, -26]\n"
     ]
    },
    {
     "data": {
      "text/plain": [
       "[1, 2, 3, 4, 5, 6, 7]"
      ]
     },
     "execution_count": 5,
     "metadata": {},
     "output_type": "execute_result"
    }
   ],
   "source": [
    "from itertools import accumulate\n",
    "accumulate_conversion = accumulate(new_list,lambda x,y : x-y)\n",
    "print(list(accumulate_conversion))\n",
    "new_list"
   ]
  },
  {
   "cell_type": "code",
   "execution_count": 6,
   "id": "ba15b25a-e028-4639-af24-5b51cd6ae60f",
   "metadata": {},
   "outputs": [
    {
     "name": "stdout",
     "output_type": "stream",
     "text": [
      "[5, 5, 6, 6, 6, 9, 9]\n"
     ]
    }
   ],
   "source": [
    "import itertools\n",
    "a = [5, 3, 6, 2, 1, 9, 1]\n",
    "res = itertools.accumulate(a, max)\n",
    "print(list(res))"
   ]
  },
  {
   "cell_type": "markdown",
   "id": "e1cfa2fd-9de8-4210-a4f4-329b7d3e0c28",
   "metadata": {},
   "source": [
    "# Generator function\n",
    "# yield - generator\n",
    "# returns an iterator, which yields values one at a time.\n",
    "# A generator function is a special type of function that returns an iterator object. Instead of using return to send back a single value, generator functions use yield to produce a series of results over time. This allows the function to generate values and pause its execution after each yield, maintaining its state between iterations.\n",
    "# The magic behind generators lies in the yield keyword. Unlike return, which outputs a single value and exits the function, yield produces a value, pauses the function's execution, and saves its state. When the generator is called again, it picks up where it left off. "
   ]
  },
  {
   "cell_type": "code",
   "execution_count": 6,
   "id": "9b405df2-53d0-46c8-a8a5-4c94e28f77e4",
   "metadata": {},
   "outputs": [
    {
     "name": "stdout",
     "output_type": "stream",
     "text": [
      "1\n",
      "4\n",
      "9\n",
      "16\n"
     ]
    }
   ],
   "source": [
    "def sq_numbers(n):\n",
    "    for i in range(1, n+1):\n",
    "        yield i*i\n",
    "a = sq_numbers(4)\n",
    "print(next(a))\n",
    "print(next(a))\n",
    "print(next(a))\n",
    "print(next(a))"
   ]
  },
  {
   "cell_type": "code",
   "execution_count": 10,
   "id": "ccedcb5a-6931-489d-8be2-91eb937cb14a",
   "metadata": {},
   "outputs": [
    {
     "name": "stdout",
     "output_type": "stream",
     "text": [
      "1\n",
      "2\n",
      "3\n",
      "4\n",
      "5\n"
     ]
    }
   ],
   "source": [
    "def fun(max):\n",
    "    cnt = 1\n",
    "    while cnt <= max:\n",
    "        yield cnt\n",
    "        cnt += 1\n",
    "\n",
    "ctr = fun(5)\n",
    "# print(next(ctr))\n",
    "# print(next(ctr))\n",
    "# print(next(ctr))\n",
    "# print(next(ctr))\n",
    "# print(next(ctr))\n",
    "for n in ctr:\n",
    "    print(n)"
   ]
  },
  {
   "cell_type": "code",
   "execution_count": 3,
   "id": "e54f8bcf-28db-41de-8ae0-0b5a6a67b038",
   "metadata": {},
   "outputs": [
    {
     "name": "stdout",
     "output_type": "stream",
     "text": [
      "0\n",
      "1\n",
      "4\n"
     ]
    }
   ],
   "source": [
    "# generator expression\n",
    "# Python code to illustrate generator expression \n",
    "generator = (num ** 2 for num in range(10)) \n",
    "# print(next(generator))\n",
    "# print(next(generator))\n",
    "# print(next(generator))\n",
    "\n",
    "for num in generator:\n",
    "   print(num)"
   ]
  },
  {
   "cell_type": "code",
   "execution_count": null,
   "id": "307b209f-5297-4fdf-a460-a43b9e322836",
   "metadata": {},
   "outputs": [],
   "source": [
    "#fibonaaci series\n",
    "def fibonacci(n):\n",
    "   a, b = 0, 1\n",
    "   while True:\n",
    "      c=a+b\n",
    "      if c>=n:\n",
    "         break\n",
    "      yield c\n",
    "      a, b = b, c\n",
    "   return\n",
    "   \n",
    "f = fibonacci(10)\n",
    "while True:\n",
    "   try:\n",
    "      print (next(f))\n",
    "   except StopIteration:\n",
    "      break "
   ]
  },
  {
   "cell_type": "code",
   "execution_count": 22,
   "id": "ca1f5468-1346-4d19-bb1e-e45cc3bf3edc",
   "metadata": {},
   "outputs": [
    {
     "name": "stdout",
     "output_type": "stream",
     "text": [
      "0\n",
      "[1, 1, 4, 9, 25, 64, 169, 441, 1156, 3025]\n"
     ]
    }
   ],
   "source": [
    "def fibonacci_numbers(nums):\n",
    "    x, y = 0, 1\n",
    "    print(x)\n",
    "    for j in range(nums):\n",
    "        x, y = y, x+y\n",
    "        yield x\n",
    "# d=fibonacci_numbers(10)\n",
    "# for i in d:\n",
    "#     print(i)\n",
    "\n",
    "def square(nums):\n",
    "    for num in nums:\n",
    "        yield num**2\n",
    "q=square(fibonacci_numbers(10))\n",
    "print(list(q))\n",
    "\n",
    "#print((square(fibonacci_numbers(10))))\n"
   ]
  },
  {
   "cell_type": "markdown",
   "id": "262d52b9-2210-4ec9-82b2-85b7a55d427b",
   "metadata": {},
   "source": [
    "# iterator\n",
    "# An iterator is an object which contains a countable number of values\n",
    "# iter() - create an iterator containing an iterable object.\n",
    "# next() - call the next element in the iterable object."
   ]
  },
  {
   "cell_type": "code",
   "execution_count": 12,
   "id": "a6aac452-dc5e-443a-a0f8-f9b454b24110",
   "metadata": {},
   "outputs": [
    {
     "name": "stdout",
     "output_type": "stream",
     "text": [
      "<tuple_iterator object at 0x0000024C0E32F310>\n",
      "this\n",
      "is\n",
      "iterator-function\n"
     ]
    }
   ],
   "source": [
    "iter_list = iter(('this', 'is', 'iterator-function'))\n",
    "print(iter_list)\n",
    "print(next(iter_list))\n",
    "print(next(iter_list))\n",
    "print(next(iter_list))"
   ]
  },
  {
   "cell_type": "code",
   "execution_count": null,
   "id": "a250696a-a382-4a9e-b2c5-75bdb55c7425",
   "metadata": {},
   "outputs": [],
   "source": [
    "#enumerate function\n",
    "#access both the index and the value of each item in the iterable\n",
    "#enumerate(iterable, start=0)"
   ]
  },
  {
   "cell_type": "code",
   "execution_count": 9,
   "id": "6b5094cd-e04b-4e6e-912b-39a08dba47b3",
   "metadata": {},
   "outputs": [
    {
     "name": "stdout",
     "output_type": "stream",
     "text": [
      "Index 0: Geeks\n",
      "Index 1: for\n",
      "Index 2: Geeks\n",
      "[(0, 'Geeks'), (1, 'for'), (2, 'Geeks')]\n"
     ]
    }
   ],
   "source": [
    "a = [\"Geeks\", \"for\", \"Geeks\"]\n",
    "\n",
    "# Iterating list using enumerate to get both index and element\n",
    "for i, name in enumerate(a):\n",
    "    print(f\"Index {i}: {name}\")\n",
    "\n",
    "# Converting to a list of tuples\n",
    "print(list(enumerate(a)))"
   ]
  },
  {
   "cell_type": "code",
   "execution_count": 7,
   "id": "28673fb1-28e5-4cc7-9e0e-dd97614056fb",
   "metadata": {},
   "outputs": [
    {
     "name": "stdout",
     "output_type": "stream",
     "text": [
      "3 1\n",
      "4 2\n",
      "5 3\n",
      "6 4\n",
      "7 5\n",
      "8 6\n",
      "9 7\n"
     ]
    }
   ],
   "source": [
    "new_list=[1,2,3,4,5,6,7]\n",
    "for i,j in enumerate(new_list,3):\n",
    "    print(i,j)"
   ]
  },
  {
   "cell_type": "code",
   "execution_count": 10,
   "id": "b004be38-fdfe-417a-b939-75ce46db05e7",
   "metadata": {},
   "outputs": [
    {
     "name": "stdout",
     "output_type": "stream",
     "text": [
      "(0, 'Geeks')\n",
      "(1, 'for')\n"
     ]
    }
   ],
   "source": [
    "a = ['Geeks', 'for', 'Geeks']\n",
    "\n",
    "# Creating an enumerate object from the list 'a' \n",
    "b = enumerate(a)\n",
    "\n",
    "# This retrieves the first index-element pair\n",
    "nxt_val = next(b)\n",
    "print(nxt_val)\n",
    "\n",
    "# This retrieves the second index-element pair \n",
    "nxt_val = next(b)\n",
    "print(nxt_val)"
   ]
  },
  {
   "cell_type": "code",
   "execution_count": 27,
   "id": "23267c69-a065-4c64-a295-55abf91e2550",
   "metadata": {},
   "outputs": [
    {
     "name": "stdout",
     "output_type": "stream",
     "text": [
      "Counter is now: 1\n"
     ]
    }
   ],
   "source": [
    "#global variable\n",
    "class MyClass:\n",
    "    counter = 0\n",
    "\n",
    "    def increase_counter(self):\n",
    "        MyClass.counter\n",
    "        MyClass.counter+= 1\n",
    "        print(f\"Counter is now: {MyClass.counter}\")\n",
    "\n",
    "    def show_counter(self):\n",
    "        print(f\"Current global counter: {MyClass.counter}\")\n",
    "\n",
    "obj1 = MyClass()\n",
    "\n",
    "obj1.increase_counter()"
   ]
  },
  {
   "cell_type": "markdown",
   "id": "5aeb0b04-2900-424e-92fd-dd96088ea518",
   "metadata": {},
   "source": [
    "# nonlocal variable"
   ]
  },
  {
   "cell_type": "code",
   "execution_count": null,
   "id": "ca4c00b5-fd10-47e6-98fa-28ae662d2caf",
   "metadata": {},
   "outputs": [],
   "source": [
    "def outer_function():\n",
    "    x = 18\n",
    "    def inner_function():\n",
    "        nonlocal x\n",
    "        x+=1\n",
    "        print(\"innerfunction:\", x)\n",
    "\n",
    "    inner_function()\n",
    "    print(\"outerfunction:\", x)\n",
    "\n",
    "outer_function()"
   ]
  },
  {
   "cell_type": "markdown",
   "id": "547d820c-bc26-4032-a3b4-848e704b3e38",
   "metadata": {},
   "source": [
    "# lambda function\n",
    "# A lambda function in Python is a small, anonymous function defined with the lambda keyword instead of def. It can take any number of arguments but is limited to a single expression, which is implicitly returned.\n",
    "# lambda arguments:expressions\n",
    "# Concise Syntax: The syntax is lambda arguments: expression."
   ]
  },
  {
   "cell_type": "code",
   "execution_count": 1,
   "id": "76169982-2ef6-4489-9501-4b5e0030acbc",
   "metadata": {},
   "outputs": [
    {
     "name": "stdout",
     "output_type": "stream",
     "text": [
      "16\n"
     ]
    }
   ],
   "source": [
    "square = lambda x: x * x if x%2==0 else 0\n",
    "print(square(4))"
   ]
  },
  {
   "cell_type": "markdown",
   "id": "8e672950-75b9-4574-b1ea-59b823d031ad",
   "metadata": {},
   "source": [
    "# map(): Applies a function to all items in an iterable."
   ]
  },
  {
   "cell_type": "code",
   "execution_count": 2,
   "id": "3188724e-7c32-4e62-8ea0-4c61752fa722",
   "metadata": {},
   "outputs": [
    {
     "name": "stdout",
     "output_type": "stream",
     "text": [
      "<map object at 0x0000024C0E32FE20>\n",
      "[0, 4, 0, 16, 0, 36, 0]\n"
     ]
    }
   ],
   "source": [
    "new_list = [1,2,3,4,5,6,7]\n",
    "conversion_list = map(square,new_list)\n",
    "print(conversion_list)\n",
    "print(list(conversion_list))\n"
   ]
  },
  {
   "cell_type": "markdown",
   "id": "9c11a37b-4247-4734-a44c-5dbb44e83b6f",
   "metadata": {},
   "source": [
    "# The filter() function in Python is a built-in function used to construct an iterator from elements of an iterable for which a function returns true. It offers a concise way to select specific items based on a given condition.\n",
    "# extract elements from an iterable (like a list, tuple or set) that satisfy a given condition.\n",
    "# It works by applying a function to each element and keeping only those for which function returns True.\n",
    "# filter(function, iterable)"
   ]
  },
  {
   "cell_type": "code",
   "execution_count": 3,
   "id": "f95030f6-0c36-4c9e-889b-10f3e0090b46",
   "metadata": {},
   "outputs": [
    {
     "name": "stdout",
     "output_type": "stream",
     "text": [
      "[1, 2, 3, 4, 5, 6, 7]\n",
      "[2, 4, 6]\n"
     ]
    }
   ],
   "source": [
    "new_list = [1,2,3,4,5,6,7]\n",
    "print(new_list)\n",
    "b = filter(square, new_list)\n",
    "print(list(b))"
   ]
  },
  {
   "cell_type": "code",
   "execution_count": null,
   "id": "4099fa10-63c1-4536-bc16-bbcd03573beb",
   "metadata": {},
   "outputs": [],
   "source": [
    "a = [1, 2, 3, 4, 5, 6]\n",
    "b = filter(lambda x: x % 2 == 0, a)\n",
    "b=list(b)\n",
    "print(b)\n",
    "c = map(lambda x: x * 2, b)\n",
    "print(c)\n",
    "print(list(c))"
   ]
  },
  {
   "cell_type": "code",
   "execution_count": null,
   "id": "912d3aee-8ce7-499b-b6ad-508dd193e3ee",
   "metadata": {},
   "outputs": [],
   "source": [
    "#filtering vowels\n",
    "\n",
    "letters = ['a', 'b', 'd', 'e', 'i', 'j', 'o']\n",
    "\n",
    "# a function that returns True if letter is vowel\n",
    "def filter_vowels(letter):\n",
    "    vowels = ['a', 'e', 'i', 'o', 'u']\n",
    "    if letter in vowels:\n",
    "        return True \n",
    "    else:\n",
    "        return False\n",
    "\n",
    "# selects only vowel elements\n",
    "filtered_vowels = filter(filter_vowels, letters)\n",
    "\n",
    "# converting to tuple\n",
    "vowels = tuple(filtered_vowels)\n",
    "print(vowels)\n",
    "\n",
    "# Output: ('a', 'e', 'i', 'o')\n",
    "Run Cod"
   ]
  },
  {
   "cell_type": "code",
   "execution_count": 13,
   "id": "f3f0e0d7-a172-4578-b97f-d6f8681514c1",
   "metadata": {},
   "outputs": [
    {
     "name": "stdout",
     "output_type": "stream",
     "text": [
      "* * * * * \n",
      "0 * * * 0 \n",
      "0 0 * 0 0 \n",
      "0 * * * 0 \n",
      "* * * * * \n"
     ]
    }
   ],
   "source": [
    "# Pattern\n",
    "n = 5\n",
    "\n",
    "for i in range(n):\n",
    "    for j in range(n):\n",
    "        if i == 0 or i == n-1:\n",
    "            print('*', end=' ')\n",
    "        elif j == n//2:  # Middle column\n",
    "            #print(j)\n",
    "            print('*', end=' ')\n",
    "        elif (i == 1 or i == n-2) and (j != 0 and j != n-1):\n",
    "            print('*', end=' ')\n",
    "        else:\n",
    "            print('0', end=' ')\n",
    "    print()\n"
   ]
  },
  {
   "cell_type": "code",
   "execution_count": null,
   "id": "48ec415c-800c-4533-b446-db836aed6f20",
   "metadata": {},
   "outputs": [],
   "source": []
  }
 ],
 "metadata": {
  "kernelspec": {
   "display_name": "Python 3 (ipykernel)",
   "language": "python",
   "name": "python3"
  },
  "language_info": {
   "codemirror_mode": {
    "name": "ipython",
    "version": 3
   },
   "file_extension": ".py",
   "mimetype": "text/x-python",
   "name": "python",
   "nbconvert_exporter": "python",
   "pygments_lexer": "ipython3",
   "version": "3.13.8"
  }
 },
 "nbformat": 4,
 "nbformat_minor": 5
}
