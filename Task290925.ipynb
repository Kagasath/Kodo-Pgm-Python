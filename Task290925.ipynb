{
 "cells": [
  {
   "cell_type": "markdown",
   "id": "623a4f69-8a39-468b-b57d-4e47d3badba5",
   "metadata": {},
   "source": [
    "# 1.Create a Book class with attributes like title, author, and price. Create 3 different book objects and print their attributes.\n"
   ]
  },
  {
   "cell_type": "code",
   "execution_count": 8,
   "id": "c10661bc-3c92-44ef-83e2-b4692cda0602",
   "metadata": {},
   "outputs": [
    {
     "name": "stdout",
     "output_type": "stream",
     "text": [
      "Book:wings of fire,Author:Abdul Kalam,Price:60\n",
      "Book:harry potter,Author:JK rowling,Price:80\n",
      "Book:Diary of a wimpy kid,Author:Ak,Price:40\n"
     ]
    }
   ],
   "source": [
    "class Book:\n",
    "    def __init__ (self,title,author,price):\n",
    "        self.title=title\n",
    "        self.author=author\n",
    "        self.price=price\n",
    "    def details(self):\n",
    "        print(f\"Book:{self.title},Author:{self.author},Price:{self.price}\")\n",
    "b1=Book(\"Wings of fire\",\"Abdul Kalam\",60)\n",
    "b2=Book(\"Harry potter\",\"JK rowling\",80)\n",
    "b3=Book(\"Diary of a wimpy kid\",\"Ak\",40)\n",
    "b1.details()\n",
    "b2.details()\n",
    "b3.details()\n"
   ]
  },
  {
   "cell_type": "markdown",
   "id": "b662aa3b-417c-4d59-9074-7b76c698b471",
   "metadata": {},
   "source": [
    "# Create a Student class with a constructor that takes name, age, and grade. Display student information using a method."
   ]
  },
  {
   "cell_type": "code",
   "execution_count": 2,
   "id": "abc84651-61cc-4ef3-b614-814bf2ddddf7",
   "metadata": {},
   "outputs": [
    {
     "name": "stdout",
     "output_type": "stream",
     "text": [
      "Name:Gayu Age:30 Grade:A\n"
     ]
    }
   ],
   "source": [
    "class Student:\n",
    "    def __init__ (self,name,age,grade):\n",
    "        self.n=name\n",
    "        self.a=age\n",
    "        self.g=grade\n",
    "    def details(self):\n",
    "        print(f\"Name:{self.n} Age:{self.a} Grade:{self.g}\")\n",
    "s=Student(\"Gayu\",30,\"A\")\n",
    "s.details()\n"
   ]
  },
  {
   "cell_type": "markdown",
   "id": "15d5604c-fde2-49fb-b400-ed13b12bd671",
   "metadata": {},
   "source": [
    "# Create a BankAccount class with a private balance attribute. Provide methods to deposit, withdraw, and check balance."
   ]
  },
  {
   "cell_type": "code",
   "execution_count": 14,
   "id": "1cb0fa8a-ef41-4e21-adab-c3f26711980e",
   "metadata": {},
   "outputs": [
    {
     "name": "stdout",
     "output_type": "stream",
     "text": [
      "The new balance is: 33000\n",
      "The new balance is: 30000\n",
      "The new balance is: 30000\n"
     ]
    }
   ],
   "source": [
    "#1method\n",
    "class BankAccount:\n",
    "    def __init__ (self,name,balance):\n",
    "        self.n=name\n",
    "        self.__b=balance\n",
    "    def deposit(self):\n",
    "        self.__b= self.__b+self.amount\n",
    "        print(\"The new balance is:\",self.__b)\n",
    "    def withdraw(self):\n",
    "        self.__b= self.__b-self.wdraw\n",
    "        print(\"The new balance is:\",self.__b)\n",
    "    def checkbal(self):\n",
    "        print(\"The new balance is:\",self.__b)\n",
    "bank=BankAccount(\"Gayu\",30000)\n",
    "setattr(bank,'amount',3000)\n",
    "bank.deposit()\n",
    "setattr(bank,'wdraw',3000)\n",
    "bank.withdraw()\n",
    "bank.checkbal()"
   ]
  },
  {
   "cell_type": "code",
   "execution_count": 15,
   "id": "faac1cea-7d59-472c-8297-745d4e49a972",
   "metadata": {},
   "outputs": [
    {
     "name": "stdout",
     "output_type": "stream",
     "text": [
      "The new balance is: 32500\n"
     ]
    }
   ],
   "source": [
    "class BankAccount:\n",
    "    def __init__(self, name, balance):\n",
    "        self.n = name\n",
    "        self.__b = balance \n",
    "    def deposit(self, amount): \n",
    "        self.__b += amount\n",
    "        print(\"The new balance is:\", self.__b)\n",
    "bank = BankAccount(\"Gayu\", 30000)\n",
    "bank.deposit(2500)   \n"
   ]
  },
  {
   "cell_type": "markdown",
   "id": "9fee41d6-39cf-4a08-aa48-705d3a3660e8",
   "metadata": {},
   "source": [
    "# Write a function that divides two numbers and handles ZeroDivisionError if the denominator is zero."
   ]
  },
  {
   "cell_type": "code",
   "execution_count": 18,
   "id": "008db001-d56d-4895-a1c7-0d88fdb46f8e",
   "metadata": {},
   "outputs": [
    {
     "name": "stdin",
     "output_type": "stream",
     "text": [
      "Enter the number g\n"
     ]
    },
    {
     "name": "stdout",
     "output_type": "stream",
     "text": [
      "ValueError:Enter the valid input:\n"
     ]
    }
   ],
   "source": [
    "try:\n",
    "    n= int(input(\"Enter the number\"))\n",
    "    d= int(input(\"Enter the number\"))\n",
    "    value=n/d\n",
    "    print(value)\n",
    "except ValueError:           #exception using ValueError function\n",
    "    print(\"ValueError:Enter the valid input:\")\n",
    "except ZeroDivisionError:           #exception using ZeroError function\n",
    "    print(\"ZeroDivisionError:Enter the valid input:\")"
   ]
  },
  {
   "cell_type": "markdown",
   "id": "a46e7455-bdbb-415a-a65a-3cbb3477a48e",
   "metadata": {},
   "source": [
    "# Define a custom exception NegativeValueError and raise it if the user enters a negative number for age."
   ]
  },
  {
   "cell_type": "code",
   "execution_count": 19,
   "id": "b531f00a-36fd-45ee-906a-b8f09c6bb03d",
   "metadata": {},
   "outputs": [
    {
     "name": "stdin",
     "output_type": "stream",
     "text": [
      "Enter the number -7\n"
     ]
    },
    {
     "name": "stdout",
     "output_type": "stream",
     "text": [
      "ValueError: Given number is negative\n"
     ]
    }
   ],
   "source": [
    "try:\n",
    "    n= int(input(\"Enter the number\"))\n",
    "    if n>0:\n",
    "        print(\"Entered number is positive\")\n",
    "    else:\n",
    "        raise ValueError(\"Given number is negative\")\n",
    "except ValueError as VE:       \n",
    "    print(\"ValueError:\",VE)\n",
    "except Exception as e:     \n",
    "    print(\"invalid input\")"
   ]
  },
  {
   "cell_type": "markdown",
   "id": "eaa66ed3-d031-4c96-bd29-2c73488afed4",
   "metadata": {},
   "source": [
    "# Write a function show_shape_area() that accepts any shape object (e.g., Circle, Square) and calls its area() method."
   ]
  },
  {
   "cell_type": "code",
   "execution_count": 24,
   "id": "0de7f2fa-f78a-411c-9204-067af769d5ac",
   "metadata": {},
   "outputs": [
    {
     "data": {
      "text/plain": [
       "25"
      ]
     },
     "execution_count": 24,
     "metadata": {},
     "output_type": "execute_result"
    }
   ],
   "source": [
    "class Area:\n",
    "    def __init__(self,area=0):\n",
    "        self.a = area \n",
    "    def c_area(self,radius): \n",
    "        self.a= 3.14*radius*radius\n",
    "        return self.a\n",
    "    def sq_area(self,side):\n",
    "        self.a= side*side\n",
    "        return self.a\n",
    "value = Area()\n",
    "value.c_area(2.5)\n",
    "value.sq_area(5)\n"
   ]
  },
  {
   "cell_type": "markdown",
   "id": "e7e21d28-eafc-45c6-b9b8-a56db7886f5c",
   "metadata": {},
   "source": [
    "# Create a Person class with both default and parameterized constructors. Demonstrate usage with two objects."
   ]
  },
  {
   "cell_type": "code",
   "execution_count": 35,
   "id": "974c1fec-a4ce-4a43-bb7a-2e29b437d149",
   "metadata": {},
   "outputs": [
    {
     "name": "stdout",
     "output_type": "stream",
     "text": [
      "name: hhh\n",
      "name: ggg\n"
     ]
    }
   ],
   "source": [
    "class Person:\n",
    "    def __init__(self,name='hhh'):\n",
    "        self.name=name\n",
    "    def print(self):\n",
    "        print(\"name:\",self.name)\n",
    "p=Person()\n",
    "p.print()\n",
    "p=Person(\"ggg\")\n",
    "p.print()"
   ]
  },
  {
   "cell_type": "markdown",
   "id": "4b3ec054-0a12-4af1-a559-2696f4fd569b",
   "metadata": {},
   "source": [
    "# Create a Car class with attributes make, model, and year. Instantiate 5 different car objects and store them in a list."
   ]
  },
  {
   "cell_type": "code",
   "execution_count": 37,
   "id": "362d89cb-db50-4464-9cd3-0e8b170104ca",
   "metadata": {},
   "outputs": [
    {
     "name": "stdout",
     "output_type": "stream",
     "text": [
      "['BMW', 155, 2021]\n",
      "['Ford', 678, 2025]\n",
      "['Hondaa', 68, 2021]\n",
      "['Hyundai', 789, 2000]\n",
      "['Benz', 679, 2011]\n"
     ]
    }
   ],
   "source": [
    "class Car:\n",
    "    def __init__(self,make,model,year):\n",
    "        self.make= make\n",
    "        self.model=model\n",
    "        self.year=year\n",
    "    def print(self):\n",
    "        L=[]\n",
    "        L.append(self.make)\n",
    "        L.append(self.model)\n",
    "        L.append(self.year)\n",
    "        print(L)\n",
    "c1=Car('BMW',155,2021)\n",
    "c1.print()\n",
    "c2=Car('Ford',678,2025)\n",
    "c2.print()\n",
    "c3=Car('Hondaa',68,2021)\n",
    "c3.print()\n",
    "c4=Car('Hyundai',789,2000)\n",
    "c4.print()\n",
    "c5=Car('Benz',679,2011)\n",
    "c5.print()"
   ]
  },
  {
   "cell_type": "markdown",
   "id": "f87b3f98-c241-4f46-9635-58652d354644",
   "metadata": {},
   "source": [
    "# In a Calculator class, create methods add(), subtract(), and display_result() that calls other methods based on user choice."
   ]
  },
  {
   "cell_type": "code",
   "execution_count": null,
   "id": "fc25d618-3a23-48ca-ba5a-bae1ffeedd2a",
   "metadata": {},
   "outputs": [],
   "source": [
    "class Calculator:\n",
    "    def add(self, a, b):\n",
    "        return a + b\n",
    "\n",
    "    def subtract(self, a, b):\n",
    "        return a - b\n",
    "\n",
    "    def display_result(self):\n",
    "        print(\"Select operation:\")\n",
    "        print(\"1. Add\")\n",
    "        print(\"2. Subtract\")\n",
    "\n",
    "        choice = input(\"Enter choice (1/2): \")\n",
    "\n",
    "        a = float(input(\"Enter first number: \"))\n",
    "        b = float(input(\"Enter second number: \"))\n",
    "\n",
    "        if choice == '1':\n",
    "            result = self.add(a, b)\n",
    "            print(f\"Result: {a} + {b} = {result}\")\n",
    "        elif choice == '2':\n",
    "            result = self.subtract(a, b)\n",
    "            print(f\"Result: {a} - {b} = {result}\")\n",
    "        else:\n",
    "            print(\"Invalid choice! Please enter 1 or 2.\")\n",
    "\n",
    "\n",
    "# Example usage\n",
    "calc = Calculator()\n",
    "calc.display_result()"
   ]
  },
  {
   "cell_type": "markdown",
   "id": "11db3966-fcb5-47aa-87e6-2e4000ebfaa1",
   "metadata": {},
   "source": [
    "# Write a function employee_details(*args, **kwargs) that takes employee ID and any number of keyword attributes (like name, dept, salary) and displays all."
   ]
  },
  {
   "cell_type": "markdown",
   "id": "a3bcfe7d-e8b1-4f36-b352-e2b6eea86718",
   "metadata": {},
   "source": [
    "# Create a TemperatureConverter class. Add method to_fahrenheit(celsius) that raises a ValueError if input is below -273.15°C (absolute zero)."
   ]
  },
  {
   "cell_type": "code",
   "execution_count": null,
   "id": "9ab5ec2b-78b1-4b74-88ef-2b46c522d897",
   "metadata": {},
   "outputs": [],
   "source": [
    "class TemperatureConverter:\n",
    "    def to_fahrenheit(self, celsius):\n",
    "        # Absolute zero check\n",
    "        if celsius < -273.15:\n",
    "            raise ValueError(\"Temperature cannot be below -273.15°C (absolute zero).\")\n",
    "        \n",
    "        fahrenheit = (celsius * 9/5) + 32\n",
    "        return fahrenheit\n",
    "converter = TemperatureConverter()\n",
    "try:\n",
    "    print(converter.to_fahrenheit(25))      \n",
    "    print(converter.to_fahrenheit(-300))    \n",
    "except ValueError as e:\n",
    "    print(e)\n",
    " "
   ]
  }
 ],
 "metadata": {
  "kernelspec": {
   "display_name": "Python 3 (ipykernel)",
   "language": "python",
   "name": "python3"
  },
  "language_info": {
   "codemirror_mode": {
    "name": "ipython",
    "version": 3
   },
   "file_extension": ".py",
   "mimetype": "text/x-python",
   "name": "python",
   "nbconvert_exporter": "python",
   "pygments_lexer": "ipython3",
   "version": "3.13.8"
  }
 },
 "nbformat": 4,
 "nbformat_minor": 5
}
