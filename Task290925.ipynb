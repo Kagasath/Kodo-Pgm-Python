{
 "cells": [
  {
   "cell_type": "markdown",
   "id": "623a4f69-8a39-468b-b57d-4e47d3badba5",
   "metadata": {},
   "source": [
    "# 1.Create a Book class with attributes like title, author, and price. Create 3 different book objects and print their attributes.\n"
   ]
  },
  {
   "cell_type": "code",
   "execution_count": 8,
   "id": "c10661bc-3c92-44ef-83e2-b4692cda0602",
   "metadata": {},
   "outputs": [
    {
     "name": "stdout",
     "output_type": "stream",
     "text": [
      "Book:wings of fire,Author:Abdul Kalam,Price:60\n",
      "Book:harry potter,Author:JK rowling,Price:80\n",
      "Book:Diary of a wimpy kid,Author:Ak,Price:40\n"
     ]
    }
   ],
   "source": [
    "class Book:\n",
    "    def __init__ (self,title,author,price):\n",
    "        self.title=title\n",
    "        self.author=author\n",
    "        self.price=price\n",
    "    def details(self):\n",
    "        print(f\"Book:{self.title},Author:{self.author},Price:{self.price}\")\n",
    "b1=Book(\"Wings of fire\",\"Abdul Kalam\",60)\n",
    "b2=Book(\"Harry potter\",\"JK rowling\",80)\n",
    "b3=Book(\"Diary of a wimpy kid\",\"Ak\",40)\n",
    "b1.details()\n",
    "b2.details()\n",
    "b3.details()\n"
   ]
  },
  {
   "cell_type": "code",
   "execution_count": null,
   "id": "e5244430-7c30-418f-92de-d3198635a68b",
   "metadata": {},
   "outputs": [],
   "source": []
  }
 ],
 "metadata": {
  "kernelspec": {
   "display_name": "Python 3 (ipykernel)",
   "language": "python",
   "name": "python3"
  },
  "language_info": {
   "codemirror_mode": {
    "name": "ipython",
    "version": 3
   },
   "file_extension": ".py",
   "mimetype": "text/x-python",
   "name": "python",
   "nbconvert_exporter": "python",
   "pygments_lexer": "ipython3",
   "version": "3.13.7"
  }
 },
 "nbformat": 4,
 "nbformat_minor": 5
}
