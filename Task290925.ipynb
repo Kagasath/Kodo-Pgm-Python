{
 "cells": [
  {
   "cell_type": "markdown",
   "id": "623a4f69-8a39-468b-b57d-4e47d3badba5",
   "metadata": {},
   "source": [
    "# 1.Create a Book class with attributes like title, author, and price. Create 3 different book objects and print their attributes.\n"
   ]
  },
  {
   "cell_type": "code",
   "execution_count": 8,
   "id": "c10661bc-3c92-44ef-83e2-b4692cda0602",
   "metadata": {},
   "outputs": [
    {
     "name": "stdout",
     "output_type": "stream",
     "text": [
      "Book:wings of fire,Author:Abdul Kalam,Price:60\n",
      "Book:harry potter,Author:JK rowling,Price:80\n",
      "Book:Diary of a wimpy kid,Author:Ak,Price:40\n"
     ]
    }
   ],
   "source": [
    "class Book:\n",
    "    def __init__ (self,title,author,price):\n",
    "        self.title=title\n",
    "        self.author=author\n",
    "        self.price=price\n",
    "    def details(self):\n",
    "        print(f\"Book:{self.title},Author:{self.author},Price:{self.price}\")\n",
    "b1=Book(\"Wings of fire\",\"Abdul Kalam\",60)\n",
    "b2=Book(\"Harry potter\",\"JK rowling\",80)\n",
    "b3=Book(\"Diary of a wimpy kid\",\"Ak\",40)\n",
    "b1.details()\n",
    "b2.details()\n",
    "b3.details()\n"
   ]
  },
  {
   "cell_type": "markdown",
   "id": "b662aa3b-417c-4d59-9074-7b76c698b471",
   "metadata": {},
   "source": [
    "# Create a Student class with a constructor that takes name, age, and grade. Display student information using a method."
   ]
  },
  {
   "cell_type": "code",
   "execution_count": 2,
   "id": "abc84651-61cc-4ef3-b614-814bf2ddddf7",
   "metadata": {},
   "outputs": [
    {
     "name": "stdout",
     "output_type": "stream",
     "text": [
      "Name:Gayu Age:30 Grade:A\n"
     ]
    }
   ],
   "source": [
    "class Student:\n",
    "    def __init__ (self,name,age,grade):\n",
    "        self.n=name\n",
    "        self.a=age\n",
    "        self.g=grade\n",
    "    def details(self):\n",
    "        print(f\"Name:{self.n} Age:{self.a} Grade:{self.g}\")\n",
    "s=Student(\"Gayu\",30,\"A\")\n",
    "s.details()\n"
   ]
  },
  {
   "cell_type": "markdown",
   "id": "15d5604c-fde2-49fb-b400-ed13b12bd671",
   "metadata": {},
   "source": [
    "# Create a BankAccount class with a private balance attribute. Provide methods to deposit, withdraw, and check balance."
   ]
  },
  {
   "cell_type": "markdown",
   "id": "9fee41d6-39cf-4a08-aa48-705d3a3660e8",
   "metadata": {},
   "source": [
    "# Write a function that divides two numbers and handles ZeroDivisionError if the denominator is zero."
   ]
  },
  {
   "cell_type": "markdown",
   "id": "a46e7455-bdbb-415a-a65a-3cbb3477a48e",
   "metadata": {},
   "source": [
    "# Define a custom exception NegativeValueError and raise it if the user enters a negative number for age."
   ]
  },
  {
   "cell_type": "markdown",
   "id": "eaa66ed3-d031-4c96-bd29-2c73488afed4",
   "metadata": {},
   "source": [
    "# Write a function show_shape_area() that accepts any shape object (e.g., Circle, Square) and calls its area() method."
   ]
  },
  {
   "cell_type": "markdown",
   "id": "e7e21d28-eafc-45c6-b9b8-a56db7886f5c",
   "metadata": {},
   "source": [
    "# Create a Person class with both default and parameterized constructors. Demonstrate usage with two objects."
   ]
  },
  {
   "cell_type": "markdown",
   "id": "4b3ec054-0a12-4af1-a559-2696f4fd569b",
   "metadata": {},
   "source": [
    "# Create a Car class with attributes make, model, and year. Instantiate 5 different car objects and store them in a list."
   ]
  },
  {
   "cell_type": "markdown",
   "id": "f87b3f98-c241-4f46-9635-58652d354644",
   "metadata": {},
   "source": [
    "# In a Calculator class, create methods add(), subtract(), and display_result() that calls other methods based on user choice."
   ]
  },
  {
   "cell_type": "markdown",
   "id": "11db3966-fcb5-47aa-87e6-2e4000ebfaa1",
   "metadata": {},
   "source": [
    "# Write a function employee_details(*args, **kwargs) that takes employee ID and any number of keyword attributes (like name, dept, salary) and displays all."
   ]
  },
  {
   "cell_type": "markdown",
   "id": "a3bcfe7d-e8b1-4f36-b352-e2b6eea86718",
   "metadata": {},
   "source": [
    "# Create a TemperatureConverter class. Add method to_fahrenheit(celsius) that raises a ValueError if input is below -273.15°C (absolute zero)."
   ]
  }
 ],
 "metadata": {
  "kernelspec": {
   "display_name": "Python 3 (ipykernel)",
   "language": "python",
   "name": "python3"
  },
  "language_info": {
   "codemirror_mode": {
    "name": "ipython",
    "version": 3
   },
   "file_extension": ".py",
   "mimetype": "text/x-python",
   "name": "python",
   "nbconvert_exporter": "python",
   "pygments_lexer": "ipython3",
   "version": "3.13.7"
  }
 },
 "nbformat": 4,
 "nbformat_minor": 5
}
