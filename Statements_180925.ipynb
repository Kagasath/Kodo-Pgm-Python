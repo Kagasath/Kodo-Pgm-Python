{
 "cells": [
  {
   "cell_type": "markdown",
   "id": "3c74ebb7-a87b-475d-baed-0659d988059e",
   "metadata": {},
   "source": [
    "# Conditional statement\n",
    "## if"
   ]
  },
  {
   "cell_type": "code",
   "execution_count": 4,
   "id": "8fac9000-2dbd-4891-bfcf-b0b930969324",
   "metadata": {},
   "outputs": [
    {
     "name": "stdout",
     "output_type": "stream",
     "text": [
      "hi\n"
     ]
    },
    {
     "name": "stdin",
     "output_type": "stream",
     "text": [
      "enter your age: 23\n"
     ]
    },
    {
     "name": "stdout",
     "output_type": "stream",
     "text": [
      "hi\n"
     ]
    },
    {
     "name": "stdin",
     "output_type": "stream",
     "text": [
      "enter your age: 23\n"
     ]
    },
    {
     "name": "stdout",
     "output_type": "stream",
     "text": [
      "hi\n"
     ]
    }
   ],
   "source": [
    "age1=\"\"\n",
    "if age1:\n",
    "    print(\"hi\")\n",
    "age1=\"1\"\n",
    "if age1:\n",
    "    print(\"hi\")\n",
    "age1=input(\"enter your age:\")\n",
    "if age1:\n",
    "    print(\"hi\")\n",
    "age1=int(input(\"enter your age:\"))\n",
    "if age1:\n",
    "    print(\"hi\")"
   ]
  },
  {
   "cell_type": "markdown",
   "id": "346e8e0d-8dc0-4d01-b5da-427b1d1c458c",
   "metadata": {},
   "source": [
    "# calculating string length"
   ]
  },
  {
   "cell_type": "code",
   "execution_count": 5,
   "id": "3cd63946-d2c1-4cbc-b9cc-4ec3966b49fc",
   "metadata": {},
   "outputs": [
    {
     "name": "stdin",
     "output_type": "stream",
     "text": [
      "enter your name: gayathri\n"
     ]
    },
    {
     "name": "stdout",
     "output_type": "stream",
     "text": [
      "8\n"
     ]
    }
   ],
   "source": [
    "name= input(\"enter your name:\")\n",
    "print(len(name))"
   ]
  },
  {
   "cell_type": "markdown",
   "id": "7aafac18-0c5d-4dcf-9a01-b5db1ec1a643",
   "metadata": {},
   "source": [
    "# if else statement"
   ]
  },
  {
   "cell_type": "code",
   "execution_count": 7,
   "id": "52685e3e-eab4-4ad3-bff1-14f6c3ca6c28",
   "metadata": {},
   "outputs": [
    {
     "name": "stdout",
     "output_type": "stream",
     "text": [
      "you are eligible\n"
     ]
    }
   ],
   "source": [
    "age=18\n",
    "if age>=18:\n",
    "    print(\"you are eligible\")\n",
    "else:\n",
    "    print(\"you are not eligible\")"
   ]
  },
  {
   "cell_type": "markdown",
   "id": "f42428d1-8526-4be9-944a-9c4d0a084592",
   "metadata": {},
   "source": [
    "# elif"
   ]
  },
  {
   "cell_type": "code",
   "execution_count": 8,
   "id": "e2607eec-a5db-4135-a91d-76f851cde2ee",
   "metadata": {},
   "outputs": [
    {
     "name": "stdout",
     "output_type": "stream",
     "text": [
      "Your grade is A\n"
     ]
    }
   ],
   "source": [
    "TMarks = 450\n",
    "grade=(TMarks/500)*100\n",
    "if(TMarks/500)*100>80:\n",
    "    print(\"Your grade is A\")\n",
    "elif(TMarks/500)*100>50:\n",
    "    print(\"Your grade is B\")\n",
    "else:\n",
    "    print(\"Your grade is C\")"
   ]
  },
  {
   "cell_type": "markdown",
   "id": "9a2d0eed-31a5-448f-8cb5-03770da889f7",
   "metadata": {},
   "source": [
    "# Nested if"
   ]
  },
  {
   "cell_type": "code",
   "execution_count": 9,
   "id": "0021b83a-879a-49f6-a55c-7ab87dd86426",
   "metadata": {},
   "outputs": [
    {
     "name": "stdout",
     "output_type": "stream",
     "text": [
      "Passed\n",
      "Grade:A\n"
     ]
    }
   ],
   "source": [
    "score = 85\n",
    "if score>=40:\n",
    "    print(\"Passed\")\n",
    "    if score>=80:\n",
    "        print(\"Grade:A\")\n",
    "    elif score>=65:\n",
    "        print(\"Grade:B\")\n",
    "    else:\n",
    "         print(\"Grade:C\")\n",
    "else:\n",
    "    print(\"You failed\")"
   ]
  },
  {
   "cell_type": "markdown",
   "id": "e3b7662d-066c-49a1-b8e4-b1351bc48795",
   "metadata": {},
   "source": [
    "# LOOP"
   ]
  },
  {
   "cell_type": "markdown",
   "id": "05963611-7613-45ac-8d50-be6921826b4a",
   "metadata": {},
   "source": [
    "# for loop"
   ]
  },
  {
   "cell_type": "code",
   "execution_count": 12,
   "id": "c6f9c04f-da49-40ac-8078-f61f3fa25200",
   "metadata": {},
   "outputs": [
    {
     "name": "stdin",
     "output_type": "stream",
     "text": [
      "Enter your name: thalini\n"
     ]
    },
    {
     "name": "stdout",
     "output_type": "stream",
     "text": [
      "7\n",
      "0\n",
      "thalini\n",
      "1\n",
      "thalini\n",
      "2\n",
      "thalini\n",
      "3\n",
      "thalini\n",
      "4\n",
      "thalini\n",
      "5\n",
      "thalini\n",
      "6\n",
      "thalini\n"
     ]
    }
   ],
   "source": [
    "user_name = input(\"Enter your name:\")\n",
    "print(len(user_name))\n",
    "for i in range(len(user_name)):\n",
    "    print(i)\n",
    "    print(user_name)"
   ]
  },
  {
   "cell_type": "code",
   "execution_count": 13,
   "id": "5f71cdbb-3a6c-45c6-bd4c-3002421db3c6",
   "metadata": {},
   "outputs": [
    {
     "name": "stdout",
     "output_type": "stream",
     "text": [
      "0\n",
      "2\n",
      "4\n",
      "6\n",
      "8\n"
     ]
    }
   ],
   "source": [
    "for i in range(0,10,2):\n",
    "    print(i)"
   ]
  },
  {
   "cell_type": "code",
   "execution_count": 14,
   "id": "fd14d4d0-22c8-4589-8be1-9e33abf7c50b",
   "metadata": {},
   "outputs": [
    {
     "name": "stdout",
     "output_type": "stream",
     "text": [
      "2\n",
      "4\n"
     ]
    }
   ],
   "source": [
    "for i in range(1,5):\n",
    "    if i%2==0:\n",
    "        print(i)"
   ]
  },
  {
   "cell_type": "code",
   "execution_count": 13,
   "id": "7974912c-bb45-40c0-8004-db5aa9cf1d38",
   "metadata": {},
   "outputs": [
    {
     "name": "stdout",
     "output_type": "stream",
     "text": [
      "1\n",
      "3\n"
     ]
    }
   ],
   "source": [
    "for i in range(1,5):\n",
    "    if i%2==0:\n",
    "        continue\n",
    "    print(i)"
   ]
  },
  {
   "cell_type": "markdown",
   "id": "79e624bb-5f21-4135-b023-c3e1c3fed891",
   "metadata": {},
   "source": [
    "# While loop"
   ]
  },
  {
   "cell_type": "code",
   "execution_count": 1,
   "id": "eaa9d7fd-8563-4705-a35d-be4de30ce655",
   "metadata": {},
   "outputs": [
    {
     "name": "stdout",
     "output_type": "stream",
     "text": [
      "Hello\n",
      "Hello\n",
      "Hello\n",
      "Hi\n"
     ]
    }
   ],
   "source": [
    "count=6\n",
    "while count>3:\n",
    "    count=count-1\n",
    "    print(\"Hello\")\n",
    "count=1\n",
    "while count==True:\n",
    "    print(\"Hi\")\n",
    "    break"
   ]
  },
  {
   "cell_type": "code",
   "execution_count": 2,
   "id": "8ba9d71f-b53f-48e0-948d-73b65c9899e4",
   "metadata": {},
   "outputs": [
    {
     "name": "stdout",
     "output_type": "stream",
     "text": [
      "Hi\n"
     ]
    }
   ],
   "source": [
    "while True:\n",
    "    print(\"Hi\")\n",
    "    break"
   ]
  },
  {
   "cell_type": "code",
   "execution_count": 17,
   "id": "62e126e4-4377-4b99-b48c-8ec3e7dc3b7e",
   "metadata": {},
   "outputs": [
    {
     "name": "stdout",
     "output_type": "stream",
     "text": [
      "1\n",
      "hello\n",
      "2\n",
      "hello\n",
      "3\n",
      "hello\n",
      "4\n",
      "hello\n",
      "5\n",
      "hello\n",
      "6\n",
      "hello\n",
      "7\n",
      "hello\n",
      "8\n",
      "hello\n",
      "9\n",
      "hello\n",
      "10\n",
      "hello\n"
     ]
    }
   ],
   "source": [
    "count = 10\n",
    "value = 0\n",
    "while True:\n",
    "    value+=1\n",
    "    print(value)\n",
    "    print(\"hello\")\n",
    "    if value==count:\n",
    "        break"
   ]
  },
  {
   "cell_type": "code",
   "execution_count": null,
   "id": "a4e4da04-4cfb-4b9d-b9c2-3d20f66aa234",
   "metadata": {},
   "outputs": [],
   "source": []
  }
 ],
 "metadata": {
  "kernelspec": {
   "display_name": "Python 3 (ipykernel)",
   "language": "python",
   "name": "python3"
  },
  "language_info": {
   "codemirror_mode": {
    "name": "ipython",
    "version": 3
   },
   "file_extension": ".py",
   "mimetype": "text/x-python",
   "name": "python",
   "nbconvert_exporter": "python",
   "pygments_lexer": "ipython3",
   "version": "3.13.8"
  }
 },
 "nbformat": 4,
 "nbformat_minor": 5
}
